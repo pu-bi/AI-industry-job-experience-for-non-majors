{
  "cells": [
    {
      "cell_type": "markdown",
      "metadata": {
        "id": "view-in-github",
        "colab_type": "text"
      },
      "source": [
        "<a href=\"https://colab.research.google.com/github/pu-bi/AI-industry-job-experience-for-non-majors/blob/main/3-BERT/Flask.ipynb\" target=\"_parent\"><img src=\"https://colab.research.google.com/assets/colab-badge.svg\" alt=\"Open In Colab\"/></a>"
      ]
    },
    {
      "cell_type": "markdown",
      "metadata": {
        "id": "4Mlbhmy-h5Us"
      },
      "source": [
        "# Flask 연습 및 실습 코드"
      ]
    },
    {
      "cell_type": "markdown",
      "source": [
        "## Flask 설치\n",
        "로컬 환경에서는 flask만 설치해 주면 가능하지만, colab이라는 특수 환경에서는 flask-ngrok을 추가적으로 설치 해 주어야 합니다."
      ],
      "metadata": {
        "id": "4FDBP7dBoxDF"
      }
    },
    {
      "cell_type": "code",
      "execution_count": null,
      "metadata": {
        "colab": {
          "base_uri": "https://localhost:8080/"
        },
        "id": "YviM8dRKGMuJ",
        "outputId": "461ae9ba-f52a-47c9-fb66-674fb074a854"
      },
      "outputs": [
        {
          "output_type": "stream",
          "name": "stdout",
          "text": [
            "Completed!\n"
          ]
        }
      ],
      "source": [
        "!pip install flask --quiet\n",
        "!pip install flask-ngrok --quiet\n",
        "print(\"Completed!\")"
      ]
    },
    {
      "cell_type": "code",
      "execution_count": null,
      "metadata": {
        "colab": {
          "base_uri": "https://localhost:8080/"
        },
        "id": "Bt6adqccrleE",
        "outputId": "a624a523-e119-4648-8a8c-5c2fff15b20b"
      },
      "outputs": [
        {
          "output_type": "stream",
          "name": "stdout",
          "text": [
            "--2022-11-19 00:32:52--  https://bin.equinox.io/c/4VmDzA7iaHb/ngrok-stable-linux-amd64.tgz\n",
            "Resolving bin.equinox.io (bin.equinox.io)... 52.202.168.65, 54.161.241.46, 18.205.222.128, ...\n",
            "Connecting to bin.equinox.io (bin.equinox.io)|52.202.168.65|:443... connected.\n",
            "HTTP request sent, awaiting response... 200 OK\n",
            "Length: 13770165 (13M) [application/octet-stream]\n",
            "Saving to: ‘ngrok-stable-linux-amd64.tgz’\n",
            "\n",
            "ngrok-stable-linux- 100%[===================>]  13.13M  39.7MB/s    in 0.3s    \n",
            "\n",
            "2022-11-19 00:32:52 (39.7 MB/s) - ‘ngrok-stable-linux-amd64.tgz’ saved [13770165/13770165]\n",
            "\n"
          ]
        }
      ],
      "source": [
        "# ngrok website에서 linux 버전 ngrok 설치 - https://dashboard.ngrok.com/get-started/setup\n",
        "\n",
        "!wget https://bin.equinox.io/c/4VmDzA7iaHb/ngrok-stable-linux-amd64.tgz"
      ]
    },
    {
      "cell_type": "code",
      "execution_count": null,
      "metadata": {
        "colab": {
          "base_uri": "https://localhost:8080/"
        },
        "id": "HjXgK2knrn7E",
        "outputId": "2785d60f-f603-4b23-fa10-8f44b7464a85"
      },
      "outputs": [
        {
          "output_type": "stream",
          "name": "stdout",
          "text": [
            "ngrok\n"
          ]
        }
      ],
      "source": [
        "# linux ngrok을 설치 후 압축을 풀어주는 과정\n",
        "\n",
        "!tar -xvf /content/ngrok-stable-linux-amd64.tgz"
      ]
    },
    {
      "cell_type": "markdown",
      "source": [
        "ngrok flask를 사용하기 위해서는 자신의 계정 생성이 필요합니다.\n",
        "\n",
        "https://ngrok.com/\n",
        "\n",
        "위 주소로 접속하여 계정 생성 후 자신의 Authtoken을 찾아줍니다."
      ],
      "metadata": {
        "id": "mFog0FNyoXra"
      }
    },
    {
      "cell_type": "code",
      "execution_count": null,
      "metadata": {
        "colab": {
          "base_uri": "https://localhost:8080/"
        },
        "id": "K6bjHKYRrqEp",
        "outputId": "15d4ac91-bac0-43c1-ad63-0358124a65df"
      },
      "outputs": [
        {
          "output_type": "stream",
          "name": "stdout",
          "text": [
            "Authtoken saved to configuration file: /root/.ngrok2/ngrok.yml\n"
          ]
        }
      ],
      "source": [
        "# ngrok 홈페이지 계정 생성 후 자신의 Authtoken을 입력해 주어야 사용 가능\n",
        "\n",
        "!./ngrok authtoken \"\""
      ]
    },
    {
      "cell_type": "code",
      "execution_count": null,
      "metadata": {
        "id": "6VlTEFD8G9G2"
      },
      "outputs": [],
      "source": [
        "# import Flask from flask module\n",
        "from flask import Flask\n",
        "\n",
        "# import run_with_ngrok from flask_ngrok to run the app using ngrok\n",
        "from flask_ngrok import run_with_ngrok"
      ]
    },
    {
      "cell_type": "markdown",
      "source": [
        "# Flask 시작하기\n",
        "내가 만든 웹사이트 접속하기"
      ],
      "metadata": {
        "id": "wbSJybZkqaxB"
      }
    },
    {
      "cell_type": "code",
      "execution_count": null,
      "metadata": {
        "id": "6mZQEGK4N0xN",
        "colab": {
          "base_uri": "https://localhost:8080/"
        },
        "outputId": "6e427b4c-6af3-4b5f-dbbf-6e6139fee40c"
      },
      "outputs": [
        {
          "output_type": "stream",
          "name": "stdout",
          "text": [
            " * Serving Flask app \"__main__\" (lazy loading)\n",
            " * Environment: production\n",
            "\u001b[31m   WARNING: This is a development server. Do not use it in a production deployment.\u001b[0m\n",
            "\u001b[2m   Use a production WSGI server instead.\u001b[0m\n",
            " * Debug mode: off\n"
          ]
        },
        {
          "output_type": "stream",
          "name": "stderr",
          "text": [
            "INFO:werkzeug: * Running on http://127.0.0.1:5000/ (Press CTRL+C to quit)\n"
          ]
        },
        {
          "output_type": "stream",
          "name": "stdout",
          "text": [
            " * Running on http://9f62-35-239-113-231.ngrok.io\n",
            " * Traffic stats available on http://127.0.0.1:4040\n"
          ]
        }
      ],
      "source": [
        "app = Flask(__name__)\n",
        "run_with_ngrok(app)\n",
        "\n",
        "@app.route('/')\n",
        "def home():\n",
        "     return f\"<h1>Welcome to Flask World<h1/>\"\n",
        "\n",
        "app.run()"
      ]
    },
    {
      "cell_type": "markdown",
      "source": [
        "## Routing\n",
        "폴더 내에 파일 주소를 할당하듯이 각각 routing된 url 하나를 하나의 HTML파일로 생각해서 진행하게 됩니다. \n",
        "\n",
        "이 부분에서 각각의 정의된 함수와 그 output을 HTML형식의 출력물로 내보내 주어 파일을 만들 수 있고 그 과정에서의 변수를 꺽쇠를 이용하여 입력값으로 사용할 수 있습니다."
      ],
      "metadata": {
        "id": "hZ3p4W5MqgOA"
      }
    },
    {
      "cell_type": "code",
      "execution_count": null,
      "metadata": {
        "id": "6p-JyPkCs1w7",
        "colab": {
          "base_uri": "https://localhost:8080/"
        },
        "outputId": "5c07f974-dfb5-4e10-ffd4-42fefb2c5e1d"
      },
      "outputs": [
        {
          "output_type": "stream",
          "name": "stdout",
          "text": [
            " * Serving Flask app \"__main__\" (lazy loading)\n",
            " * Environment: production\n",
            "\u001b[31m   WARNING: This is a development server. Do not use it in a production deployment.\u001b[0m\n",
            "\u001b[2m   Use a production WSGI server instead.\u001b[0m\n",
            " * Debug mode: off\n"
          ]
        },
        {
          "output_type": "stream",
          "name": "stderr",
          "text": [
            "INFO:werkzeug: * Running on http://127.0.0.1:5000/ (Press CTRL+C to quit)\n"
          ]
        },
        {
          "output_type": "stream",
          "name": "stdout",
          "text": [
            " * Running on http://2f49-34-73-226-192.ngrok.io\n",
            " * Traffic stats available on http://127.0.0.1:4040\n"
          ]
        },
        {
          "output_type": "stream",
          "name": "stderr",
          "text": [
            "INFO:werkzeug:127.0.0.1 - - [18/Nov/2022 15:08:02] \"\u001b[37mGET / HTTP/1.1\u001b[0m\" 200 -\n",
            "INFO:werkzeug:127.0.0.1 - - [18/Nov/2022 15:08:03] \"\u001b[33mGET /favicon.ico HTTP/1.1\u001b[0m\" 404 -\n",
            "INFO:werkzeug:127.0.0.1 - - [18/Nov/2022 15:08:10] \"\u001b[32mGET /create HTTP/1.1\u001b[0m\" 308 -\n",
            "INFO:werkzeug:127.0.0.1 - - [18/Nov/2022 15:08:10] \"\u001b[37mGET /create/ HTTP/1.1\u001b[0m\" 200 -\n",
            "INFO:werkzeug:127.0.0.1 - - [18/Nov/2022 15:08:16] \"\u001b[32mGET /readid HTTP/1.1\u001b[0m\" 308 -\n",
            "INFO:werkzeug:127.0.0.1 - - [18/Nov/2022 15:08:16] \"\u001b[37mGET /readid/ HTTP/1.1\u001b[0m\" 200 -\n",
            "INFO:werkzeug:127.0.0.1 - - [18/Nov/2022 15:08:21] \"\u001b[37mGET /readid/ HTTP/1.1\u001b[0m\" 200 -\n",
            "INFO:werkzeug:127.0.0.1 - - [18/Nov/2022 15:08:30] \"\u001b[32mGET /readid/jaehak HTTP/1.1\u001b[0m\" 308 -\n",
            "INFO:werkzeug:127.0.0.1 - - [18/Nov/2022 15:08:30] \"\u001b[37mGET /readid/jaehak/ HTTP/1.1\u001b[0m\" 200 -\n"
          ]
        }
      ],
      "source": [
        "app = Flask(__name__)\n",
        "run_with_ngrok(app)\n",
        "\n",
        "@app.route('/')\n",
        "def home():\n",
        "     return f\"<h1>This is your main homepage!</h1>\"\n",
        "\n",
        "@app.route('/create/')\n",
        "def create():\n",
        "     return f\"<h1>Welcome to create homepage!</h1>\"\n",
        "\n",
        "@app.route('/readid/')\n",
        "def read():\n",
        "     return f\"<h1>Welcome to readid homepage! If you want readid, change your id url</h1>\"\n",
        "\n",
        "@app.route('/readid/<id>/')\n",
        "def readid(id):\n",
        "     return f\"<h1>Welcome to readid homepage! Hello {id}!</h1>\"\n",
        "\n",
        "app.run()"
      ]
    },
    {
      "cell_type": "markdown",
      "source": [
        "python의 변수를 활용해서 입력된 변수에 맞게 서로 다른 페이지로 손쉽게 이동할 수 있도록 만듭니다."
      ],
      "metadata": {
        "id": "QpAJP-P05yIF"
      }
    },
    {
      "cell_type": "code",
      "execution_count": null,
      "metadata": {
        "colab": {
          "base_uri": "https://localhost:8080/"
        },
        "id": "wLNYAYzcXndt",
        "outputId": "5145082d-7783-4b20-dab9-363e583061e0"
      },
      "outputs": [
        {
          "output_type": "stream",
          "name": "stdout",
          "text": [
            " * Serving Flask app \"__main__\" (lazy loading)\n",
            " * Environment: production\n",
            "\u001b[31m   WARNING: This is a development server. Do not use it in a production deployment.\u001b[0m\n",
            "\u001b[2m   Use a production WSGI server instead.\u001b[0m\n",
            " * Debug mode: off\n"
          ]
        },
        {
          "output_type": "stream",
          "name": "stderr",
          "text": [
            "INFO:werkzeug: * Running on http://127.0.0.1:5000/ (Press CTRL+C to quit)\n"
          ]
        },
        {
          "output_type": "stream",
          "name": "stdout",
          "text": [
            " * Running on http://8af9-34-73-226-192.ngrok.io\n",
            " * Traffic stats available on http://127.0.0.1:4040\n"
          ]
        },
        {
          "output_type": "stream",
          "name": "stderr",
          "text": [
            "INFO:werkzeug:127.0.0.1 - - [18/Nov/2022 15:09:08] \"\u001b[37mGET / HTTP/1.1\u001b[0m\" 200 -\n",
            "INFO:werkzeug:127.0.0.1 - - [18/Nov/2022 15:09:08] \"\u001b[33mGET /favicon.ico HTTP/1.1\u001b[0m\" 404 -\n",
            "INFO:werkzeug:127.0.0.1 - - [18/Nov/2022 15:09:37] \"\u001b[37mGET /read/1/ HTTP/1.1\u001b[0m\" 200 -\n"
          ]
        }
      ],
      "source": [
        "app = Flask(__name__)\n",
        "run_with_ngrok(app)\n",
        "\n",
        "@app.route('/')\n",
        "def home():\n",
        "     return f'''<!doctype html>\n",
        "     <html>\n",
        "      <body>\n",
        "        <h1>Welcome to your homepage</h1>\n",
        "        <ol>\n",
        "          <li><a href = \"/read/1/\">Click this part!</a></li>\n",
        "          <li><a href = \"/read/2/\">Now, click this part!</a></li>\n",
        "          <li><a href = \"/read/3/\">New part!</a></li>\n",
        "        </ol>\n",
        "      '''\n",
        "\n",
        "@app.route('/read/<id>/')\n",
        "def readid(id):\n",
        "     return f\"<h1>This is main body contents! Hello {id}!</h1>\"\n",
        "\n",
        "app.run()"
      ]
    },
    {
      "cell_type": "markdown",
      "source": [
        "## Python 문법 사용\n",
        "파이썬의 속성인 list, dict를 이용해서도 각각에 필요한 HTML코드에 추가해 줄 수 있으며 이를 이용하여 코드를 단축시킬 수 있다."
      ],
      "metadata": {
        "id": "Mb5iZEdM6A9d"
      }
    },
    {
      "cell_type": "code",
      "execution_count": null,
      "metadata": {
        "colab": {
          "base_uri": "https://localhost:8080/"
        },
        "id": "u4YvuaXkZdPU",
        "outputId": "7020f6d0-281b-4867-da44-82dac9afc8c3"
      },
      "outputs": [
        {
          "output_type": "stream",
          "name": "stdout",
          "text": [
            " * Serving Flask app \"__main__\" (lazy loading)\n",
            " * Environment: production\n",
            "\u001b[31m   WARNING: This is a development server. Do not use it in a production deployment.\u001b[0m\n",
            "\u001b[2m   Use a production WSGI server instead.\u001b[0m\n",
            " * Debug mode: off\n"
          ]
        },
        {
          "output_type": "stream",
          "name": "stderr",
          "text": [
            "INFO:werkzeug: * Running on http://127.0.0.1:5000/ (Press CTRL+C to quit)\n"
          ]
        },
        {
          "output_type": "stream",
          "name": "stdout",
          "text": [
            " * Running on http://4448-34-73-226-192.ngrok.io\n",
            " * Traffic stats available on http://127.0.0.1:4040\n"
          ]
        },
        {
          "output_type": "stream",
          "name": "stderr",
          "text": [
            "INFO:werkzeug:127.0.0.1 - - [18/Nov/2022 15:21:25] \"\u001b[37mGET / HTTP/1.1\u001b[0m\" 200 -\n",
            "INFO:werkzeug:127.0.0.1 - - [18/Nov/2022 15:21:25] \"\u001b[33mGET /favicon.ico HTTP/1.1\u001b[0m\" 404 -\n",
            "INFO:werkzeug:127.0.0.1 - - [18/Nov/2022 15:21:27] \"\u001b[32mGET /read/1 HTTP/1.1\u001b[0m\" 308 -\n",
            "INFO:werkzeug:127.0.0.1 - - [18/Nov/2022 15:21:27] \"\u001b[37mGET /read/1/ HTTP/1.1\u001b[0m\" 200 -\n",
            "INFO:werkzeug:127.0.0.1 - - [18/Nov/2022 15:21:29] \"\u001b[32mGET /read/2 HTTP/1.1\u001b[0m\" 308 -\n",
            "INFO:werkzeug:127.0.0.1 - - [18/Nov/2022 15:21:29] \"\u001b[37mGET /read/2/ HTTP/1.1\u001b[0m\" 200 -\n"
          ]
        }
      ],
      "source": [
        "app = Flask(__name__)\n",
        "run_with_ngrok(app)\n",
        "\n",
        "clicks = [\n",
        "    {'id':1, 'head':'Click this part!', 'body':'This is main body contents!1'},\n",
        "    {'id':2, 'head':'Now, click this part!', 'body':'This is main body contents!2'},\n",
        "    {'id':3, 'head':'New part!', 'body':'This is main body contents!3'}\n",
        "]\n",
        "\n",
        "@app.route('/')\n",
        "def home():\n",
        "  liTags = ''\n",
        "  for click in clicks:\n",
        "    liTags = liTags + f'<li><a href=\"/read/{click[\"id\"]}\">{click[\"head\"]}</a></li>'\n",
        "  return f'''<!doctype html>\n",
        "  <html>\n",
        "      <body>\n",
        "        <h1>Welcome to your homepage</h1>\n",
        "        <ol>\n",
        "          {liTags}\n",
        "        </ol>\n",
        "  '''\n",
        "\n",
        "@app.route('/read/<id>/')\n",
        "def readid(id):\n",
        "  body = ''\n",
        "  body = body + f\"<h1>{clicks[int(id)-1]['body']}</h1>\"\n",
        "  return body\n",
        "\n",
        "app.run()"
      ]
    },
    {
      "cell_type": "markdown",
      "source": [
        "파이썬에서 함수를 생성하고 함수를 사용하듯 Template 함수를 만들어 HTML의 기본 형식을 지정하고 사용할 수 있다. "
      ],
      "metadata": {
        "id": "FYXwp_ZneS-k"
      }
    },
    {
      "cell_type": "code",
      "execution_count": null,
      "metadata": {
        "colab": {
          "base_uri": "https://localhost:8080/"
        },
        "id": "M5UPPHbOe00p",
        "outputId": "3daab97a-6e61-47d0-8f69-aeeaaaf4ea3e"
      },
      "outputs": [
        {
          "output_type": "stream",
          "name": "stdout",
          "text": [
            " * Serving Flask app \"__main__\" (lazy loading)\n",
            " * Environment: production\n",
            "\u001b[31m   WARNING: This is a development server. Do not use it in a production deployment.\u001b[0m\n",
            "\u001b[2m   Use a production WSGI server instead.\u001b[0m\n",
            " * Debug mode: off\n"
          ]
        },
        {
          "output_type": "stream",
          "name": "stderr",
          "text": [
            "INFO:werkzeug: * Running on http://127.0.0.1:5000/ (Press CTRL+C to quit)\n"
          ]
        },
        {
          "output_type": "stream",
          "name": "stdout",
          "text": [
            " * Running on http://5d2b-34-73-226-192.ngrok.io\n",
            " * Traffic stats available on http://127.0.0.1:4040\n"
          ]
        },
        {
          "output_type": "stream",
          "name": "stderr",
          "text": [
            "INFO:werkzeug:127.0.0.1 - - [18/Nov/2022 15:21:53] \"\u001b[37mGET / HTTP/1.1\u001b[0m\" 200 -\n",
            "INFO:werkzeug:127.0.0.1 - - [18/Nov/2022 15:21:53] \"\u001b[33mGET /favicon.ico HTTP/1.1\u001b[0m\" 404 -\n",
            "INFO:werkzeug:127.0.0.1 - - [18/Nov/2022 15:21:55] \"\u001b[32mGET /read/1 HTTP/1.1\u001b[0m\" 308 -\n",
            "INFO:werkzeug:127.0.0.1 - - [18/Nov/2022 15:21:56] \"\u001b[37mGET /read/1/ HTTP/1.1\u001b[0m\" 200 -\n",
            "INFO:werkzeug:127.0.0.1 - - [18/Nov/2022 15:21:58] \"\u001b[32mGET /read/2 HTTP/1.1\u001b[0m\" 308 -\n",
            "INFO:werkzeug:127.0.0.1 - - [18/Nov/2022 15:21:58] \"\u001b[37mGET /read/2/ HTTP/1.1\u001b[0m\" 200 -\n",
            "INFO:werkzeug:127.0.0.1 - - [18/Nov/2022 15:22:00] \"\u001b[32mGET /read/3 HTTP/1.1\u001b[0m\" 308 -\n",
            "INFO:werkzeug:127.0.0.1 - - [18/Nov/2022 15:22:00] \"\u001b[37mGET /read/3/ HTTP/1.1\u001b[0m\" 200 -\n"
          ]
        }
      ],
      "source": [
        "app = Flask(__name__)\n",
        "run_with_ngrok(app)\n",
        "\n",
        "clicks = [\n",
        "    {'id':1, 'head':'Click this part!', 'body':'This is main body contents!1'},\n",
        "    {'id':2, 'head':'Now, click this part!', 'body':'This is main body contents!2'},\n",
        "    {'id':3, 'head':'New part!', 'body':'This is main body contents!3'}\n",
        "]\n",
        "\n",
        "def template(contents, content):\n",
        "  return f'''<!doctype html>\n",
        "  <html>\n",
        "    <body>\n",
        "      <h1>Welcome to your homepage</h1>\n",
        "      <ol>\n",
        "        {contents}\n",
        "      </ol>\n",
        "      {content}\n",
        "    </body>\n",
        "  </html>\n",
        "  '''\n",
        "\n",
        "def getContents():\n",
        "  liTags = ''\n",
        "  for click in clicks:\n",
        "    liTags = liTags + f'<li><a href=\"/read/{click[\"id\"]}\">{click[\"head\"]}</a></li>'\n",
        "  return liTags\n",
        "\n",
        "@app.route('/')\n",
        "def home():\n",
        "  return template(getContents(), '<h2>Welcome</h2>Hello, Users!')\n",
        "\n",
        "@app.route('/read/<id>/')\n",
        "def readid(id):\n",
        "  body = ''\n",
        "  body = body + f\"<h2>{clicks[int(id)-1]['body']}</h2>\"\n",
        "  return template(getContents(), body)\n",
        "\n",
        "app.run()"
      ]
    },
    {
      "cell_type": "code",
      "source": [
        "app = Flask(__name__)\n",
        "run_with_ngrok(app)\n",
        "\n",
        "clicks = [\n",
        "    {'id':1, 'head':'Click this part!', 'body':'This is main body contents!1'},\n",
        "    {'id':2, 'head':'Now, click this part!', 'body':'This is main body contents!2'},\n",
        "    {'id':3, 'head':'New part!', 'body':'This is main body contents!3'}\n",
        "]\n",
        "\n",
        "def template(contents, content):\n",
        "  return f'''<!doctype html>\n",
        "  <html>\n",
        "    <body>\n",
        "      <h1>Welcome to your homepage</h1>\n",
        "      <ol>\n",
        "        {contents}\n",
        "      </ol>\n",
        "      {content}\n",
        "    </body>\n",
        "  </html>\n",
        "  '''\n",
        "\n",
        "def getContents():\n",
        "  liTags = ''\n",
        "  for click in clicks:\n",
        "    liTags = liTags + f'<li><a href=\"/read/{click[\"id\"]}\">{click[\"head\"]}</a></li>'\n",
        "  return liTags\n",
        "\n",
        "@app.route('/')\n",
        "def home():\n",
        "  return template(getContents(), '<h2>Welcome</h2>Hello, Users!')\n",
        "\n",
        "@app.route('/read/<id>/')\n",
        "def readid(id):\n",
        "  body = ''\n",
        "  body = body + f\"<h2>{clicks[int(id)-1]['body']}</h2>\"\n",
        "  return template(getContents(), body)\n",
        "\n",
        "@app.route('/create/')\n",
        "def create():\n",
        "    content = '''\n",
        "    <form action=\"/create/\" method=\"GET\">\n",
        "      <p><input type=\"text\" name=\"title\" placeholder=\"title\"></p>\n",
        "      <p><textarea name=\"body\" placeholder=\"body\"></textarea></p>\n",
        "      <p><input type=\"submit\"></p>\n",
        "    </form>\n",
        "  '''\n",
        "    return template(getContents(), content)\n",
        "\n",
        "app.run()"
      ],
      "metadata": {
        "colab": {
          "base_uri": "https://localhost:8080/"
        },
        "id": "Yyf-L7jltFWd",
        "outputId": "ae2d21b9-b004-4718-8d01-37d623b3c6aa"
      },
      "execution_count": null,
      "outputs": [
        {
          "output_type": "stream",
          "name": "stdout",
          "text": [
            " * Serving Flask app \"__main__\" (lazy loading)\n",
            " * Environment: production\n",
            "\u001b[31m   WARNING: This is a development server. Do not use it in a production deployment.\u001b[0m\n",
            "\u001b[2m   Use a production WSGI server instead.\u001b[0m\n",
            " * Debug mode: off\n"
          ]
        },
        {
          "output_type": "stream",
          "name": "stderr",
          "text": [
            "INFO:werkzeug: * Running on http://127.0.0.1:5000/ (Press CTRL+C to quit)\n"
          ]
        },
        {
          "output_type": "stream",
          "name": "stdout",
          "text": [
            " * Running on http://9425-34-73-226-192.ngrok.io\n",
            " * Traffic stats available on http://127.0.0.1:4040\n"
          ]
        },
        {
          "output_type": "stream",
          "name": "stderr",
          "text": [
            "INFO:werkzeug:127.0.0.1 - - [18/Nov/2022 15:23:20] \"\u001b[37mGET / HTTP/1.1\u001b[0m\" 200 -\n",
            "INFO:werkzeug:127.0.0.1 - - [18/Nov/2022 15:23:20] \"\u001b[33mGET /favicon.ico HTTP/1.1\u001b[0m\" 404 -\n",
            "INFO:werkzeug:127.0.0.1 - - [18/Nov/2022 15:23:22] \"\u001b[32mGET /read/1 HTTP/1.1\u001b[0m\" 308 -\n",
            "INFO:werkzeug:127.0.0.1 - - [18/Nov/2022 15:23:22] \"\u001b[37mGET /read/1/ HTTP/1.1\u001b[0m\" 200 -\n",
            "INFO:werkzeug:127.0.0.1 - - [18/Nov/2022 15:23:23] \"\u001b[32mGET /read/2 HTTP/1.1\u001b[0m\" 308 -\n",
            "INFO:werkzeug:127.0.0.1 - - [18/Nov/2022 15:23:23] \"\u001b[37mGET /read/2/ HTTP/1.1\u001b[0m\" 200 -\n",
            "INFO:werkzeug:127.0.0.1 - - [18/Nov/2022 15:23:24] \"\u001b[32mGET /read/3 HTTP/1.1\u001b[0m\" 308 -\n",
            "INFO:werkzeug:127.0.0.1 - - [18/Nov/2022 15:23:25] \"\u001b[37mGET /read/3/ HTTP/1.1\u001b[0m\" 200 -\n",
            "INFO:werkzeug:127.0.0.1 - - [18/Nov/2022 15:23:45] \"\u001b[32mGET /create HTTP/1.1\u001b[0m\" 308 -\n",
            "INFO:werkzeug:127.0.0.1 - - [18/Nov/2022 15:23:45] \"\u001b[37mGET /create/ HTTP/1.1\u001b[0m\" 200 -\n",
            "INFO:werkzeug:127.0.0.1 - - [18/Nov/2022 15:23:51] \"\u001b[37mGET /create/?title=Time&body=is+Gold HTTP/1.1\u001b[0m\" 200 -\n"
          ]
        }
      ]
    },
    {
      "cell_type": "markdown",
      "source": [],
      "metadata": {
        "id": "QaevgMONe-m1"
      }
    },
    {
      "cell_type": "code",
      "source": [
        "from flask import request"
      ],
      "metadata": {
        "id": "1ueHQRETsWUM"
      },
      "execution_count": null,
      "outputs": []
    },
    {
      "cell_type": "code",
      "source": [
        "app = Flask(__name__)\n",
        "run_with_ngrok(app)\n",
        "\n",
        "clicks = [\n",
        "    {'id':1, 'head':'Click this part!', 'body':'This is main body contents!1'},\n",
        "    {'id':2, 'head':'Now, click this part!', 'body':'This is main body contents!2'},\n",
        "    {'id':3, 'head':'New part!', 'body':'This is main body contents!3'}\n",
        "]\n",
        "\n",
        "def template(contents, content):\n",
        "  return f'''<!doctype html>\n",
        "  <html>\n",
        "    <body>  \n",
        "      <h1>Welcome to your homepage</h1>\n",
        "      <ol>\n",
        "        {contents}\n",
        "      </ol>\n",
        "      {content}\n",
        "    </body>\n",
        "  </html>\n",
        "  '''\n",
        "\n",
        "def getContents():\n",
        "  liTags = ''\n",
        "  for click in clicks:\n",
        "    liTags = liTags + f'<li><a href=\"/read/{click[\"id\"]}\">{click[\"head\"]}</a></li>'\n",
        "  return liTags\n",
        "\n",
        "@app.route('/')\n",
        "def home():\n",
        "  return template(getContents(), '<h2>Welcome</h2>Hello, Users!')\n",
        "\n",
        "@app.route('/read/<id>/')\n",
        "def readid(id):\n",
        "  body = ''\n",
        "  body = body + f\"<h2>{clicks[int(id)-1]['body']}</h2>\"\n",
        "  return template(getContents(), body)\n",
        "\n",
        "@app.route('/create/', methods=['GET', 'POST'])\n",
        "def create():\n",
        "  if request.method == \"GET\":\n",
        "    content = '''\n",
        "      <form action=\"/create/\" method=\"POST\">\n",
        "        <p><input type=\"text\" name=\"title\" placeholder=\"title\"></p>\n",
        "        <p><textarea name=\"body\" placeholder=\"body\"></textarea></p>\n",
        "        <p><input type=\"submit\"></p>\n",
        "      </form>\n",
        "    '''\n",
        "    return template(getContents(), content)\n",
        "  elif request.method == \"POST\":\n",
        "    return 'Title and Body Saved!'\n",
        "\n",
        "app.run()"
      ],
      "metadata": {
        "colab": {
          "base_uri": "https://localhost:8080/"
        },
        "id": "oBzNi7FCqFWc",
        "outputId": "59692f5c-9a4d-4156-dd30-8b512e42e24b"
      },
      "execution_count": null,
      "outputs": [
        {
          "output_type": "stream",
          "name": "stdout",
          "text": [
            " * Serving Flask app \"__main__\" (lazy loading)\n",
            " * Environment: production\n",
            "\u001b[31m   WARNING: This is a development server. Do not use it in a production deployment.\u001b[0m\n",
            "\u001b[2m   Use a production WSGI server instead.\u001b[0m\n",
            " * Debug mode: off\n"
          ]
        },
        {
          "output_type": "stream",
          "name": "stderr",
          "text": [
            "INFO:werkzeug: * Running on http://127.0.0.1:5000/ (Press CTRL+C to quit)\n"
          ]
        },
        {
          "output_type": "stream",
          "name": "stdout",
          "text": [
            " * Running on http://f824-35-239-113-231.ngrok.io\n",
            " * Traffic stats available on http://127.0.0.1:4040\n"
          ]
        },
        {
          "output_type": "stream",
          "name": "stderr",
          "text": [
            "INFO:werkzeug:127.0.0.1 - - [19/Nov/2022 00:45:28] \"\u001b[37mGET / HTTP/1.1\u001b[0m\" 200 -\n",
            "INFO:werkzeug:127.0.0.1 - - [19/Nov/2022 00:45:28] \"\u001b[33mGET /favicon.ico HTTP/1.1\u001b[0m\" 404 -\n",
            "INFO:werkzeug:127.0.0.1 - - [19/Nov/2022 00:45:32] \"\u001b[37mGET /create/ HTTP/1.1\u001b[0m\" 200 -\n",
            "INFO:werkzeug:127.0.0.1 - - [19/Nov/2022 00:45:32] \"\u001b[33mGET /favicon.ico HTTP/1.1\u001b[0m\" 404 -\n",
            "INFO:werkzeug:127.0.0.1 - - [19/Nov/2022 00:45:36] \"\u001b[37mPOST /create/ HTTP/1.1\u001b[0m\" 200 -\n",
            "INFO:werkzeug:127.0.0.1 - - [19/Nov/2022 00:46:14] \"\u001b[37mGET /create/ HTTP/1.1\u001b[0m\" 200 -\n"
          ]
        }
      ]
    },
    {
      "cell_type": "markdown",
      "source": [
        "# 이전 수업에 나온 BERT 모델 살펴보기\n"
      ],
      "metadata": {
        "id": "felhi6kRhEVC"
      }
    },
    {
      "cell_type": "code",
      "source": [
        "from google.colab import drive\n",
        "\n",
        "drive.mount(\"/content/drive\")"
      ],
      "metadata": {
        "colab": {
          "base_uri": "https://localhost:8080/"
        },
        "id": "bKkS1MGtdxPq",
        "outputId": "a62d938d-4f39-4bc2-9652-9332e14f7f39"
      },
      "execution_count": null,
      "outputs": [
        {
          "output_type": "stream",
          "name": "stdout",
          "text": [
            "Mounted at /content/drive\n"
          ]
        }
      ]
    },
    {
      "cell_type": "code",
      "execution_count": null,
      "metadata": {
        "id": "DNPNQZlrsAWU",
        "colab": {
          "base_uri": "https://localhost:8080/"
        },
        "outputId": "2e6ff9ba-a834-4f72-fc82-652aa9c022eb"
      },
      "outputs": [
        {
          "output_type": "stream",
          "name": "stdout",
          "text": [
            "/content/drive/MyDrive/joongang/w3_ipynb\n"
          ]
        }
      ],
      "source": [
        "%cd /content/drive/MyDrive/joongang/w3_ipynb"
      ]
    },
    {
      "cell_type": "code",
      "source": [
        "!pip install -q transformers"
      ],
      "metadata": {
        "colab": {
          "base_uri": "https://localhost:8080/"
        },
        "id": "l3wLXFRDely5",
        "outputId": "2398b271-c578-4c3c-e8fe-31bfacff3167"
      },
      "execution_count": null,
      "outputs": [
        {
          "output_type": "stream",
          "name": "stdout",
          "text": [
            "\u001b[K     |████████████████████████████████| 5.5 MB 5.1 MB/s \n",
            "\u001b[K     |████████████████████████████████| 182 kB 60.7 MB/s \n",
            "\u001b[K     |████████████████████████████████| 7.6 MB 39.8 MB/s \n",
            "\u001b[?25h"
          ]
        }
      ]
    },
    {
      "cell_type": "code",
      "execution_count": null,
      "metadata": {
        "id": "j2l2aRr_lRVi"
      },
      "outputs": [],
      "source": [
        "from make_answer import *"
      ]
    },
    {
      "cell_type": "code",
      "source": [
        "# my model 경로 설정해주세요!\n",
        "model_path = \"\"\n",
        "trainer, tokenizer = load_model(model_path)"
      ],
      "metadata": {
        "colab": {
          "base_uri": "https://localhost:8080/"
        },
        "id": "tjteuw9Ge--0",
        "outputId": "460c758d-94a6-4bb0-d0f1-0be865319056"
      },
      "execution_count": null,
      "outputs": [
        {
          "output_type": "stream",
          "name": "stderr",
          "text": [
            "loading file vocab.txt\n",
            "loading file tokenizer.json\n",
            "loading file added_tokens.json\n",
            "loading file special_tokens_map.json\n",
            "loading file tokenizer_config.json\n"
          ]
        }
      ]
    },
    {
      "cell_type": "code",
      "source": [
        "answer = answer_system(trainer, tokenizer, \"관광지 좀 추천해줘\")"
      ],
      "metadata": {
        "id": "Tsiva6qvfYRM"
      },
      "execution_count": null,
      "outputs": []
    },
    {
      "cell_type": "code",
      "source": [
        "print(answer)"
      ],
      "metadata": {
        "colab": {
          "base_uri": "https://localhost:8080/"
        },
        "id": "CxVFx0mlfjUp",
        "outputId": "cb75b468-8ecb-408a-8faf-967321accaf8"
      },
      "execution_count": null,
      "outputs": [
        {
          "output_type": "stream",
          "name": "stdout",
          "text": [
            "이번 봄, 아르떼 뮤지엄 가 보시는 건 어때요?\n"
          ]
        }
      ]
    },
    {
      "cell_type": "code",
      "source": [
        "app = Flask(__name__)\n",
        "run_with_ngrok(app)\n",
        "\n",
        "@app.route('/')\n",
        "def man():\n",
        "  return \"\"\"\n",
        "\n",
        "  <html>\n",
        "    <head>\n",
        "      <style>\n",
        "        #container {\n",
        "          display: flex;\n",
        "          justify-content: center;\n",
        "          align-items: center;\n",
        "        }\n",
        "      </style>\n",
        "    <head>\n",
        "\n",
        "    <body bgcolor=#F5F5DC id=\"container\">\n",
        "\n",
        "      <center>\n",
        "\n",
        "        <h1> 제주 관광 챗봇 </h1><br>\n",
        "        <h3> 안녕하세요, 무엇을 도와드릴까요? </h3><br>\n",
        "          <form method=\"POST\", action=\"/predict\">\n",
        "            <b> 질문을 입력해주세요 :  <input type=\"text\", name='a', placeholder=\"sentence\"> <br><br>\n",
        "              <input type=\"submit\" , value='입력 완료' >\n",
        "          </form>\n",
        "      \n",
        "      </center>\n",
        "\n",
        "    </body>\n",
        "</html>\n",
        "\"\"\"\n",
        "    # return render_template('home.html')\n",
        "\n",
        "\n",
        "@app.route('/predict', methods=['POST'])\n",
        "def home():\n",
        "    data1 = request.form['a']\n",
        "    pred = answer_system(trainer, tokenizer, data1)\n",
        "\n",
        "    return f\"\"\"\n",
        "      <html>\n",
        "    <head>\n",
        "      <style>\n",
        "        #container {{\n",
        "          display: flex;\n",
        "          justify-content: center;\n",
        "          align-items: center;\n",
        "          text-align: left;\n",
        "          left: 50%;\n",
        "        }}\n",
        "      </style>\n",
        "    <head>\n",
        "\n",
        "    <body bgcolor=#F5F5DC id=\"container\">\n",
        "\n",
        "      <center>\n",
        "\n",
        "        <h1> 제주 관광 챗봇 </h1><br>\n",
        "        <h4> 추가 질문을 원하시면 새로 문장을 입력해주세요. </h4><br>\n",
        "          <form method=\"POST\", action=\"/predict\">\n",
        "            <b> 질문을 입력해주세요 :  <input type=\"text\", name='a', placeholder=\"추가 질문\"> <br><br>\n",
        "              <input type=\"submit\" , value='입력 완료' >\n",
        "          </form>\n",
        "      \n",
        "      <h2> {pred} </h2>\n",
        "      </center>\n",
        "\n",
        "    </body>\n",
        "</html>\n",
        "\"\"\"\n",
        "\n",
        "if __name__ == \"__main__\":\n",
        "    app.run()"
      ],
      "metadata": {
        "colab": {
          "base_uri": "https://localhost:8080/"
        },
        "id": "azEjrW_Dflfs",
        "outputId": "a7170a45-cdd6-4608-a513-3ab27ff2a832"
      },
      "execution_count": null,
      "outputs": [
        {
          "output_type": "stream",
          "name": "stdout",
          "text": [
            " * Serving Flask app \"__main__\" (lazy loading)\n",
            " * Environment: production\n",
            "\u001b[31m   WARNING: This is a development server. Do not use it in a production deployment.\u001b[0m\n",
            "\u001b[2m   Use a production WSGI server instead.\u001b[0m\n",
            " * Debug mode: off\n"
          ]
        },
        {
          "output_type": "stream",
          "name": "stderr",
          "text": [
            "INFO:werkzeug: * Running on http://127.0.0.1:5000/ (Press CTRL+C to quit)\n"
          ]
        },
        {
          "output_type": "stream",
          "name": "stdout",
          "text": [
            " * Running on http://41cd-35-239-113-231.ngrok.io\n",
            " * Traffic stats available on http://127.0.0.1:4040\n"
          ]
        },
        {
          "output_type": "stream",
          "name": "stderr",
          "text": [
            "INFO:werkzeug:127.0.0.1 - - [19/Nov/2022 00:48:00] \"\u001b[37mGET / HTTP/1.1\u001b[0m\" 200 -\n",
            "INFO:werkzeug:127.0.0.1 - - [19/Nov/2022 00:48:00] \"\u001b[33mGET /favicon.ico HTTP/1.1\u001b[0m\" 404 -\n",
            "INFO:werkzeug:127.0.0.1 - - [19/Nov/2022 00:48:05] \"\u001b[37mPOST /predict HTTP/1.1\u001b[0m\" 200 -\n"
          ]
        }
      ]
    }
  ],
  "metadata": {
    "colab": {
      "provenance": [],
      "include_colab_link": true
    },
    "kernelspec": {
      "display_name": "Python 3",
      "name": "python3"
    },
    "language_info": {
      "name": "python"
    }
  },
  "nbformat": 4,
  "nbformat_minor": 0
}