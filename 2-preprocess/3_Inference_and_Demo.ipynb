{
  "nbformat": 4,
  "nbformat_minor": 0,
  "metadata": {
    "colab": {
      "provenance": [],
      "collapsed_sections": [
        "AAUIzhM886oR",
        "vFElZCOd8_kb"
      ],
      "include_colab_link": true
    },
    "kernelspec": {
      "name": "python3",
      "display_name": "Python 3"
    },
    "language_info": {
      "name": "python"
    },
    "widgets": {
      "application/vnd.jupyter.widget-state+json": {
        "d677fc4247444d3299a09983d5bd333a": {
          "model_module": "@jupyter-widgets/controls",
          "model_name": "HBoxModel",
          "model_module_version": "1.5.0",
          "state": {
            "_dom_classes": [],
            "_model_module": "@jupyter-widgets/controls",
            "_model_module_version": "1.5.0",
            "_model_name": "HBoxModel",
            "_view_count": null,
            "_view_module": "@jupyter-widgets/controls",
            "_view_module_version": "1.5.0",
            "_view_name": "HBoxView",
            "box_style": "",
            "children": [
              "IPY_MODEL_819e058ec43447ebbb14adf487a0216a",
              "IPY_MODEL_c6ef549c85f6420bbb6d0cf628dd9216",
              "IPY_MODEL_e92dc66a156049318206c1b1ba554dc8"
            ],
            "layout": "IPY_MODEL_ffcca7f979b047608e7fb5c024481847"
          }
        },
        "819e058ec43447ebbb14adf487a0216a": {
          "model_module": "@jupyter-widgets/controls",
          "model_name": "HTMLModel",
          "model_module_version": "1.5.0",
          "state": {
            "_dom_classes": [],
            "_model_module": "@jupyter-widgets/controls",
            "_model_module_version": "1.5.0",
            "_model_name": "HTMLModel",
            "_view_count": null,
            "_view_module": "@jupyter-widgets/controls",
            "_view_module_version": "1.5.0",
            "_view_name": "HTMLView",
            "description": "",
            "description_tooltip": null,
            "layout": "IPY_MODEL_d943c371499341578cccaffb6a998adb",
            "placeholder": "​",
            "style": "IPY_MODEL_a6b145b52e334682b75be33362de1600",
            "value": "Downloading: 100%"
          }
        },
        "c6ef549c85f6420bbb6d0cf628dd9216": {
          "model_module": "@jupyter-widgets/controls",
          "model_name": "FloatProgressModel",
          "model_module_version": "1.5.0",
          "state": {
            "_dom_classes": [],
            "_model_module": "@jupyter-widgets/controls",
            "_model_module_version": "1.5.0",
            "_model_name": "FloatProgressModel",
            "_view_count": null,
            "_view_module": "@jupyter-widgets/controls",
            "_view_module_version": "1.5.0",
            "_view_name": "ProgressView",
            "bar_style": "success",
            "description": "",
            "description_tooltip": null,
            "layout": "IPY_MODEL_1be7343d592243f59788a5e16daa234f",
            "max": 289,
            "min": 0,
            "orientation": "horizontal",
            "style": "IPY_MODEL_ef89d117caf44c91aa1c781c2b8e7694",
            "value": 289
          }
        },
        "e92dc66a156049318206c1b1ba554dc8": {
          "model_module": "@jupyter-widgets/controls",
          "model_name": "HTMLModel",
          "model_module_version": "1.5.0",
          "state": {
            "_dom_classes": [],
            "_model_module": "@jupyter-widgets/controls",
            "_model_module_version": "1.5.0",
            "_model_name": "HTMLModel",
            "_view_count": null,
            "_view_module": "@jupyter-widgets/controls",
            "_view_module_version": "1.5.0",
            "_view_name": "HTMLView",
            "description": "",
            "description_tooltip": null,
            "layout": "IPY_MODEL_5a98d216270c4c8381b15008b7e5abbc",
            "placeholder": "​",
            "style": "IPY_MODEL_8748d723077849aaa5db6d1e26af1322",
            "value": " 289/289 [00:00&lt;00:00, 2.70kB/s]"
          }
        },
        "ffcca7f979b047608e7fb5c024481847": {
          "model_module": "@jupyter-widgets/base",
          "model_name": "LayoutModel",
          "model_module_version": "1.2.0",
          "state": {
            "_model_module": "@jupyter-widgets/base",
            "_model_module_version": "1.2.0",
            "_model_name": "LayoutModel",
            "_view_count": null,
            "_view_module": "@jupyter-widgets/base",
            "_view_module_version": "1.2.0",
            "_view_name": "LayoutView",
            "align_content": null,
            "align_items": null,
            "align_self": null,
            "border": null,
            "bottom": null,
            "display": null,
            "flex": null,
            "flex_flow": null,
            "grid_area": null,
            "grid_auto_columns": null,
            "grid_auto_flow": null,
            "grid_auto_rows": null,
            "grid_column": null,
            "grid_gap": null,
            "grid_row": null,
            "grid_template_areas": null,
            "grid_template_columns": null,
            "grid_template_rows": null,
            "height": null,
            "justify_content": null,
            "justify_items": null,
            "left": null,
            "margin": null,
            "max_height": null,
            "max_width": null,
            "min_height": null,
            "min_width": null,
            "object_fit": null,
            "object_position": null,
            "order": null,
            "overflow": null,
            "overflow_x": null,
            "overflow_y": null,
            "padding": null,
            "right": null,
            "top": null,
            "visibility": null,
            "width": null
          }
        },
        "d943c371499341578cccaffb6a998adb": {
          "model_module": "@jupyter-widgets/base",
          "model_name": "LayoutModel",
          "model_module_version": "1.2.0",
          "state": {
            "_model_module": "@jupyter-widgets/base",
            "_model_module_version": "1.2.0",
            "_model_name": "LayoutModel",
            "_view_count": null,
            "_view_module": "@jupyter-widgets/base",
            "_view_module_version": "1.2.0",
            "_view_name": "LayoutView",
            "align_content": null,
            "align_items": null,
            "align_self": null,
            "border": null,
            "bottom": null,
            "display": null,
            "flex": null,
            "flex_flow": null,
            "grid_area": null,
            "grid_auto_columns": null,
            "grid_auto_flow": null,
            "grid_auto_rows": null,
            "grid_column": null,
            "grid_gap": null,
            "grid_row": null,
            "grid_template_areas": null,
            "grid_template_columns": null,
            "grid_template_rows": null,
            "height": null,
            "justify_content": null,
            "justify_items": null,
            "left": null,
            "margin": null,
            "max_height": null,
            "max_width": null,
            "min_height": null,
            "min_width": null,
            "object_fit": null,
            "object_position": null,
            "order": null,
            "overflow": null,
            "overflow_x": null,
            "overflow_y": null,
            "padding": null,
            "right": null,
            "top": null,
            "visibility": null,
            "width": null
          }
        },
        "a6b145b52e334682b75be33362de1600": {
          "model_module": "@jupyter-widgets/controls",
          "model_name": "DescriptionStyleModel",
          "model_module_version": "1.5.0",
          "state": {
            "_model_module": "@jupyter-widgets/controls",
            "_model_module_version": "1.5.0",
            "_model_name": "DescriptionStyleModel",
            "_view_count": null,
            "_view_module": "@jupyter-widgets/base",
            "_view_module_version": "1.2.0",
            "_view_name": "StyleView",
            "description_width": ""
          }
        },
        "1be7343d592243f59788a5e16daa234f": {
          "model_module": "@jupyter-widgets/base",
          "model_name": "LayoutModel",
          "model_module_version": "1.2.0",
          "state": {
            "_model_module": "@jupyter-widgets/base",
            "_model_module_version": "1.2.0",
            "_model_name": "LayoutModel",
            "_view_count": null,
            "_view_module": "@jupyter-widgets/base",
            "_view_module_version": "1.2.0",
            "_view_name": "LayoutView",
            "align_content": null,
            "align_items": null,
            "align_self": null,
            "border": null,
            "bottom": null,
            "display": null,
            "flex": null,
            "flex_flow": null,
            "grid_area": null,
            "grid_auto_columns": null,
            "grid_auto_flow": null,
            "grid_auto_rows": null,
            "grid_column": null,
            "grid_gap": null,
            "grid_row": null,
            "grid_template_areas": null,
            "grid_template_columns": null,
            "grid_template_rows": null,
            "height": null,
            "justify_content": null,
            "justify_items": null,
            "left": null,
            "margin": null,
            "max_height": null,
            "max_width": null,
            "min_height": null,
            "min_width": null,
            "object_fit": null,
            "object_position": null,
            "order": null,
            "overflow": null,
            "overflow_x": null,
            "overflow_y": null,
            "padding": null,
            "right": null,
            "top": null,
            "visibility": null,
            "width": null
          }
        },
        "ef89d117caf44c91aa1c781c2b8e7694": {
          "model_module": "@jupyter-widgets/controls",
          "model_name": "ProgressStyleModel",
          "model_module_version": "1.5.0",
          "state": {
            "_model_module": "@jupyter-widgets/controls",
            "_model_module_version": "1.5.0",
            "_model_name": "ProgressStyleModel",
            "_view_count": null,
            "_view_module": "@jupyter-widgets/base",
            "_view_module_version": "1.2.0",
            "_view_name": "StyleView",
            "bar_color": null,
            "description_width": ""
          }
        },
        "5a98d216270c4c8381b15008b7e5abbc": {
          "model_module": "@jupyter-widgets/base",
          "model_name": "LayoutModel",
          "model_module_version": "1.2.0",
          "state": {
            "_model_module": "@jupyter-widgets/base",
            "_model_module_version": "1.2.0",
            "_model_name": "LayoutModel",
            "_view_count": null,
            "_view_module": "@jupyter-widgets/base",
            "_view_module_version": "1.2.0",
            "_view_name": "LayoutView",
            "align_content": null,
            "align_items": null,
            "align_self": null,
            "border": null,
            "bottom": null,
            "display": null,
            "flex": null,
            "flex_flow": null,
            "grid_area": null,
            "grid_auto_columns": null,
            "grid_auto_flow": null,
            "grid_auto_rows": null,
            "grid_column": null,
            "grid_gap": null,
            "grid_row": null,
            "grid_template_areas": null,
            "grid_template_columns": null,
            "grid_template_rows": null,
            "height": null,
            "justify_content": null,
            "justify_items": null,
            "left": null,
            "margin": null,
            "max_height": null,
            "max_width": null,
            "min_height": null,
            "min_width": null,
            "object_fit": null,
            "object_position": null,
            "order": null,
            "overflow": null,
            "overflow_x": null,
            "overflow_y": null,
            "padding": null,
            "right": null,
            "top": null,
            "visibility": null,
            "width": null
          }
        },
        "8748d723077849aaa5db6d1e26af1322": {
          "model_module": "@jupyter-widgets/controls",
          "model_name": "DescriptionStyleModel",
          "model_module_version": "1.5.0",
          "state": {
            "_model_module": "@jupyter-widgets/controls",
            "_model_module_version": "1.5.0",
            "_model_name": "DescriptionStyleModel",
            "_view_count": null,
            "_view_module": "@jupyter-widgets/base",
            "_view_module_version": "1.2.0",
            "_view_name": "StyleView",
            "description_width": ""
          }
        },
        "8e2a012bbbc2453ebd4b822f8f7510d9": {
          "model_module": "@jupyter-widgets/controls",
          "model_name": "HBoxModel",
          "model_module_version": "1.5.0",
          "state": {
            "_dom_classes": [],
            "_model_module": "@jupyter-widgets/controls",
            "_model_module_version": "1.5.0",
            "_model_name": "HBoxModel",
            "_view_count": null,
            "_view_module": "@jupyter-widgets/controls",
            "_view_module_version": "1.5.0",
            "_view_name": "HBoxView",
            "box_style": "",
            "children": [
              "IPY_MODEL_0e6b522f71dd4d629b596942f89353f5",
              "IPY_MODEL_02c0713f63604ca2bfa636c145961609",
              "IPY_MODEL_347adb790d054027a3cae828c26115fe"
            ],
            "layout": "IPY_MODEL_368e22981b8c41a68896eb2a3b561130"
          }
        },
        "0e6b522f71dd4d629b596942f89353f5": {
          "model_module": "@jupyter-widgets/controls",
          "model_name": "HTMLModel",
          "model_module_version": "1.5.0",
          "state": {
            "_dom_classes": [],
            "_model_module": "@jupyter-widgets/controls",
            "_model_module_version": "1.5.0",
            "_model_name": "HTMLModel",
            "_view_count": null,
            "_view_module": "@jupyter-widgets/controls",
            "_view_module_version": "1.5.0",
            "_view_name": "HTMLView",
            "description": "",
            "description_tooltip": null,
            "layout": "IPY_MODEL_6b6d3bd22ad3412f9ef21cc5acd37dc2",
            "placeholder": "​",
            "style": "IPY_MODEL_cfc28ead4e5f448f846d30664f095e39",
            "value": "Downloading: 100%"
          }
        },
        "02c0713f63604ca2bfa636c145961609": {
          "model_module": "@jupyter-widgets/controls",
          "model_name": "FloatProgressModel",
          "model_module_version": "1.5.0",
          "state": {
            "_dom_classes": [],
            "_model_module": "@jupyter-widgets/controls",
            "_model_module_version": "1.5.0",
            "_model_name": "FloatProgressModel",
            "_view_count": null,
            "_view_module": "@jupyter-widgets/controls",
            "_view_module_version": "1.5.0",
            "_view_name": "ProgressView",
            "bar_style": "success",
            "description": "",
            "description_tooltip": null,
            "layout": "IPY_MODEL_767e0caa6ebc47688e9df0d79094631a",
            "max": 425,
            "min": 0,
            "orientation": "horizontal",
            "style": "IPY_MODEL_0277be6500854d6da5fd0c465807bc35",
            "value": 425
          }
        },
        "347adb790d054027a3cae828c26115fe": {
          "model_module": "@jupyter-widgets/controls",
          "model_name": "HTMLModel",
          "model_module_version": "1.5.0",
          "state": {
            "_dom_classes": [],
            "_model_module": "@jupyter-widgets/controls",
            "_model_module_version": "1.5.0",
            "_model_name": "HTMLModel",
            "_view_count": null,
            "_view_module": "@jupyter-widgets/controls",
            "_view_module_version": "1.5.0",
            "_view_name": "HTMLView",
            "description": "",
            "description_tooltip": null,
            "layout": "IPY_MODEL_4493e4c7a7e04a94a8c50c0617ba7e3a",
            "placeholder": "​",
            "style": "IPY_MODEL_9b266e0188b24426a494b934b464e073",
            "value": " 425/425 [00:00&lt;00:00, 3.77kB/s]"
          }
        },
        "368e22981b8c41a68896eb2a3b561130": {
          "model_module": "@jupyter-widgets/base",
          "model_name": "LayoutModel",
          "model_module_version": "1.2.0",
          "state": {
            "_model_module": "@jupyter-widgets/base",
            "_model_module_version": "1.2.0",
            "_model_name": "LayoutModel",
            "_view_count": null,
            "_view_module": "@jupyter-widgets/base",
            "_view_module_version": "1.2.0",
            "_view_name": "LayoutView",
            "align_content": null,
            "align_items": null,
            "align_self": null,
            "border": null,
            "bottom": null,
            "display": null,
            "flex": null,
            "flex_flow": null,
            "grid_area": null,
            "grid_auto_columns": null,
            "grid_auto_flow": null,
            "grid_auto_rows": null,
            "grid_column": null,
            "grid_gap": null,
            "grid_row": null,
            "grid_template_areas": null,
            "grid_template_columns": null,
            "grid_template_rows": null,
            "height": null,
            "justify_content": null,
            "justify_items": null,
            "left": null,
            "margin": null,
            "max_height": null,
            "max_width": null,
            "min_height": null,
            "min_width": null,
            "object_fit": null,
            "object_position": null,
            "order": null,
            "overflow": null,
            "overflow_x": null,
            "overflow_y": null,
            "padding": null,
            "right": null,
            "top": null,
            "visibility": null,
            "width": null
          }
        },
        "6b6d3bd22ad3412f9ef21cc5acd37dc2": {
          "model_module": "@jupyter-widgets/base",
          "model_name": "LayoutModel",
          "model_module_version": "1.2.0",
          "state": {
            "_model_module": "@jupyter-widgets/base",
            "_model_module_version": "1.2.0",
            "_model_name": "LayoutModel",
            "_view_count": null,
            "_view_module": "@jupyter-widgets/base",
            "_view_module_version": "1.2.0",
            "_view_name": "LayoutView",
            "align_content": null,
            "align_items": null,
            "align_self": null,
            "border": null,
            "bottom": null,
            "display": null,
            "flex": null,
            "flex_flow": null,
            "grid_area": null,
            "grid_auto_columns": null,
            "grid_auto_flow": null,
            "grid_auto_rows": null,
            "grid_column": null,
            "grid_gap": null,
            "grid_row": null,
            "grid_template_areas": null,
            "grid_template_columns": null,
            "grid_template_rows": null,
            "height": null,
            "justify_content": null,
            "justify_items": null,
            "left": null,
            "margin": null,
            "max_height": null,
            "max_width": null,
            "min_height": null,
            "min_width": null,
            "object_fit": null,
            "object_position": null,
            "order": null,
            "overflow": null,
            "overflow_x": null,
            "overflow_y": null,
            "padding": null,
            "right": null,
            "top": null,
            "visibility": null,
            "width": null
          }
        },
        "cfc28ead4e5f448f846d30664f095e39": {
          "model_module": "@jupyter-widgets/controls",
          "model_name": "DescriptionStyleModel",
          "model_module_version": "1.5.0",
          "state": {
            "_model_module": "@jupyter-widgets/controls",
            "_model_module_version": "1.5.0",
            "_model_name": "DescriptionStyleModel",
            "_view_count": null,
            "_view_module": "@jupyter-widgets/base",
            "_view_module_version": "1.2.0",
            "_view_name": "StyleView",
            "description_width": ""
          }
        },
        "767e0caa6ebc47688e9df0d79094631a": {
          "model_module": "@jupyter-widgets/base",
          "model_name": "LayoutModel",
          "model_module_version": "1.2.0",
          "state": {
            "_model_module": "@jupyter-widgets/base",
            "_model_module_version": "1.2.0",
            "_model_name": "LayoutModel",
            "_view_count": null,
            "_view_module": "@jupyter-widgets/base",
            "_view_module_version": "1.2.0",
            "_view_name": "LayoutView",
            "align_content": null,
            "align_items": null,
            "align_self": null,
            "border": null,
            "bottom": null,
            "display": null,
            "flex": null,
            "flex_flow": null,
            "grid_area": null,
            "grid_auto_columns": null,
            "grid_auto_flow": null,
            "grid_auto_rows": null,
            "grid_column": null,
            "grid_gap": null,
            "grid_row": null,
            "grid_template_areas": null,
            "grid_template_columns": null,
            "grid_template_rows": null,
            "height": null,
            "justify_content": null,
            "justify_items": null,
            "left": null,
            "margin": null,
            "max_height": null,
            "max_width": null,
            "min_height": null,
            "min_width": null,
            "object_fit": null,
            "object_position": null,
            "order": null,
            "overflow": null,
            "overflow_x": null,
            "overflow_y": null,
            "padding": null,
            "right": null,
            "top": null,
            "visibility": null,
            "width": null
          }
        },
        "0277be6500854d6da5fd0c465807bc35": {
          "model_module": "@jupyter-widgets/controls",
          "model_name": "ProgressStyleModel",
          "model_module_version": "1.5.0",
          "state": {
            "_model_module": "@jupyter-widgets/controls",
            "_model_module_version": "1.5.0",
            "_model_name": "ProgressStyleModel",
            "_view_count": null,
            "_view_module": "@jupyter-widgets/base",
            "_view_module_version": "1.2.0",
            "_view_name": "StyleView",
            "bar_color": null,
            "description_width": ""
          }
        },
        "4493e4c7a7e04a94a8c50c0617ba7e3a": {
          "model_module": "@jupyter-widgets/base",
          "model_name": "LayoutModel",
          "model_module_version": "1.2.0",
          "state": {
            "_model_module": "@jupyter-widgets/base",
            "_model_module_version": "1.2.0",
            "_model_name": "LayoutModel",
            "_view_count": null,
            "_view_module": "@jupyter-widgets/base",
            "_view_module_version": "1.2.0",
            "_view_name": "LayoutView",
            "align_content": null,
            "align_items": null,
            "align_self": null,
            "border": null,
            "bottom": null,
            "display": null,
            "flex": null,
            "flex_flow": null,
            "grid_area": null,
            "grid_auto_columns": null,
            "grid_auto_flow": null,
            "grid_auto_rows": null,
            "grid_column": null,
            "grid_gap": null,
            "grid_row": null,
            "grid_template_areas": null,
            "grid_template_columns": null,
            "grid_template_rows": null,
            "height": null,
            "justify_content": null,
            "justify_items": null,
            "left": null,
            "margin": null,
            "max_height": null,
            "max_width": null,
            "min_height": null,
            "min_width": null,
            "object_fit": null,
            "object_position": null,
            "order": null,
            "overflow": null,
            "overflow_x": null,
            "overflow_y": null,
            "padding": null,
            "right": null,
            "top": null,
            "visibility": null,
            "width": null
          }
        },
        "9b266e0188b24426a494b934b464e073": {
          "model_module": "@jupyter-widgets/controls",
          "model_name": "DescriptionStyleModel",
          "model_module_version": "1.5.0",
          "state": {
            "_model_module": "@jupyter-widgets/controls",
            "_model_module_version": "1.5.0",
            "_model_name": "DescriptionStyleModel",
            "_view_count": null,
            "_view_module": "@jupyter-widgets/base",
            "_view_module_version": "1.2.0",
            "_view_name": "StyleView",
            "description_width": ""
          }
        },
        "17ddb28e819441b0ab5a7e6e605ba5b8": {
          "model_module": "@jupyter-widgets/controls",
          "model_name": "HBoxModel",
          "model_module_version": "1.5.0",
          "state": {
            "_dom_classes": [],
            "_model_module": "@jupyter-widgets/controls",
            "_model_module_version": "1.5.0",
            "_model_name": "HBoxModel",
            "_view_count": null,
            "_view_module": "@jupyter-widgets/controls",
            "_view_module_version": "1.5.0",
            "_view_name": "HBoxView",
            "box_style": "",
            "children": [
              "IPY_MODEL_a5f56e7abdf14bbf941ff312bafaa6fd",
              "IPY_MODEL_cdb01b525eda4780a9cea369010a6ba6",
              "IPY_MODEL_1c22e984a479424c868a421a54112f33"
            ],
            "layout": "IPY_MODEL_6f0c6f14ccdb40c2aeaf91d2d357c262"
          }
        },
        "a5f56e7abdf14bbf941ff312bafaa6fd": {
          "model_module": "@jupyter-widgets/controls",
          "model_name": "HTMLModel",
          "model_module_version": "1.5.0",
          "state": {
            "_dom_classes": [],
            "_model_module": "@jupyter-widgets/controls",
            "_model_module_version": "1.5.0",
            "_model_name": "HTMLModel",
            "_view_count": null,
            "_view_module": "@jupyter-widgets/controls",
            "_view_module_version": "1.5.0",
            "_view_name": "HTMLView",
            "description": "",
            "description_tooltip": null,
            "layout": "IPY_MODEL_fea88e0573ca4e01902f2f534b6b340e",
            "placeholder": "​",
            "style": "IPY_MODEL_5ef1ec9cbe3248be8c25545c8d5f4a64",
            "value": "Downloading: 100%"
          }
        },
        "cdb01b525eda4780a9cea369010a6ba6": {
          "model_module": "@jupyter-widgets/controls",
          "model_name": "FloatProgressModel",
          "model_module_version": "1.5.0",
          "state": {
            "_dom_classes": [],
            "_model_module": "@jupyter-widgets/controls",
            "_model_module_version": "1.5.0",
            "_model_name": "FloatProgressModel",
            "_view_count": null,
            "_view_module": "@jupyter-widgets/controls",
            "_view_module_version": "1.5.0",
            "_view_name": "ProgressView",
            "bar_style": "success",
            "description": "",
            "description_tooltip": null,
            "layout": "IPY_MODEL_71127e85a762455ab5a18f827b93ebca",
            "max": 248477,
            "min": 0,
            "orientation": "horizontal",
            "style": "IPY_MODEL_7fb9b539d34d4ac085dc4dd2513b923f",
            "value": 248477
          }
        },
        "1c22e984a479424c868a421a54112f33": {
          "model_module": "@jupyter-widgets/controls",
          "model_name": "HTMLModel",
          "model_module_version": "1.5.0",
          "state": {
            "_dom_classes": [],
            "_model_module": "@jupyter-widgets/controls",
            "_model_module_version": "1.5.0",
            "_model_name": "HTMLModel",
            "_view_count": null,
            "_view_module": "@jupyter-widgets/controls",
            "_view_module_version": "1.5.0",
            "_view_name": "HTMLView",
            "description": "",
            "description_tooltip": null,
            "layout": "IPY_MODEL_369c58edb93b4ae180b391aa9a68c9f2",
            "placeholder": "​",
            "style": "IPY_MODEL_1c102de6c2fc4d1daf1b7e6d51c4b66a",
            "value": " 248k/248k [00:00&lt;00:00, 6.54kB/s]"
          }
        },
        "6f0c6f14ccdb40c2aeaf91d2d357c262": {
          "model_module": "@jupyter-widgets/base",
          "model_name": "LayoutModel",
          "model_module_version": "1.2.0",
          "state": {
            "_model_module": "@jupyter-widgets/base",
            "_model_module_version": "1.2.0",
            "_model_name": "LayoutModel",
            "_view_count": null,
            "_view_module": "@jupyter-widgets/base",
            "_view_module_version": "1.2.0",
            "_view_name": "LayoutView",
            "align_content": null,
            "align_items": null,
            "align_self": null,
            "border": null,
            "bottom": null,
            "display": null,
            "flex": null,
            "flex_flow": null,
            "grid_area": null,
            "grid_auto_columns": null,
            "grid_auto_flow": null,
            "grid_auto_rows": null,
            "grid_column": null,
            "grid_gap": null,
            "grid_row": null,
            "grid_template_areas": null,
            "grid_template_columns": null,
            "grid_template_rows": null,
            "height": null,
            "justify_content": null,
            "justify_items": null,
            "left": null,
            "margin": null,
            "max_height": null,
            "max_width": null,
            "min_height": null,
            "min_width": null,
            "object_fit": null,
            "object_position": null,
            "order": null,
            "overflow": null,
            "overflow_x": null,
            "overflow_y": null,
            "padding": null,
            "right": null,
            "top": null,
            "visibility": null,
            "width": null
          }
        },
        "fea88e0573ca4e01902f2f534b6b340e": {
          "model_module": "@jupyter-widgets/base",
          "model_name": "LayoutModel",
          "model_module_version": "1.2.0",
          "state": {
            "_model_module": "@jupyter-widgets/base",
            "_model_module_version": "1.2.0",
            "_model_name": "LayoutModel",
            "_view_count": null,
            "_view_module": "@jupyter-widgets/base",
            "_view_module_version": "1.2.0",
            "_view_name": "LayoutView",
            "align_content": null,
            "align_items": null,
            "align_self": null,
            "border": null,
            "bottom": null,
            "display": null,
            "flex": null,
            "flex_flow": null,
            "grid_area": null,
            "grid_auto_columns": null,
            "grid_auto_flow": null,
            "grid_auto_rows": null,
            "grid_column": null,
            "grid_gap": null,
            "grid_row": null,
            "grid_template_areas": null,
            "grid_template_columns": null,
            "grid_template_rows": null,
            "height": null,
            "justify_content": null,
            "justify_items": null,
            "left": null,
            "margin": null,
            "max_height": null,
            "max_width": null,
            "min_height": null,
            "min_width": null,
            "object_fit": null,
            "object_position": null,
            "order": null,
            "overflow": null,
            "overflow_x": null,
            "overflow_y": null,
            "padding": null,
            "right": null,
            "top": null,
            "visibility": null,
            "width": null
          }
        },
        "5ef1ec9cbe3248be8c25545c8d5f4a64": {
          "model_module": "@jupyter-widgets/controls",
          "model_name": "DescriptionStyleModel",
          "model_module_version": "1.5.0",
          "state": {
            "_model_module": "@jupyter-widgets/controls",
            "_model_module_version": "1.5.0",
            "_model_name": "DescriptionStyleModel",
            "_view_count": null,
            "_view_module": "@jupyter-widgets/base",
            "_view_module_version": "1.2.0",
            "_view_name": "StyleView",
            "description_width": ""
          }
        },
        "71127e85a762455ab5a18f827b93ebca": {
          "model_module": "@jupyter-widgets/base",
          "model_name": "LayoutModel",
          "model_module_version": "1.2.0",
          "state": {
            "_model_module": "@jupyter-widgets/base",
            "_model_module_version": "1.2.0",
            "_model_name": "LayoutModel",
            "_view_count": null,
            "_view_module": "@jupyter-widgets/base",
            "_view_module_version": "1.2.0",
            "_view_name": "LayoutView",
            "align_content": null,
            "align_items": null,
            "align_self": null,
            "border": null,
            "bottom": null,
            "display": null,
            "flex": null,
            "flex_flow": null,
            "grid_area": null,
            "grid_auto_columns": null,
            "grid_auto_flow": null,
            "grid_auto_rows": null,
            "grid_column": null,
            "grid_gap": null,
            "grid_row": null,
            "grid_template_areas": null,
            "grid_template_columns": null,
            "grid_template_rows": null,
            "height": null,
            "justify_content": null,
            "justify_items": null,
            "left": null,
            "margin": null,
            "max_height": null,
            "max_width": null,
            "min_height": null,
            "min_width": null,
            "object_fit": null,
            "object_position": null,
            "order": null,
            "overflow": null,
            "overflow_x": null,
            "overflow_y": null,
            "padding": null,
            "right": null,
            "top": null,
            "visibility": null,
            "width": null
          }
        },
        "7fb9b539d34d4ac085dc4dd2513b923f": {
          "model_module": "@jupyter-widgets/controls",
          "model_name": "ProgressStyleModel",
          "model_module_version": "1.5.0",
          "state": {
            "_model_module": "@jupyter-widgets/controls",
            "_model_module_version": "1.5.0",
            "_model_name": "ProgressStyleModel",
            "_view_count": null,
            "_view_module": "@jupyter-widgets/base",
            "_view_module_version": "1.2.0",
            "_view_name": "StyleView",
            "bar_color": null,
            "description_width": ""
          }
        },
        "369c58edb93b4ae180b391aa9a68c9f2": {
          "model_module": "@jupyter-widgets/base",
          "model_name": "LayoutModel",
          "model_module_version": "1.2.0",
          "state": {
            "_model_module": "@jupyter-widgets/base",
            "_model_module_version": "1.2.0",
            "_model_name": "LayoutModel",
            "_view_count": null,
            "_view_module": "@jupyter-widgets/base",
            "_view_module_version": "1.2.0",
            "_view_name": "LayoutView",
            "align_content": null,
            "align_items": null,
            "align_self": null,
            "border": null,
            "bottom": null,
            "display": null,
            "flex": null,
            "flex_flow": null,
            "grid_area": null,
            "grid_auto_columns": null,
            "grid_auto_flow": null,
            "grid_auto_rows": null,
            "grid_column": null,
            "grid_gap": null,
            "grid_row": null,
            "grid_template_areas": null,
            "grid_template_columns": null,
            "grid_template_rows": null,
            "height": null,
            "justify_content": null,
            "justify_items": null,
            "left": null,
            "margin": null,
            "max_height": null,
            "max_width": null,
            "min_height": null,
            "min_width": null,
            "object_fit": null,
            "object_position": null,
            "order": null,
            "overflow": null,
            "overflow_x": null,
            "overflow_y": null,
            "padding": null,
            "right": null,
            "top": null,
            "visibility": null,
            "width": null
          }
        },
        "1c102de6c2fc4d1daf1b7e6d51c4b66a": {
          "model_module": "@jupyter-widgets/controls",
          "model_name": "DescriptionStyleModel",
          "model_module_version": "1.5.0",
          "state": {
            "_model_module": "@jupyter-widgets/controls",
            "_model_module_version": "1.5.0",
            "_model_name": "DescriptionStyleModel",
            "_view_count": null,
            "_view_module": "@jupyter-widgets/base",
            "_view_module_version": "1.2.0",
            "_view_name": "StyleView",
            "description_width": ""
          }
        },
        "033a423543ea48beaec1f0da48ccdb6b": {
          "model_module": "@jupyter-widgets/controls",
          "model_name": "HBoxModel",
          "model_module_version": "1.5.0",
          "state": {
            "_dom_classes": [],
            "_model_module": "@jupyter-widgets/controls",
            "_model_module_version": "1.5.0",
            "_model_name": "HBoxModel",
            "_view_count": null,
            "_view_module": "@jupyter-widgets/controls",
            "_view_module_version": "1.5.0",
            "_view_name": "HBoxView",
            "box_style": "",
            "children": [
              "IPY_MODEL_942d176a08c34f2b866b53f4bd0ff7e2",
              "IPY_MODEL_b3c7e2bcbb8b4458bcf2b8deb5b85228",
              "IPY_MODEL_7bbfacd2c159455c836cb7d70d56270e"
            ],
            "layout": "IPY_MODEL_e3e68899a5db4a80902a9f5062227e97"
          }
        },
        "942d176a08c34f2b866b53f4bd0ff7e2": {
          "model_module": "@jupyter-widgets/controls",
          "model_name": "HTMLModel",
          "model_module_version": "1.5.0",
          "state": {
            "_dom_classes": [],
            "_model_module": "@jupyter-widgets/controls",
            "_model_module_version": "1.5.0",
            "_model_name": "HTMLModel",
            "_view_count": null,
            "_view_module": "@jupyter-widgets/controls",
            "_view_module_version": "1.5.0",
            "_view_name": "HTMLView",
            "description": "",
            "description_tooltip": null,
            "layout": "IPY_MODEL_a696273e7bde439296df17924ec48d1f",
            "placeholder": "​",
            "style": "IPY_MODEL_9d73dcf254fd493cbdc58a09d37fd5c8",
            "value": "Downloading: 100%"
          }
        },
        "b3c7e2bcbb8b4458bcf2b8deb5b85228": {
          "model_module": "@jupyter-widgets/controls",
          "model_name": "FloatProgressModel",
          "model_module_version": "1.5.0",
          "state": {
            "_dom_classes": [],
            "_model_module": "@jupyter-widgets/controls",
            "_model_module_version": "1.5.0",
            "_model_name": "FloatProgressModel",
            "_view_count": null,
            "_view_module": "@jupyter-widgets/controls",
            "_view_module_version": "1.5.0",
            "_view_name": "ProgressView",
            "bar_style": "success",
            "description": "",
            "description_tooltip": null,
            "layout": "IPY_MODEL_295e79f99f2a44ae80027a08629a35b4",
            "max": 494860,
            "min": 0,
            "orientation": "horizontal",
            "style": "IPY_MODEL_b1846fe0cbac4a7486a9b4946864f0bb",
            "value": 494860
          }
        },
        "7bbfacd2c159455c836cb7d70d56270e": {
          "model_module": "@jupyter-widgets/controls",
          "model_name": "HTMLModel",
          "model_module_version": "1.5.0",
          "state": {
            "_dom_classes": [],
            "_model_module": "@jupyter-widgets/controls",
            "_model_module_version": "1.5.0",
            "_model_name": "HTMLModel",
            "_view_count": null,
            "_view_module": "@jupyter-widgets/controls",
            "_view_module_version": "1.5.0",
            "_view_name": "HTMLView",
            "description": "",
            "description_tooltip": null,
            "layout": "IPY_MODEL_a17dc0c7708147c28af20f4c67f5bee8",
            "placeholder": "​",
            "style": "IPY_MODEL_a38eb072a39a4d38a6e6c477f9a429e2",
            "value": " 495k/495k [00:00&lt;00:00, 430kB/s]"
          }
        },
        "e3e68899a5db4a80902a9f5062227e97": {
          "model_module": "@jupyter-widgets/base",
          "model_name": "LayoutModel",
          "model_module_version": "1.2.0",
          "state": {
            "_model_module": "@jupyter-widgets/base",
            "_model_module_version": "1.2.0",
            "_model_name": "LayoutModel",
            "_view_count": null,
            "_view_module": "@jupyter-widgets/base",
            "_view_module_version": "1.2.0",
            "_view_name": "LayoutView",
            "align_content": null,
            "align_items": null,
            "align_self": null,
            "border": null,
            "bottom": null,
            "display": null,
            "flex": null,
            "flex_flow": null,
            "grid_area": null,
            "grid_auto_columns": null,
            "grid_auto_flow": null,
            "grid_auto_rows": null,
            "grid_column": null,
            "grid_gap": null,
            "grid_row": null,
            "grid_template_areas": null,
            "grid_template_columns": null,
            "grid_template_rows": null,
            "height": null,
            "justify_content": null,
            "justify_items": null,
            "left": null,
            "margin": null,
            "max_height": null,
            "max_width": null,
            "min_height": null,
            "min_width": null,
            "object_fit": null,
            "object_position": null,
            "order": null,
            "overflow": null,
            "overflow_x": null,
            "overflow_y": null,
            "padding": null,
            "right": null,
            "top": null,
            "visibility": null,
            "width": null
          }
        },
        "a696273e7bde439296df17924ec48d1f": {
          "model_module": "@jupyter-widgets/base",
          "model_name": "LayoutModel",
          "model_module_version": "1.2.0",
          "state": {
            "_model_module": "@jupyter-widgets/base",
            "_model_module_version": "1.2.0",
            "_model_name": "LayoutModel",
            "_view_count": null,
            "_view_module": "@jupyter-widgets/base",
            "_view_module_version": "1.2.0",
            "_view_name": "LayoutView",
            "align_content": null,
            "align_items": null,
            "align_self": null,
            "border": null,
            "bottom": null,
            "display": null,
            "flex": null,
            "flex_flow": null,
            "grid_area": null,
            "grid_auto_columns": null,
            "grid_auto_flow": null,
            "grid_auto_rows": null,
            "grid_column": null,
            "grid_gap": null,
            "grid_row": null,
            "grid_template_areas": null,
            "grid_template_columns": null,
            "grid_template_rows": null,
            "height": null,
            "justify_content": null,
            "justify_items": null,
            "left": null,
            "margin": null,
            "max_height": null,
            "max_width": null,
            "min_height": null,
            "min_width": null,
            "object_fit": null,
            "object_position": null,
            "order": null,
            "overflow": null,
            "overflow_x": null,
            "overflow_y": null,
            "padding": null,
            "right": null,
            "top": null,
            "visibility": null,
            "width": null
          }
        },
        "9d73dcf254fd493cbdc58a09d37fd5c8": {
          "model_module": "@jupyter-widgets/controls",
          "model_name": "DescriptionStyleModel",
          "model_module_version": "1.5.0",
          "state": {
            "_model_module": "@jupyter-widgets/controls",
            "_model_module_version": "1.5.0",
            "_model_name": "DescriptionStyleModel",
            "_view_count": null,
            "_view_module": "@jupyter-widgets/base",
            "_view_module_version": "1.2.0",
            "_view_name": "StyleView",
            "description_width": ""
          }
        },
        "295e79f99f2a44ae80027a08629a35b4": {
          "model_module": "@jupyter-widgets/base",
          "model_name": "LayoutModel",
          "model_module_version": "1.2.0",
          "state": {
            "_model_module": "@jupyter-widgets/base",
            "_model_module_version": "1.2.0",
            "_model_name": "LayoutModel",
            "_view_count": null,
            "_view_module": "@jupyter-widgets/base",
            "_view_module_version": "1.2.0",
            "_view_name": "LayoutView",
            "align_content": null,
            "align_items": null,
            "align_self": null,
            "border": null,
            "bottom": null,
            "display": null,
            "flex": null,
            "flex_flow": null,
            "grid_area": null,
            "grid_auto_columns": null,
            "grid_auto_flow": null,
            "grid_auto_rows": null,
            "grid_column": null,
            "grid_gap": null,
            "grid_row": null,
            "grid_template_areas": null,
            "grid_template_columns": null,
            "grid_template_rows": null,
            "height": null,
            "justify_content": null,
            "justify_items": null,
            "left": null,
            "margin": null,
            "max_height": null,
            "max_width": null,
            "min_height": null,
            "min_width": null,
            "object_fit": null,
            "object_position": null,
            "order": null,
            "overflow": null,
            "overflow_x": null,
            "overflow_y": null,
            "padding": null,
            "right": null,
            "top": null,
            "visibility": null,
            "width": null
          }
        },
        "b1846fe0cbac4a7486a9b4946864f0bb": {
          "model_module": "@jupyter-widgets/controls",
          "model_name": "ProgressStyleModel",
          "model_module_version": "1.5.0",
          "state": {
            "_model_module": "@jupyter-widgets/controls",
            "_model_module_version": "1.5.0",
            "_model_name": "ProgressStyleModel",
            "_view_count": null,
            "_view_module": "@jupyter-widgets/base",
            "_view_module_version": "1.2.0",
            "_view_name": "StyleView",
            "bar_color": null,
            "description_width": ""
          }
        },
        "a17dc0c7708147c28af20f4c67f5bee8": {
          "model_module": "@jupyter-widgets/base",
          "model_name": "LayoutModel",
          "model_module_version": "1.2.0",
          "state": {
            "_model_module": "@jupyter-widgets/base",
            "_model_module_version": "1.2.0",
            "_model_name": "LayoutModel",
            "_view_count": null,
            "_view_module": "@jupyter-widgets/base",
            "_view_module_version": "1.2.0",
            "_view_name": "LayoutView",
            "align_content": null,
            "align_items": null,
            "align_self": null,
            "border": null,
            "bottom": null,
            "display": null,
            "flex": null,
            "flex_flow": null,
            "grid_area": null,
            "grid_auto_columns": null,
            "grid_auto_flow": null,
            "grid_auto_rows": null,
            "grid_column": null,
            "grid_gap": null,
            "grid_row": null,
            "grid_template_areas": null,
            "grid_template_columns": null,
            "grid_template_rows": null,
            "height": null,
            "justify_content": null,
            "justify_items": null,
            "left": null,
            "margin": null,
            "max_height": null,
            "max_width": null,
            "min_height": null,
            "min_width": null,
            "object_fit": null,
            "object_position": null,
            "order": null,
            "overflow": null,
            "overflow_x": null,
            "overflow_y": null,
            "padding": null,
            "right": null,
            "top": null,
            "visibility": null,
            "width": null
          }
        },
        "a38eb072a39a4d38a6e6c477f9a429e2": {
          "model_module": "@jupyter-widgets/controls",
          "model_name": "DescriptionStyleModel",
          "model_module_version": "1.5.0",
          "state": {
            "_model_module": "@jupyter-widgets/controls",
            "_model_module_version": "1.5.0",
            "_model_name": "DescriptionStyleModel",
            "_view_count": null,
            "_view_module": "@jupyter-widgets/base",
            "_view_module_version": "1.2.0",
            "_view_name": "StyleView",
            "description_width": ""
          }
        },
        "afbba0f39de7471bb30582da01454764": {
          "model_module": "@jupyter-widgets/controls",
          "model_name": "HBoxModel",
          "model_module_version": "1.5.0",
          "state": {
            "_dom_classes": [],
            "_model_module": "@jupyter-widgets/controls",
            "_model_module_version": "1.5.0",
            "_model_name": "HBoxModel",
            "_view_count": null,
            "_view_module": "@jupyter-widgets/controls",
            "_view_module_version": "1.5.0",
            "_view_name": "HBoxView",
            "box_style": "",
            "children": [
              "IPY_MODEL_fc83621411e743d0986bd9ae354df623",
              "IPY_MODEL_1e0f77ab30f9467db852d40d3ff46c48",
              "IPY_MODEL_353ccc07e1164ef6943aa92f60d8313f"
            ],
            "layout": "IPY_MODEL_1ab80c2bb62a4c84a88f9dd320faf384"
          }
        },
        "fc83621411e743d0986bd9ae354df623": {
          "model_module": "@jupyter-widgets/controls",
          "model_name": "HTMLModel",
          "model_module_version": "1.5.0",
          "state": {
            "_dom_classes": [],
            "_model_module": "@jupyter-widgets/controls",
            "_model_module_version": "1.5.0",
            "_model_name": "HTMLModel",
            "_view_count": null,
            "_view_module": "@jupyter-widgets/controls",
            "_view_module_version": "1.5.0",
            "_view_name": "HTMLView",
            "description": "",
            "description_tooltip": null,
            "layout": "IPY_MODEL_e6eab0c0ba3f47e3bc38331860f5149e",
            "placeholder": "​",
            "style": "IPY_MODEL_fd73ab60fa4447fc9a780293c56d01c6",
            "value": "Downloading: 100%"
          }
        },
        "1e0f77ab30f9467db852d40d3ff46c48": {
          "model_module": "@jupyter-widgets/controls",
          "model_name": "FloatProgressModel",
          "model_module_version": "1.5.0",
          "state": {
            "_dom_classes": [],
            "_model_module": "@jupyter-widgets/controls",
            "_model_module_version": "1.5.0",
            "_model_name": "FloatProgressModel",
            "_view_count": null,
            "_view_module": "@jupyter-widgets/controls",
            "_view_module_version": "1.5.0",
            "_view_name": "ProgressView",
            "bar_style": "success",
            "description": "",
            "description_tooltip": null,
            "layout": "IPY_MODEL_0226973e91cc4edf9d709124f1ff4abc",
            "max": 125,
            "min": 0,
            "orientation": "horizontal",
            "style": "IPY_MODEL_4231ac9c15b64e0baa733f88910ea621",
            "value": 125
          }
        },
        "353ccc07e1164ef6943aa92f60d8313f": {
          "model_module": "@jupyter-widgets/controls",
          "model_name": "HTMLModel",
          "model_module_version": "1.5.0",
          "state": {
            "_dom_classes": [],
            "_model_module": "@jupyter-widgets/controls",
            "_model_module_version": "1.5.0",
            "_model_name": "HTMLModel",
            "_view_count": null,
            "_view_module": "@jupyter-widgets/controls",
            "_view_module_version": "1.5.0",
            "_view_name": "HTMLView",
            "description": "",
            "description_tooltip": null,
            "layout": "IPY_MODEL_da3b551ee4324becaf561fc984ef7a67",
            "placeholder": "​",
            "style": "IPY_MODEL_2e43090e08064921b687671b969e9441",
            "value": " 125/125 [00:00&lt;00:00, 810B/s]"
          }
        },
        "1ab80c2bb62a4c84a88f9dd320faf384": {
          "model_module": "@jupyter-widgets/base",
          "model_name": "LayoutModel",
          "model_module_version": "1.2.0",
          "state": {
            "_model_module": "@jupyter-widgets/base",
            "_model_module_version": "1.2.0",
            "_model_name": "LayoutModel",
            "_view_count": null,
            "_view_module": "@jupyter-widgets/base",
            "_view_module_version": "1.2.0",
            "_view_name": "LayoutView",
            "align_content": null,
            "align_items": null,
            "align_self": null,
            "border": null,
            "bottom": null,
            "display": null,
            "flex": null,
            "flex_flow": null,
            "grid_area": null,
            "grid_auto_columns": null,
            "grid_auto_flow": null,
            "grid_auto_rows": null,
            "grid_column": null,
            "grid_gap": null,
            "grid_row": null,
            "grid_template_areas": null,
            "grid_template_columns": null,
            "grid_template_rows": null,
            "height": null,
            "justify_content": null,
            "justify_items": null,
            "left": null,
            "margin": null,
            "max_height": null,
            "max_width": null,
            "min_height": null,
            "min_width": null,
            "object_fit": null,
            "object_position": null,
            "order": null,
            "overflow": null,
            "overflow_x": null,
            "overflow_y": null,
            "padding": null,
            "right": null,
            "top": null,
            "visibility": null,
            "width": null
          }
        },
        "e6eab0c0ba3f47e3bc38331860f5149e": {
          "model_module": "@jupyter-widgets/base",
          "model_name": "LayoutModel",
          "model_module_version": "1.2.0",
          "state": {
            "_model_module": "@jupyter-widgets/base",
            "_model_module_version": "1.2.0",
            "_model_name": "LayoutModel",
            "_view_count": null,
            "_view_module": "@jupyter-widgets/base",
            "_view_module_version": "1.2.0",
            "_view_name": "LayoutView",
            "align_content": null,
            "align_items": null,
            "align_self": null,
            "border": null,
            "bottom": null,
            "display": null,
            "flex": null,
            "flex_flow": null,
            "grid_area": null,
            "grid_auto_columns": null,
            "grid_auto_flow": null,
            "grid_auto_rows": null,
            "grid_column": null,
            "grid_gap": null,
            "grid_row": null,
            "grid_template_areas": null,
            "grid_template_columns": null,
            "grid_template_rows": null,
            "height": null,
            "justify_content": null,
            "justify_items": null,
            "left": null,
            "margin": null,
            "max_height": null,
            "max_width": null,
            "min_height": null,
            "min_width": null,
            "object_fit": null,
            "object_position": null,
            "order": null,
            "overflow": null,
            "overflow_x": null,
            "overflow_y": null,
            "padding": null,
            "right": null,
            "top": null,
            "visibility": null,
            "width": null
          }
        },
        "fd73ab60fa4447fc9a780293c56d01c6": {
          "model_module": "@jupyter-widgets/controls",
          "model_name": "DescriptionStyleModel",
          "model_module_version": "1.5.0",
          "state": {
            "_model_module": "@jupyter-widgets/controls",
            "_model_module_version": "1.5.0",
            "_model_name": "DescriptionStyleModel",
            "_view_count": null,
            "_view_module": "@jupyter-widgets/base",
            "_view_module_version": "1.2.0",
            "_view_name": "StyleView",
            "description_width": ""
          }
        },
        "0226973e91cc4edf9d709124f1ff4abc": {
          "model_module": "@jupyter-widgets/base",
          "model_name": "LayoutModel",
          "model_module_version": "1.2.0",
          "state": {
            "_model_module": "@jupyter-widgets/base",
            "_model_module_version": "1.2.0",
            "_model_name": "LayoutModel",
            "_view_count": null,
            "_view_module": "@jupyter-widgets/base",
            "_view_module_version": "1.2.0",
            "_view_name": "LayoutView",
            "align_content": null,
            "align_items": null,
            "align_self": null,
            "border": null,
            "bottom": null,
            "display": null,
            "flex": null,
            "flex_flow": null,
            "grid_area": null,
            "grid_auto_columns": null,
            "grid_auto_flow": null,
            "grid_auto_rows": null,
            "grid_column": null,
            "grid_gap": null,
            "grid_row": null,
            "grid_template_areas": null,
            "grid_template_columns": null,
            "grid_template_rows": null,
            "height": null,
            "justify_content": null,
            "justify_items": null,
            "left": null,
            "margin": null,
            "max_height": null,
            "max_width": null,
            "min_height": null,
            "min_width": null,
            "object_fit": null,
            "object_position": null,
            "order": null,
            "overflow": null,
            "overflow_x": null,
            "overflow_y": null,
            "padding": null,
            "right": null,
            "top": null,
            "visibility": null,
            "width": null
          }
        },
        "4231ac9c15b64e0baa733f88910ea621": {
          "model_module": "@jupyter-widgets/controls",
          "model_name": "ProgressStyleModel",
          "model_module_version": "1.5.0",
          "state": {
            "_model_module": "@jupyter-widgets/controls",
            "_model_module_version": "1.5.0",
            "_model_name": "ProgressStyleModel",
            "_view_count": null,
            "_view_module": "@jupyter-widgets/base",
            "_view_module_version": "1.2.0",
            "_view_name": "StyleView",
            "bar_color": null,
            "description_width": ""
          }
        },
        "da3b551ee4324becaf561fc984ef7a67": {
          "model_module": "@jupyter-widgets/base",
          "model_name": "LayoutModel",
          "model_module_version": "1.2.0",
          "state": {
            "_model_module": "@jupyter-widgets/base",
            "_model_module_version": "1.2.0",
            "_model_name": "LayoutModel",
            "_view_count": null,
            "_view_module": "@jupyter-widgets/base",
            "_view_module_version": "1.2.0",
            "_view_name": "LayoutView",
            "align_content": null,
            "align_items": null,
            "align_self": null,
            "border": null,
            "bottom": null,
            "display": null,
            "flex": null,
            "flex_flow": null,
            "grid_area": null,
            "grid_auto_columns": null,
            "grid_auto_flow": null,
            "grid_auto_rows": null,
            "grid_column": null,
            "grid_gap": null,
            "grid_row": null,
            "grid_template_areas": null,
            "grid_template_columns": null,
            "grid_template_rows": null,
            "height": null,
            "justify_content": null,
            "justify_items": null,
            "left": null,
            "margin": null,
            "max_height": null,
            "max_width": null,
            "min_height": null,
            "min_width": null,
            "object_fit": null,
            "object_position": null,
            "order": null,
            "overflow": null,
            "overflow_x": null,
            "overflow_y": null,
            "padding": null,
            "right": null,
            "top": null,
            "visibility": null,
            "width": null
          }
        },
        "2e43090e08064921b687671b969e9441": {
          "model_module": "@jupyter-widgets/controls",
          "model_name": "DescriptionStyleModel",
          "model_module_version": "1.5.0",
          "state": {
            "_model_module": "@jupyter-widgets/controls",
            "_model_module_version": "1.5.0",
            "_model_name": "DescriptionStyleModel",
            "_view_count": null,
            "_view_module": "@jupyter-widgets/base",
            "_view_module_version": "1.2.0",
            "_view_name": "StyleView",
            "description_width": ""
          }
        }
      }
    }
  },
  "cells": [
    {
      "cell_type": "markdown",
      "metadata": {
        "id": "view-in-github",
        "colab_type": "text"
      },
      "source": [
        "<a href=\"https://colab.research.google.com/github/pu-bi/AI-industry-job-experience-for-non-majors/blob/main/2-preprocess/3_Inference_and_Demo.ipynb\" target=\"_parent\"><img src=\"https://colab.research.google.com/assets/colab-badge.svg\" alt=\"Open In Colab\"/></a>"
      ]
    },
    {
      "cell_type": "markdown",
      "source": [
        "# 방금 만든 모델로 인퍼런스를 진행하기 위해 필요한 것을 다운받습니다."
      ],
      "metadata": {
        "id": "lF0xoYKb7nQB"
      }
    },
    {
      "cell_type": "code",
      "source": [
        "!pip install -q transformers"
      ],
      "metadata": {
        "id": "3e-JjvTm5hj_",
        "colab": {
          "base_uri": "https://localhost:8080/"
        },
        "outputId": "2c30ea21-0b4f-4149-c603-52565ec5344b"
      },
      "execution_count": null,
      "outputs": [
        {
          "output_type": "stream",
          "name": "stdout",
          "text": [
            "\u001b[K     |████████████████████████████████| 5.5 MB 5.3 MB/s \n",
            "\u001b[K     |████████████████████████████████| 7.6 MB 36.3 MB/s \n",
            "\u001b[K     |████████████████████████████████| 163 kB 72.6 MB/s \n",
            "\u001b[?25h"
          ]
        }
      ]
    },
    {
      "cell_type": "code",
      "source": [
        "from transformers import AutoModelForSequenceClassification, Trainer, AutoTokenizer\n",
        "import numpy as np\n",
        "tokenizer = AutoTokenizer.from_pretrained(\"klue/bert-base\")\n",
        "id2label = {0: '날씨 묻기', 1: '관광지 추천', 2: '숙소 추천', 3: '맛집 추천', 4: '인사', 5: '소개', 6: '기타'}"
      ],
      "metadata": {
        "id": "87Z0Wg395tQ9",
        "colab": {
          "base_uri": "https://localhost:8080/",
          "height": 177,
          "referenced_widgets": [
            "d677fc4247444d3299a09983d5bd333a",
            "819e058ec43447ebbb14adf487a0216a",
            "c6ef549c85f6420bbb6d0cf628dd9216",
            "e92dc66a156049318206c1b1ba554dc8",
            "ffcca7f979b047608e7fb5c024481847",
            "d943c371499341578cccaffb6a998adb",
            "a6b145b52e334682b75be33362de1600",
            "1be7343d592243f59788a5e16daa234f",
            "ef89d117caf44c91aa1c781c2b8e7694",
            "5a98d216270c4c8381b15008b7e5abbc",
            "8748d723077849aaa5db6d1e26af1322",
            "8e2a012bbbc2453ebd4b822f8f7510d9",
            "0e6b522f71dd4d629b596942f89353f5",
            "02c0713f63604ca2bfa636c145961609",
            "347adb790d054027a3cae828c26115fe",
            "368e22981b8c41a68896eb2a3b561130",
            "6b6d3bd22ad3412f9ef21cc5acd37dc2",
            "cfc28ead4e5f448f846d30664f095e39",
            "767e0caa6ebc47688e9df0d79094631a",
            "0277be6500854d6da5fd0c465807bc35",
            "4493e4c7a7e04a94a8c50c0617ba7e3a",
            "9b266e0188b24426a494b934b464e073",
            "17ddb28e819441b0ab5a7e6e605ba5b8",
            "a5f56e7abdf14bbf941ff312bafaa6fd",
            "cdb01b525eda4780a9cea369010a6ba6",
            "1c22e984a479424c868a421a54112f33",
            "6f0c6f14ccdb40c2aeaf91d2d357c262",
            "fea88e0573ca4e01902f2f534b6b340e",
            "5ef1ec9cbe3248be8c25545c8d5f4a64",
            "71127e85a762455ab5a18f827b93ebca",
            "7fb9b539d34d4ac085dc4dd2513b923f",
            "369c58edb93b4ae180b391aa9a68c9f2",
            "1c102de6c2fc4d1daf1b7e6d51c4b66a",
            "033a423543ea48beaec1f0da48ccdb6b",
            "942d176a08c34f2b866b53f4bd0ff7e2",
            "b3c7e2bcbb8b4458bcf2b8deb5b85228",
            "7bbfacd2c159455c836cb7d70d56270e",
            "e3e68899a5db4a80902a9f5062227e97",
            "a696273e7bde439296df17924ec48d1f",
            "9d73dcf254fd493cbdc58a09d37fd5c8",
            "295e79f99f2a44ae80027a08629a35b4",
            "b1846fe0cbac4a7486a9b4946864f0bb",
            "a17dc0c7708147c28af20f4c67f5bee8",
            "a38eb072a39a4d38a6e6c477f9a429e2",
            "afbba0f39de7471bb30582da01454764",
            "fc83621411e743d0986bd9ae354df623",
            "1e0f77ab30f9467db852d40d3ff46c48",
            "353ccc07e1164ef6943aa92f60d8313f",
            "1ab80c2bb62a4c84a88f9dd320faf384",
            "e6eab0c0ba3f47e3bc38331860f5149e",
            "fd73ab60fa4447fc9a780293c56d01c6",
            "0226973e91cc4edf9d709124f1ff4abc",
            "4231ac9c15b64e0baa733f88910ea621",
            "da3b551ee4324becaf561fc984ef7a67",
            "2e43090e08064921b687671b969e9441"
          ]
        },
        "outputId": "ed7fa380-a74b-4393-c11a-01340910c76e"
      },
      "execution_count": null,
      "outputs": [
        {
          "output_type": "display_data",
          "data": {
            "text/plain": [
              "Downloading:   0%|          | 0.00/289 [00:00<?, ?B/s]"
            ],
            "application/vnd.jupyter.widget-view+json": {
              "version_major": 2,
              "version_minor": 0,
              "model_id": "d677fc4247444d3299a09983d5bd333a"
            }
          },
          "metadata": {}
        },
        {
          "output_type": "display_data",
          "data": {
            "text/plain": [
              "Downloading:   0%|          | 0.00/425 [00:00<?, ?B/s]"
            ],
            "application/vnd.jupyter.widget-view+json": {
              "version_major": 2,
              "version_minor": 0,
              "model_id": "8e2a012bbbc2453ebd4b822f8f7510d9"
            }
          },
          "metadata": {}
        },
        {
          "output_type": "display_data",
          "data": {
            "text/plain": [
              "Downloading:   0%|          | 0.00/248k [00:00<?, ?B/s]"
            ],
            "application/vnd.jupyter.widget-view+json": {
              "version_major": 2,
              "version_minor": 0,
              "model_id": "17ddb28e819441b0ab5a7e6e605ba5b8"
            }
          },
          "metadata": {}
        },
        {
          "output_type": "display_data",
          "data": {
            "text/plain": [
              "Downloading:   0%|          | 0.00/495k [00:00<?, ?B/s]"
            ],
            "application/vnd.jupyter.widget-view+json": {
              "version_major": 2,
              "version_minor": 0,
              "model_id": "033a423543ea48beaec1f0da48ccdb6b"
            }
          },
          "metadata": {}
        },
        {
          "output_type": "display_data",
          "data": {
            "text/plain": [
              "Downloading:   0%|          | 0.00/125 [00:00<?, ?B/s]"
            ],
            "application/vnd.jupyter.widget-view+json": {
              "version_major": 2,
              "version_minor": 0,
              "model_id": "afbba0f39de7471bb30582da01454764"
            }
          },
          "metadata": {}
        }
      ]
    },
    {
      "cell_type": "code",
      "source": [
        "from google.colab import drive\n",
        "drive.mount('/content/drive')"
      ],
      "metadata": {
        "colab": {
          "base_uri": "https://localhost:8080/"
        },
        "id": "ipnjd4Fq5zKV",
        "outputId": "fe437ff3-a9a1-458f-8f62-16221eef1098"
      },
      "execution_count": null,
      "outputs": [
        {
          "output_type": "stream",
          "name": "stdout",
          "text": [
            "Mounted at /content/drive\n"
          ]
        }
      ]
    },
    {
      "cell_type": "markdown",
      "source": [
        "# 이전 파일에서 저장했던 모델을 불러옵니다."
      ],
      "metadata": {
        "id": "27YNyPRW7-FO"
      }
    },
    {
      "cell_type": "code",
      "execution_count": null,
      "metadata": {
        "id": "NaKW6quG5f5J"
      },
      "outputs": [],
      "source": [
        "model = AutoModelForSequenceClassification.from_pretrained('/content/drive/MyDrive/week2/REALLLLwk2/finetuning/my_model', local_files_only=True)\n",
        "trainer = Trainer(model=model)"
      ]
    },
    {
      "cell_type": "markdown",
      "source": [
        "# Inference\n",
        "\n",
        "모델에 새로운 문장을 넣어 잘 작동하는지 확인합니다."
      ],
      "metadata": {
        "id": "kxJnIuH08kEu"
      }
    },
    {
      "cell_type": "code",
      "source": [
        "text = \"넌 기능이 뭐야?\"\n",
        "\n",
        "encoding = tokenizer(text, return_tensors=\"pt\")\n",
        "encoding = {k: v.to(trainer.model.device) for k,v in encoding.items()}\n",
        "\n",
        "outputs = trainer.model(**encoding)"
      ],
      "metadata": {
        "id": "BVQRCE8J5xQ3"
      },
      "execution_count": null,
      "outputs": []
    },
    {
      "cell_type": "code",
      "source": [
        "encoding"
      ],
      "metadata": {
        "id": "pJOkhbAd6ifD",
        "colab": {
          "base_uri": "https://localhost:8080/"
        },
        "outputId": "04c8ea55-aee7-46bd-fb69-5b4c4b027c42"
      },
      "execution_count": null,
      "outputs": [
        {
          "output_type": "execute_result",
          "data": {
            "text/plain": [
              "{'input_ids': tensor([[   2,  746, 4039, 2052, 1097, 2275,   35,    3]]),\n",
              " 'token_type_ids': tensor([[0, 0, 0, 0, 0, 0, 0, 0]]),\n",
              " 'attention_mask': tensor([[1, 1, 1, 1, 1, 1, 1, 1]])}"
            ]
          },
          "metadata": {},
          "execution_count": 6
        }
      ]
    },
    {
      "cell_type": "markdown",
      "source": [
        "모델의 결과값으로 나오는 logits의 shape은 (batch_size, num_labels) 입니다. 우리는 하나의 문장만 모델에 입력하기 때문에 batch_size가 1이 되어야 합니다."
      ],
      "metadata": {
        "id": "fdl9JS-f8qZL"
      }
    },
    {
      "cell_type": "code",
      "source": [
        "logits = outputs.logits\n",
        "print(logits)"
      ],
      "metadata": {
        "id": "CTf9eTz36lpZ",
        "colab": {
          "base_uri": "https://localhost:8080/"
        },
        "outputId": "bd88bd3b-d848-4f25-e212-db30886f80ae"
      },
      "execution_count": null,
      "outputs": [
        {
          "output_type": "stream",
          "name": "stdout",
          "text": [
            "tensor([[-1.8863, -1.8422, -1.3113, -1.8163, -1.7619, -0.4065, -0.7335]],\n",
            "       grad_fn=<AddmmBackward0>)\n"
          ]
        }
      ]
    },
    {
      "cell_type": "code",
      "source": [
        "logits.shape"
      ],
      "metadata": {
        "colab": {
          "base_uri": "https://localhost:8080/"
        },
        "id": "le2y-XrBY2Uq",
        "outputId": "88ba464a-37e9-44b7-f0d3-dcb2487a332e"
      },
      "execution_count": null,
      "outputs": [
        {
          "output_type": "execute_result",
          "data": {
            "text/plain": [
              "torch.Size([1, 7])"
            ]
          },
          "metadata": {},
          "execution_count": 13
        }
      ]
    },
    {
      "cell_type": "markdown",
      "source": [
        "predict된 점수들 중 가장 높은 점수를 1로 변경해준 다음 앞에서 만들었던 사전을 이용해 텍스트로 변경해줍니다."
      ],
      "metadata": {
        "id": "_Y2vm3bO8tH7"
      }
    },
    {
      "cell_type": "code",
      "source": [
        "probs = logits.squeeze().cpu() # squeeze: 1인 차원을 제거하여 행렬의 차원을 줄임.\n",
        "print(\"probs: \", probs)\n",
        "print(\"probs' shape: \", probs.shape)\n",
        "\n",
        "predictions = np.where(probs==probs.max(), 1, 0)\n",
        "print(predictions)\n",
        "# turn predicted id's into actual label names\n",
        "predicted_labels = [id2label[idx] for idx, label in enumerate(predictions) if label == 1.0]\n",
        "print(predicted_labels)"
      ],
      "metadata": {
        "colab": {
          "base_uri": "https://localhost:8080/"
        },
        "id": "iEQ4GAdA6npA",
        "outputId": "c9a2f271-0529-49af-93e4-87940a0325a2"
      },
      "execution_count": null,
      "outputs": [
        {
          "output_type": "stream",
          "name": "stdout",
          "text": [
            "probs:  tensor([-1.8863, -1.8422, -1.3113, -1.8163, -1.7619, -0.4065, -0.7335],\n",
            "       grad_fn=<SqueezeBackward0>)\n",
            "probs' shape:  torch.Size([7])\n",
            "[0 0 0 0 0 1 0]\n",
            "['소개']\n"
          ]
        }
      ]
    },
    {
      "cell_type": "markdown",
      "source": [
        "# 플라스크로 모델을 웹사이트에 띄워보기 (데모)\n",
        "\n",
        "![image.png](data:image/png;base64,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)"
      ],
      "metadata": {
        "id": "MEWrn6ve75hC"
      }
    },
    {
      "cell_type": "markdown",
      "source": [
        "## Step1. 웹사이트에 사용될 inference 함수를 만듭니다"
      ],
      "metadata": {
        "id": "UuUCdi2U9J2h"
      }
    },
    {
      "cell_type": "code",
      "source": [
        "# Q1. 하나의 문장을 입력하면[input] 주제(라벨)을 반환[output]하는 함수 'inference' 를 만들어보세요:\n",
        "\n",
        "def inference()"
      ],
      "metadata": {
        "id": "TxSW5U5A7PEy"
      },
      "execution_count": null,
      "outputs": []
    },
    {
      "cell_type": "markdown",
      "source": [
        "### 답"
      ],
      "metadata": {
        "id": "AAUIzhM886oR"
      }
    },
    {
      "cell_type": "code",
      "source": [
        "def inference(text):\n",
        "  encoding = tokenizer(text, return_tensors = 'pt')\n",
        "  encoding = {k: v.to(trainer.model.device) for k,v in encoding.items()}\n",
        "\n",
        "  outputs = trainer.model(**encoding)\n",
        "\n",
        "  logits = outputs.logits\n",
        "\n",
        "  probs = logits.squeeze().cpu()\n",
        "  predictions = np.where(probs==probs.max(), 1, 0)\n",
        "  predicted_labels = [id2label[idx] for idx, label in enumerate(predictions) if label == 1.0]\n",
        "\n",
        "  return predicted_labels[0]"
      ],
      "metadata": {
        "id": "YEjuun5187im"
      },
      "execution_count": null,
      "outputs": []
    },
    {
      "cell_type": "markdown",
      "source": [
        "### 내가 만든 함수 사용"
      ],
      "metadata": {
        "id": "vFElZCOd8_kb"
      }
    },
    {
      "cell_type": "code",
      "source": [
        "# Q2. 내가 만든 함수를 사용해보세요:\n",
        "inference(\"\")"
      ],
      "metadata": {
        "id": "a6ePPJW389WK"
      },
      "execution_count": null,
      "outputs": []
    },
    {
      "cell_type": "markdown",
      "source": [
        "## Step2. 플라스크 라이브러리 및 웹 실행을 위해 필요한 것들을 설치해줍니다."
      ],
      "metadata": {
        "id": "rau392wQ9OGq"
      }
    },
    {
      "cell_type": "code",
      "source": [
        "!pip install flask --quiet\n",
        "!pip install flask-ngrok --quiet\n",
        "print(\"Completed!\")"
      ],
      "metadata": {
        "id": "gua62cry9Qvq",
        "colab": {
          "base_uri": "https://localhost:8080/"
        },
        "outputId": "4a06a1cb-db94-4d59-e04e-c25dd3dce0fe"
      },
      "execution_count": null,
      "outputs": [
        {
          "output_type": "stream",
          "name": "stdout",
          "text": [
            "Completed!\n"
          ]
        }
      ]
    },
    {
      "cell_type": "code",
      "source": [
        "# install ngrok linux version using the following command or you can get the\n",
        "# latest version from its official website- https://dashboard.ngrok.com/get-started/setup\n",
        "\n",
        "!wget https://bin.equinox.io/c/4VmDzA7iaHb/ngrok-stable-linux-amd64.tgz"
      ],
      "metadata": {
        "id": "S7NrKdzo9ULv",
        "colab": {
          "base_uri": "https://localhost:8080/"
        },
        "outputId": "ea6d11ec-7fd7-48f5-a997-aa7ae2dbc7e9"
      },
      "execution_count": null,
      "outputs": [
        {
          "output_type": "stream",
          "name": "stdout",
          "text": [
            "--2022-11-11 15:58:49--  https://bin.equinox.io/c/4VmDzA7iaHb/ngrok-stable-linux-amd64.tgz\n",
            "Resolving bin.equinox.io (bin.equinox.io)... 52.202.168.65, 54.161.241.46, 54.237.133.81, ...\n",
            "Connecting to bin.equinox.io (bin.equinox.io)|52.202.168.65|:443... connected.\n",
            "HTTP request sent, awaiting response... 200 OK\n",
            "Length: 13770165 (13M) [application/octet-stream]\n",
            "Saving to: ‘ngrok-stable-linux-amd64.tgz’\n",
            "\n",
            "ngrok-stable-linux- 100%[===================>]  13.13M  8.21MB/s    in 1.6s    \n",
            "\n",
            "2022-11-11 15:58:51 (8.21 MB/s) - ‘ngrok-stable-linux-amd64.tgz’ saved [13770165/13770165]\n",
            "\n"
          ]
        }
      ]
    },
    {
      "cell_type": "code",
      "source": [
        "# extract the downloaded file using the following command \n",
        "\n",
        "!tar -xvf /content/ngrok-stable-linux-amd64.tgz"
      ],
      "metadata": {
        "id": "CJ5GkiRv9WGq",
        "colab": {
          "base_uri": "https://localhost:8080/"
        },
        "outputId": "7142999c-8cc1-4082-d311-c8ccd2251931"
      },
      "execution_count": null,
      "outputs": [
        {
          "output_type": "stream",
          "name": "stdout",
          "text": [
            "ngrok\n"
          ]
        }
      ]
    },
    {
      "cell_type": "code",
      "source": [
        "# ngrok 사이트 (https://dashboard.ngrok.com/get-started/setup)에서 회원가입을 한뒤\n",
        "# \"Your Authtoken\" 탭을 클릭하여 authtoken을 복사하여 붙여넣습니다.\n",
        "\n",
        "!./ngrok authtoken 2EqCVHJWzAFSanZyoPOwm33UtOP_63psQvbphGye7ekPLqGki"
      ],
      "metadata": {
        "id": "8dnuryNO9XvX",
        "colab": {
          "base_uri": "https://localhost:8080/"
        },
        "outputId": "1e4ca01b-cd05-4dd4-e97c-4006be5cdc7f"
      },
      "execution_count": null,
      "outputs": [
        {
          "output_type": "stream",
          "name": "stdout",
          "text": [
            "Authtoken saved to configuration file: /root/.ngrok2/ngrok.yml\n"
          ]
        }
      ]
    },
    {
      "cell_type": "code",
      "source": [
        "# import Flask from flask module\n",
        "from flask import Flask\n",
        "from flask import render_template, request\n",
        "\n",
        "# import run_with_ngrok from flask_ngrok to run the app using ngrok\n",
        "from flask_ngrok import run_with_ngrok"
      ],
      "metadata": {
        "id": "nZhCjxpn9ZGY"
      },
      "execution_count": null,
      "outputs": []
    },
    {
      "cell_type": "code",
      "source": [
        "from google.colab import drive\n",
        "drive.mount('/content/drive')"
      ],
      "metadata": {
        "id": "qBy8UmVS9aaN",
        "colab": {
          "base_uri": "https://localhost:8080/"
        },
        "outputId": "7f1b307e-3ad0-4f34-a910-80e390fa01c4"
      },
      "execution_count": null,
      "outputs": [
        {
          "output_type": "stream",
          "name": "stdout",
          "text": [
            "Drive already mounted at /content/drive; to attempt to forcibly remount, call drive.mount(\"/content/drive\", force_remount=True).\n"
          ]
        }
      ]
    },
    {
      "cell_type": "markdown",
      "source": [
        "다음 셀을 실행시킨 후,\n",
        "\n",
        "세 개의 주소 중 ngrok.io 으로 끝나는 주소를 클릭하여 결과를 확인해보세요!"
      ],
      "metadata": {
        "id": "QKG6Spkl9hIa"
      }
    },
    {
      "cell_type": "code",
      "source": [
        "app = Flask(__name__)\n",
        "run_with_ngrok(app)\n",
        "\n",
        "@app.route('/')\n",
        "def man():\n",
        "  return \"\"\"\n",
        "  <html>\n",
        "    <body bgcolor=#F5F5DC>\n",
        "\n",
        "        <center>\n",
        "\n",
        "        <h1> 내가 만든 모델 인퍼해보기 </h1><br>\n",
        "        \n",
        "        <form method=\"POST\", action=\"/predict\">\n",
        "           <b> 이 문장의 주제는? :  <input type=\"text\", name='a', placeholder=\"enter 1\"> <br><br>\n",
        "            <input type=\"submit\" , value='predict!' >\n",
        "        </form>\n",
        "        \n",
        "    </center>\n",
        "\n",
        "    </body>\n",
        "</html>\n",
        "\"\"\"\n",
        "    # return render_template('home.html')\n",
        "\n",
        "\n",
        "@app.route('/predict', methods=['POST'])\n",
        "def home():\n",
        "    data1 = request.form['a']\n",
        "    pred = inference(data1)\n",
        "\n",
        "    return f\"\"\"\n",
        "    <html>\n",
        "\n",
        "<body bgcolor=#a3cfb4>\n",
        "\n",
        "    <center>\n",
        "\n",
        "        <h1> 입력하신 문장의 주제는 {pred} 입니다. </h1>\n",
        "\n",
        "    </center>\n",
        "\n",
        "</body>\n",
        "\n",
        "</html>\"\"\"\n",
        "\n",
        "if __name__ == \"__main__\":\n",
        "    app.run()"
      ],
      "metadata": {
        "id": "i4eZ8lkZ9hsn",
        "colab": {
          "base_uri": "https://localhost:8080/"
        },
        "outputId": "f226f25b-825f-421a-beba-9301d948ddc1"
      },
      "execution_count": null,
      "outputs": [
        {
          "output_type": "stream",
          "name": "stdout",
          "text": [
            " * Serving Flask app \"__main__\" (lazy loading)\n",
            " * Environment: production\n",
            "\u001b[31m   WARNING: This is a development server. Do not use it in a production deployment.\u001b[0m\n",
            "\u001b[2m   Use a production WSGI server instead.\u001b[0m\n",
            " * Debug mode: off\n"
          ]
        },
        {
          "output_type": "stream",
          "name": "stderr",
          "text": [
            "INFO:werkzeug: * Running on http://127.0.0.1:5000/ (Press CTRL+C to quit)\n"
          ]
        },
        {
          "output_type": "stream",
          "name": "stdout",
          "text": [
            " * Running on http://d15a-34-74-91-100.ngrok.io\n",
            " * Traffic stats available on http://127.0.0.1:4040\n"
          ]
        },
        {
          "output_type": "stream",
          "name": "stderr",
          "text": [
            "INFO:werkzeug:127.0.0.1 - - [11/Nov/2022 15:59:31] \"\u001b[37mGET / HTTP/1.1\u001b[0m\" 200 -\n",
            "INFO:werkzeug:127.0.0.1 - - [11/Nov/2022 15:59:31] \"\u001b[33mGET /favicon.ico HTTP/1.1\u001b[0m\" 404 -\n",
            "INFO:werkzeug:127.0.0.1 - - [11/Nov/2022 15:59:37] \"\u001b[37mPOST /predict HTTP/1.1\u001b[0m\" 200 -\n"
          ]
        }
      ]
    }
  ]
}