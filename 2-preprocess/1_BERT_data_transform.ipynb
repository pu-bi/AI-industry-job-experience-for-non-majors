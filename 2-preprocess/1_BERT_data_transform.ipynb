{
  "nbformat": 4,
  "nbformat_minor": 0,
  "metadata": {
    "colab": {
      "provenance": [],
      "include_colab_link": true
    },
    "kernelspec": {
      "name": "python3",
      "display_name": "Python 3"
    },
    "language_info": {
      "name": "python"
    },
    "widgets": {
      "application/vnd.jupyter.widget-state+json": {
        "3a2ec832c1be4567b43ec8be7527f5f8": {
          "model_module": "@jupyter-widgets/controls",
          "model_name": "HBoxModel",
          "model_module_version": "1.5.0",
          "state": {
            "_dom_classes": [],
            "_model_module": "@jupyter-widgets/controls",
            "_model_module_version": "1.5.0",
            "_model_name": "HBoxModel",
            "_view_count": null,
            "_view_module": "@jupyter-widgets/controls",
            "_view_module_version": "1.5.0",
            "_view_name": "HBoxView",
            "box_style": "",
            "children": [
              "IPY_MODEL_f0cfb43a8cf74f6aa188e22e504b8154",
              "IPY_MODEL_e007344c5884462cb71d31b65c7189ff",
              "IPY_MODEL_33250f1c131f48c28db1a3a7b2ee00ed"
            ],
            "layout": "IPY_MODEL_43f734c89c5c4d77a92057976f2927db"
          }
        },
        "f0cfb43a8cf74f6aa188e22e504b8154": {
          "model_module": "@jupyter-widgets/controls",
          "model_name": "HTMLModel",
          "model_module_version": "1.5.0",
          "state": {
            "_dom_classes": [],
            "_model_module": "@jupyter-widgets/controls",
            "_model_module_version": "1.5.0",
            "_model_name": "HTMLModel",
            "_view_count": null,
            "_view_module": "@jupyter-widgets/controls",
            "_view_module_version": "1.5.0",
            "_view_name": "HTMLView",
            "description": "",
            "description_tooltip": null,
            "layout": "IPY_MODEL_553d01bd4eb144858cd9466b031a9a20",
            "placeholder": "​",
            "style": "IPY_MODEL_15fac48354124c23816200f2d12bd456",
            "value": "100%"
          }
        },
        "e007344c5884462cb71d31b65c7189ff": {
          "model_module": "@jupyter-widgets/controls",
          "model_name": "FloatProgressModel",
          "model_module_version": "1.5.0",
          "state": {
            "_dom_classes": [],
            "_model_module": "@jupyter-widgets/controls",
            "_model_module_version": "1.5.0",
            "_model_name": "FloatProgressModel",
            "_view_count": null,
            "_view_module": "@jupyter-widgets/controls",
            "_view_module_version": "1.5.0",
            "_view_name": "ProgressView",
            "bar_style": "success",
            "description": "",
            "description_tooltip": null,
            "layout": "IPY_MODEL_6075b771b9d7491e9d61165273efcf3f",
            "max": 3,
            "min": 0,
            "orientation": "horizontal",
            "style": "IPY_MODEL_670e7d13db564e4abddffab85c6a6e64",
            "value": 3
          }
        },
        "33250f1c131f48c28db1a3a7b2ee00ed": {
          "model_module": "@jupyter-widgets/controls",
          "model_name": "HTMLModel",
          "model_module_version": "1.5.0",
          "state": {
            "_dom_classes": [],
            "_model_module": "@jupyter-widgets/controls",
            "_model_module_version": "1.5.0",
            "_model_name": "HTMLModel",
            "_view_count": null,
            "_view_module": "@jupyter-widgets/controls",
            "_view_module_version": "1.5.0",
            "_view_name": "HTMLView",
            "description": "",
            "description_tooltip": null,
            "layout": "IPY_MODEL_4b49aa5bed104580b53b9e693a8046a4",
            "placeholder": "​",
            "style": "IPY_MODEL_959df93213894ad78e83d8aed3de7361",
            "value": " 3/3 [00:00&lt;00:00, 51.55it/s]"
          }
        },
        "43f734c89c5c4d77a92057976f2927db": {
          "model_module": "@jupyter-widgets/base",
          "model_name": "LayoutModel",
          "model_module_version": "1.2.0",
          "state": {
            "_model_module": "@jupyter-widgets/base",
            "_model_module_version": "1.2.0",
            "_model_name": "LayoutModel",
            "_view_count": null,
            "_view_module": "@jupyter-widgets/base",
            "_view_module_version": "1.2.0",
            "_view_name": "LayoutView",
            "align_content": null,
            "align_items": null,
            "align_self": null,
            "border": null,
            "bottom": null,
            "display": null,
            "flex": null,
            "flex_flow": null,
            "grid_area": null,
            "grid_auto_columns": null,
            "grid_auto_flow": null,
            "grid_auto_rows": null,
            "grid_column": null,
            "grid_gap": null,
            "grid_row": null,
            "grid_template_areas": null,
            "grid_template_columns": null,
            "grid_template_rows": null,
            "height": null,
            "justify_content": null,
            "justify_items": null,
            "left": null,
            "margin": null,
            "max_height": null,
            "max_width": null,
            "min_height": null,
            "min_width": null,
            "object_fit": null,
            "object_position": null,
            "order": null,
            "overflow": null,
            "overflow_x": null,
            "overflow_y": null,
            "padding": null,
            "right": null,
            "top": null,
            "visibility": null,
            "width": null
          }
        },
        "553d01bd4eb144858cd9466b031a9a20": {
          "model_module": "@jupyter-widgets/base",
          "model_name": "LayoutModel",
          "model_module_version": "1.2.0",
          "state": {
            "_model_module": "@jupyter-widgets/base",
            "_model_module_version": "1.2.0",
            "_model_name": "LayoutModel",
            "_view_count": null,
            "_view_module": "@jupyter-widgets/base",
            "_view_module_version": "1.2.0",
            "_view_name": "LayoutView",
            "align_content": null,
            "align_items": null,
            "align_self": null,
            "border": null,
            "bottom": null,
            "display": null,
            "flex": null,
            "flex_flow": null,
            "grid_area": null,
            "grid_auto_columns": null,
            "grid_auto_flow": null,
            "grid_auto_rows": null,
            "grid_column": null,
            "grid_gap": null,
            "grid_row": null,
            "grid_template_areas": null,
            "grid_template_columns": null,
            "grid_template_rows": null,
            "height": null,
            "justify_content": null,
            "justify_items": null,
            "left": null,
            "margin": null,
            "max_height": null,
            "max_width": null,
            "min_height": null,
            "min_width": null,
            "object_fit": null,
            "object_position": null,
            "order": null,
            "overflow": null,
            "overflow_x": null,
            "overflow_y": null,
            "padding": null,
            "right": null,
            "top": null,
            "visibility": null,
            "width": null
          }
        },
        "15fac48354124c23816200f2d12bd456": {
          "model_module": "@jupyter-widgets/controls",
          "model_name": "DescriptionStyleModel",
          "model_module_version": "1.5.0",
          "state": {
            "_model_module": "@jupyter-widgets/controls",
            "_model_module_version": "1.5.0",
            "_model_name": "DescriptionStyleModel",
            "_view_count": null,
            "_view_module": "@jupyter-widgets/base",
            "_view_module_version": "1.2.0",
            "_view_name": "StyleView",
            "description_width": ""
          }
        },
        "6075b771b9d7491e9d61165273efcf3f": {
          "model_module": "@jupyter-widgets/base",
          "model_name": "LayoutModel",
          "model_module_version": "1.2.0",
          "state": {
            "_model_module": "@jupyter-widgets/base",
            "_model_module_version": "1.2.0",
            "_model_name": "LayoutModel",
            "_view_count": null,
            "_view_module": "@jupyter-widgets/base",
            "_view_module_version": "1.2.0",
            "_view_name": "LayoutView",
            "align_content": null,
            "align_items": null,
            "align_self": null,
            "border": null,
            "bottom": null,
            "display": null,
            "flex": null,
            "flex_flow": null,
            "grid_area": null,
            "grid_auto_columns": null,
            "grid_auto_flow": null,
            "grid_auto_rows": null,
            "grid_column": null,
            "grid_gap": null,
            "grid_row": null,
            "grid_template_areas": null,
            "grid_template_columns": null,
            "grid_template_rows": null,
            "height": null,
            "justify_content": null,
            "justify_items": null,
            "left": null,
            "margin": null,
            "max_height": null,
            "max_width": null,
            "min_height": null,
            "min_width": null,
            "object_fit": null,
            "object_position": null,
            "order": null,
            "overflow": null,
            "overflow_x": null,
            "overflow_y": null,
            "padding": null,
            "right": null,
            "top": null,
            "visibility": null,
            "width": null
          }
        },
        "670e7d13db564e4abddffab85c6a6e64": {
          "model_module": "@jupyter-widgets/controls",
          "model_name": "ProgressStyleModel",
          "model_module_version": "1.5.0",
          "state": {
            "_model_module": "@jupyter-widgets/controls",
            "_model_module_version": "1.5.0",
            "_model_name": "ProgressStyleModel",
            "_view_count": null,
            "_view_module": "@jupyter-widgets/base",
            "_view_module_version": "1.2.0",
            "_view_name": "StyleView",
            "bar_color": null,
            "description_width": ""
          }
        },
        "4b49aa5bed104580b53b9e693a8046a4": {
          "model_module": "@jupyter-widgets/base",
          "model_name": "LayoutModel",
          "model_module_version": "1.2.0",
          "state": {
            "_model_module": "@jupyter-widgets/base",
            "_model_module_version": "1.2.0",
            "_model_name": "LayoutModel",
            "_view_count": null,
            "_view_module": "@jupyter-widgets/base",
            "_view_module_version": "1.2.0",
            "_view_name": "LayoutView",
            "align_content": null,
            "align_items": null,
            "align_self": null,
            "border": null,
            "bottom": null,
            "display": null,
            "flex": null,
            "flex_flow": null,
            "grid_area": null,
            "grid_auto_columns": null,
            "grid_auto_flow": null,
            "grid_auto_rows": null,
            "grid_column": null,
            "grid_gap": null,
            "grid_row": null,
            "grid_template_areas": null,
            "grid_template_columns": null,
            "grid_template_rows": null,
            "height": null,
            "justify_content": null,
            "justify_items": null,
            "left": null,
            "margin": null,
            "max_height": null,
            "max_width": null,
            "min_height": null,
            "min_width": null,
            "object_fit": null,
            "object_position": null,
            "order": null,
            "overflow": null,
            "overflow_x": null,
            "overflow_y": null,
            "padding": null,
            "right": null,
            "top": null,
            "visibility": null,
            "width": null
          }
        },
        "959df93213894ad78e83d8aed3de7361": {
          "model_module": "@jupyter-widgets/controls",
          "model_name": "DescriptionStyleModel",
          "model_module_version": "1.5.0",
          "state": {
            "_model_module": "@jupyter-widgets/controls",
            "_model_module_version": "1.5.0",
            "_model_name": "DescriptionStyleModel",
            "_view_count": null,
            "_view_module": "@jupyter-widgets/base",
            "_view_module_version": "1.2.0",
            "_view_name": "StyleView",
            "description_width": ""
          }
        },
        "afb5bacc2c034e6aab4a5e472f3bb05e": {
          "model_module": "@jupyter-widgets/controls",
          "model_name": "HBoxModel",
          "model_module_version": "1.5.0",
          "state": {
            "_dom_classes": [],
            "_model_module": "@jupyter-widgets/controls",
            "_model_module_version": "1.5.0",
            "_model_name": "HBoxModel",
            "_view_count": null,
            "_view_module": "@jupyter-widgets/controls",
            "_view_module_version": "1.5.0",
            "_view_name": "HBoxView",
            "box_style": "",
            "children": [
              "IPY_MODEL_d8ad464db3264b97a8735b933f6789b4",
              "IPY_MODEL_c9cac66bf7ce4eb5b75a4f140476d8bd",
              "IPY_MODEL_768a3646d9fe4ecea7f252a42180d1e8"
            ],
            "layout": "IPY_MODEL_e2b14d8133f842e88f1bb2163d558f1e"
          }
        },
        "d8ad464db3264b97a8735b933f6789b4": {
          "model_module": "@jupyter-widgets/controls",
          "model_name": "HTMLModel",
          "model_module_version": "1.5.0",
          "state": {
            "_dom_classes": [],
            "_model_module": "@jupyter-widgets/controls",
            "_model_module_version": "1.5.0",
            "_model_name": "HTMLModel",
            "_view_count": null,
            "_view_module": "@jupyter-widgets/controls",
            "_view_module_version": "1.5.0",
            "_view_name": "HTMLView",
            "description": "",
            "description_tooltip": null,
            "layout": "IPY_MODEL_c8d770ef230d414e98405a6714e0e5dc",
            "placeholder": "​",
            "style": "IPY_MODEL_256da181545d4c1b9b06d52299235cbd",
            "value": "100%"
          }
        },
        "c9cac66bf7ce4eb5b75a4f140476d8bd": {
          "model_module": "@jupyter-widgets/controls",
          "model_name": "FloatProgressModel",
          "model_module_version": "1.5.0",
          "state": {
            "_dom_classes": [],
            "_model_module": "@jupyter-widgets/controls",
            "_model_module_version": "1.5.0",
            "_model_name": "FloatProgressModel",
            "_view_count": null,
            "_view_module": "@jupyter-widgets/controls",
            "_view_module_version": "1.5.0",
            "_view_name": "ProgressView",
            "bar_style": "success",
            "description": "",
            "description_tooltip": null,
            "layout": "IPY_MODEL_6df10dff79c84413992af5a6bc12e7f0",
            "max": 1,
            "min": 0,
            "orientation": "horizontal",
            "style": "IPY_MODEL_bc2e20aa5a7b482797e9ebd65dd27625",
            "value": 1
          }
        },
        "768a3646d9fe4ecea7f252a42180d1e8": {
          "model_module": "@jupyter-widgets/controls",
          "model_name": "HTMLModel",
          "model_module_version": "1.5.0",
          "state": {
            "_dom_classes": [],
            "_model_module": "@jupyter-widgets/controls",
            "_model_module_version": "1.5.0",
            "_model_name": "HTMLModel",
            "_view_count": null,
            "_view_module": "@jupyter-widgets/controls",
            "_view_module_version": "1.5.0",
            "_view_name": "HTMLView",
            "description": "",
            "description_tooltip": null,
            "layout": "IPY_MODEL_b3955a689ac64b74a0e928117bf0b5e6",
            "placeholder": "​",
            "style": "IPY_MODEL_0961d460e0cd4a3387742cd429549f2e",
            "value": " 1/1 [00:00&lt;00:00, 20.46ba/s]"
          }
        },
        "e2b14d8133f842e88f1bb2163d558f1e": {
          "model_module": "@jupyter-widgets/base",
          "model_name": "LayoutModel",
          "model_module_version": "1.2.0",
          "state": {
            "_model_module": "@jupyter-widgets/base",
            "_model_module_version": "1.2.0",
            "_model_name": "LayoutModel",
            "_view_count": null,
            "_view_module": "@jupyter-widgets/base",
            "_view_module_version": "1.2.0",
            "_view_name": "LayoutView",
            "align_content": null,
            "align_items": null,
            "align_self": null,
            "border": null,
            "bottom": null,
            "display": null,
            "flex": null,
            "flex_flow": null,
            "grid_area": null,
            "grid_auto_columns": null,
            "grid_auto_flow": null,
            "grid_auto_rows": null,
            "grid_column": null,
            "grid_gap": null,
            "grid_row": null,
            "grid_template_areas": null,
            "grid_template_columns": null,
            "grid_template_rows": null,
            "height": null,
            "justify_content": null,
            "justify_items": null,
            "left": null,
            "margin": null,
            "max_height": null,
            "max_width": null,
            "min_height": null,
            "min_width": null,
            "object_fit": null,
            "object_position": null,
            "order": null,
            "overflow": null,
            "overflow_x": null,
            "overflow_y": null,
            "padding": null,
            "right": null,
            "top": null,
            "visibility": null,
            "width": null
          }
        },
        "c8d770ef230d414e98405a6714e0e5dc": {
          "model_module": "@jupyter-widgets/base",
          "model_name": "LayoutModel",
          "model_module_version": "1.2.0",
          "state": {
            "_model_module": "@jupyter-widgets/base",
            "_model_module_version": "1.2.0",
            "_model_name": "LayoutModel",
            "_view_count": null,
            "_view_module": "@jupyter-widgets/base",
            "_view_module_version": "1.2.0",
            "_view_name": "LayoutView",
            "align_content": null,
            "align_items": null,
            "align_self": null,
            "border": null,
            "bottom": null,
            "display": null,
            "flex": null,
            "flex_flow": null,
            "grid_area": null,
            "grid_auto_columns": null,
            "grid_auto_flow": null,
            "grid_auto_rows": null,
            "grid_column": null,
            "grid_gap": null,
            "grid_row": null,
            "grid_template_areas": null,
            "grid_template_columns": null,
            "grid_template_rows": null,
            "height": null,
            "justify_content": null,
            "justify_items": null,
            "left": null,
            "margin": null,
            "max_height": null,
            "max_width": null,
            "min_height": null,
            "min_width": null,
            "object_fit": null,
            "object_position": null,
            "order": null,
            "overflow": null,
            "overflow_x": null,
            "overflow_y": null,
            "padding": null,
            "right": null,
            "top": null,
            "visibility": null,
            "width": null
          }
        },
        "256da181545d4c1b9b06d52299235cbd": {
          "model_module": "@jupyter-widgets/controls",
          "model_name": "DescriptionStyleModel",
          "model_module_version": "1.5.0",
          "state": {
            "_model_module": "@jupyter-widgets/controls",
            "_model_module_version": "1.5.0",
            "_model_name": "DescriptionStyleModel",
            "_view_count": null,
            "_view_module": "@jupyter-widgets/base",
            "_view_module_version": "1.2.0",
            "_view_name": "StyleView",
            "description_width": ""
          }
        },
        "6df10dff79c84413992af5a6bc12e7f0": {
          "model_module": "@jupyter-widgets/base",
          "model_name": "LayoutModel",
          "model_module_version": "1.2.0",
          "state": {
            "_model_module": "@jupyter-widgets/base",
            "_model_module_version": "1.2.0",
            "_model_name": "LayoutModel",
            "_view_count": null,
            "_view_module": "@jupyter-widgets/base",
            "_view_module_version": "1.2.0",
            "_view_name": "LayoutView",
            "align_content": null,
            "align_items": null,
            "align_self": null,
            "border": null,
            "bottom": null,
            "display": null,
            "flex": null,
            "flex_flow": null,
            "grid_area": null,
            "grid_auto_columns": null,
            "grid_auto_flow": null,
            "grid_auto_rows": null,
            "grid_column": null,
            "grid_gap": null,
            "grid_row": null,
            "grid_template_areas": null,
            "grid_template_columns": null,
            "grid_template_rows": null,
            "height": null,
            "justify_content": null,
            "justify_items": null,
            "left": null,
            "margin": null,
            "max_height": null,
            "max_width": null,
            "min_height": null,
            "min_width": null,
            "object_fit": null,
            "object_position": null,
            "order": null,
            "overflow": null,
            "overflow_x": null,
            "overflow_y": null,
            "padding": null,
            "right": null,
            "top": null,
            "visibility": null,
            "width": null
          }
        },
        "bc2e20aa5a7b482797e9ebd65dd27625": {
          "model_module": "@jupyter-widgets/controls",
          "model_name": "ProgressStyleModel",
          "model_module_version": "1.5.0",
          "state": {
            "_model_module": "@jupyter-widgets/controls",
            "_model_module_version": "1.5.0",
            "_model_name": "ProgressStyleModel",
            "_view_count": null,
            "_view_module": "@jupyter-widgets/base",
            "_view_module_version": "1.2.0",
            "_view_name": "StyleView",
            "bar_color": null,
            "description_width": ""
          }
        },
        "b3955a689ac64b74a0e928117bf0b5e6": {
          "model_module": "@jupyter-widgets/base",
          "model_name": "LayoutModel",
          "model_module_version": "1.2.0",
          "state": {
            "_model_module": "@jupyter-widgets/base",
            "_model_module_version": "1.2.0",
            "_model_name": "LayoutModel",
            "_view_count": null,
            "_view_module": "@jupyter-widgets/base",
            "_view_module_version": "1.2.0",
            "_view_name": "LayoutView",
            "align_content": null,
            "align_items": null,
            "align_self": null,
            "border": null,
            "bottom": null,
            "display": null,
            "flex": null,
            "flex_flow": null,
            "grid_area": null,
            "grid_auto_columns": null,
            "grid_auto_flow": null,
            "grid_auto_rows": null,
            "grid_column": null,
            "grid_gap": null,
            "grid_row": null,
            "grid_template_areas": null,
            "grid_template_columns": null,
            "grid_template_rows": null,
            "height": null,
            "justify_content": null,
            "justify_items": null,
            "left": null,
            "margin": null,
            "max_height": null,
            "max_width": null,
            "min_height": null,
            "min_width": null,
            "object_fit": null,
            "object_position": null,
            "order": null,
            "overflow": null,
            "overflow_x": null,
            "overflow_y": null,
            "padding": null,
            "right": null,
            "top": null,
            "visibility": null,
            "width": null
          }
        },
        "0961d460e0cd4a3387742cd429549f2e": {
          "model_module": "@jupyter-widgets/controls",
          "model_name": "DescriptionStyleModel",
          "model_module_version": "1.5.0",
          "state": {
            "_model_module": "@jupyter-widgets/controls",
            "_model_module_version": "1.5.0",
            "_model_name": "DescriptionStyleModel",
            "_view_count": null,
            "_view_module": "@jupyter-widgets/base",
            "_view_module_version": "1.2.0",
            "_view_name": "StyleView",
            "description_width": ""
          }
        },
        "776b715700b94d758ab37620df911a90": {
          "model_module": "@jupyter-widgets/controls",
          "model_name": "HBoxModel",
          "model_module_version": "1.5.0",
          "state": {
            "_dom_classes": [],
            "_model_module": "@jupyter-widgets/controls",
            "_model_module_version": "1.5.0",
            "_model_name": "HBoxModel",
            "_view_count": null,
            "_view_module": "@jupyter-widgets/controls",
            "_view_module_version": "1.5.0",
            "_view_name": "HBoxView",
            "box_style": "",
            "children": [
              "IPY_MODEL_77cfb94e12d344a0b6869a0d263cb8b8",
              "IPY_MODEL_57eeb2bd11084e8dac967ed818b14c7b",
              "IPY_MODEL_78d0bc931da64854a5241d636b5c56dd"
            ],
            "layout": "IPY_MODEL_3f527e95fb6c4ff5bf6d8d5a5a5531a4"
          }
        },
        "77cfb94e12d344a0b6869a0d263cb8b8": {
          "model_module": "@jupyter-widgets/controls",
          "model_name": "HTMLModel",
          "model_module_version": "1.5.0",
          "state": {
            "_dom_classes": [],
            "_model_module": "@jupyter-widgets/controls",
            "_model_module_version": "1.5.0",
            "_model_name": "HTMLModel",
            "_view_count": null,
            "_view_module": "@jupyter-widgets/controls",
            "_view_module_version": "1.5.0",
            "_view_name": "HTMLView",
            "description": "",
            "description_tooltip": null,
            "layout": "IPY_MODEL_5bc5ce766e764120a0f6a5116bc4ea7c",
            "placeholder": "​",
            "style": "IPY_MODEL_668ecacd1f1e4ab1868c0afb3086d9eb",
            "value": "100%"
          }
        },
        "57eeb2bd11084e8dac967ed818b14c7b": {
          "model_module": "@jupyter-widgets/controls",
          "model_name": "FloatProgressModel",
          "model_module_version": "1.5.0",
          "state": {
            "_dom_classes": [],
            "_model_module": "@jupyter-widgets/controls",
            "_model_module_version": "1.5.0",
            "_model_name": "FloatProgressModel",
            "_view_count": null,
            "_view_module": "@jupyter-widgets/controls",
            "_view_module_version": "1.5.0",
            "_view_name": "ProgressView",
            "bar_style": "success",
            "description": "",
            "description_tooltip": null,
            "layout": "IPY_MODEL_b859efa230cf41388e0a6a1af3fb14d1",
            "max": 1,
            "min": 0,
            "orientation": "horizontal",
            "style": "IPY_MODEL_042865e125534e8a8efac17b0c3233f6",
            "value": 1
          }
        },
        "78d0bc931da64854a5241d636b5c56dd": {
          "model_module": "@jupyter-widgets/controls",
          "model_name": "HTMLModel",
          "model_module_version": "1.5.0",
          "state": {
            "_dom_classes": [],
            "_model_module": "@jupyter-widgets/controls",
            "_model_module_version": "1.5.0",
            "_model_name": "HTMLModel",
            "_view_count": null,
            "_view_module": "@jupyter-widgets/controls",
            "_view_module_version": "1.5.0",
            "_view_name": "HTMLView",
            "description": "",
            "description_tooltip": null,
            "layout": "IPY_MODEL_44e06abe5dca4324ad7faf4d2586d61e",
            "placeholder": "​",
            "style": "IPY_MODEL_b00f0823f3e64de58bf3e18877d3b680",
            "value": " 1/1 [00:00&lt;00:00, 20.22ba/s]"
          }
        },
        "3f527e95fb6c4ff5bf6d8d5a5a5531a4": {
          "model_module": "@jupyter-widgets/base",
          "model_name": "LayoutModel",
          "model_module_version": "1.2.0",
          "state": {
            "_model_module": "@jupyter-widgets/base",
            "_model_module_version": "1.2.0",
            "_model_name": "LayoutModel",
            "_view_count": null,
            "_view_module": "@jupyter-widgets/base",
            "_view_module_version": "1.2.0",
            "_view_name": "LayoutView",
            "align_content": null,
            "align_items": null,
            "align_self": null,
            "border": null,
            "bottom": null,
            "display": null,
            "flex": null,
            "flex_flow": null,
            "grid_area": null,
            "grid_auto_columns": null,
            "grid_auto_flow": null,
            "grid_auto_rows": null,
            "grid_column": null,
            "grid_gap": null,
            "grid_row": null,
            "grid_template_areas": null,
            "grid_template_columns": null,
            "grid_template_rows": null,
            "height": null,
            "justify_content": null,
            "justify_items": null,
            "left": null,
            "margin": null,
            "max_height": null,
            "max_width": null,
            "min_height": null,
            "min_width": null,
            "object_fit": null,
            "object_position": null,
            "order": null,
            "overflow": null,
            "overflow_x": null,
            "overflow_y": null,
            "padding": null,
            "right": null,
            "top": null,
            "visibility": null,
            "width": null
          }
        },
        "5bc5ce766e764120a0f6a5116bc4ea7c": {
          "model_module": "@jupyter-widgets/base",
          "model_name": "LayoutModel",
          "model_module_version": "1.2.0",
          "state": {
            "_model_module": "@jupyter-widgets/base",
            "_model_module_version": "1.2.0",
            "_model_name": "LayoutModel",
            "_view_count": null,
            "_view_module": "@jupyter-widgets/base",
            "_view_module_version": "1.2.0",
            "_view_name": "LayoutView",
            "align_content": null,
            "align_items": null,
            "align_self": null,
            "border": null,
            "bottom": null,
            "display": null,
            "flex": null,
            "flex_flow": null,
            "grid_area": null,
            "grid_auto_columns": null,
            "grid_auto_flow": null,
            "grid_auto_rows": null,
            "grid_column": null,
            "grid_gap": null,
            "grid_row": null,
            "grid_template_areas": null,
            "grid_template_columns": null,
            "grid_template_rows": null,
            "height": null,
            "justify_content": null,
            "justify_items": null,
            "left": null,
            "margin": null,
            "max_height": null,
            "max_width": null,
            "min_height": null,
            "min_width": null,
            "object_fit": null,
            "object_position": null,
            "order": null,
            "overflow": null,
            "overflow_x": null,
            "overflow_y": null,
            "padding": null,
            "right": null,
            "top": null,
            "visibility": null,
            "width": null
          }
        },
        "668ecacd1f1e4ab1868c0afb3086d9eb": {
          "model_module": "@jupyter-widgets/controls",
          "model_name": "DescriptionStyleModel",
          "model_module_version": "1.5.0",
          "state": {
            "_model_module": "@jupyter-widgets/controls",
            "_model_module_version": "1.5.0",
            "_model_name": "DescriptionStyleModel",
            "_view_count": null,
            "_view_module": "@jupyter-widgets/base",
            "_view_module_version": "1.2.0",
            "_view_name": "StyleView",
            "description_width": ""
          }
        },
        "b859efa230cf41388e0a6a1af3fb14d1": {
          "model_module": "@jupyter-widgets/base",
          "model_name": "LayoutModel",
          "model_module_version": "1.2.0",
          "state": {
            "_model_module": "@jupyter-widgets/base",
            "_model_module_version": "1.2.0",
            "_model_name": "LayoutModel",
            "_view_count": null,
            "_view_module": "@jupyter-widgets/base",
            "_view_module_version": "1.2.0",
            "_view_name": "LayoutView",
            "align_content": null,
            "align_items": null,
            "align_self": null,
            "border": null,
            "bottom": null,
            "display": null,
            "flex": null,
            "flex_flow": null,
            "grid_area": null,
            "grid_auto_columns": null,
            "grid_auto_flow": null,
            "grid_auto_rows": null,
            "grid_column": null,
            "grid_gap": null,
            "grid_row": null,
            "grid_template_areas": null,
            "grid_template_columns": null,
            "grid_template_rows": null,
            "height": null,
            "justify_content": null,
            "justify_items": null,
            "left": null,
            "margin": null,
            "max_height": null,
            "max_width": null,
            "min_height": null,
            "min_width": null,
            "object_fit": null,
            "object_position": null,
            "order": null,
            "overflow": null,
            "overflow_x": null,
            "overflow_y": null,
            "padding": null,
            "right": null,
            "top": null,
            "visibility": null,
            "width": null
          }
        },
        "042865e125534e8a8efac17b0c3233f6": {
          "model_module": "@jupyter-widgets/controls",
          "model_name": "ProgressStyleModel",
          "model_module_version": "1.5.0",
          "state": {
            "_model_module": "@jupyter-widgets/controls",
            "_model_module_version": "1.5.0",
            "_model_name": "ProgressStyleModel",
            "_view_count": null,
            "_view_module": "@jupyter-widgets/base",
            "_view_module_version": "1.2.0",
            "_view_name": "StyleView",
            "bar_color": null,
            "description_width": ""
          }
        },
        "44e06abe5dca4324ad7faf4d2586d61e": {
          "model_module": "@jupyter-widgets/base",
          "model_name": "LayoutModel",
          "model_module_version": "1.2.0",
          "state": {
            "_model_module": "@jupyter-widgets/base",
            "_model_module_version": "1.2.0",
            "_model_name": "LayoutModel",
            "_view_count": null,
            "_view_module": "@jupyter-widgets/base",
            "_view_module_version": "1.2.0",
            "_view_name": "LayoutView",
            "align_content": null,
            "align_items": null,
            "align_self": null,
            "border": null,
            "bottom": null,
            "display": null,
            "flex": null,
            "flex_flow": null,
            "grid_area": null,
            "grid_auto_columns": null,
            "grid_auto_flow": null,
            "grid_auto_rows": null,
            "grid_column": null,
            "grid_gap": null,
            "grid_row": null,
            "grid_template_areas": null,
            "grid_template_columns": null,
            "grid_template_rows": null,
            "height": null,
            "justify_content": null,
            "justify_items": null,
            "left": null,
            "margin": null,
            "max_height": null,
            "max_width": null,
            "min_height": null,
            "min_width": null,
            "object_fit": null,
            "object_position": null,
            "order": null,
            "overflow": null,
            "overflow_x": null,
            "overflow_y": null,
            "padding": null,
            "right": null,
            "top": null,
            "visibility": null,
            "width": null
          }
        },
        "b00f0823f3e64de58bf3e18877d3b680": {
          "model_module": "@jupyter-widgets/controls",
          "model_name": "DescriptionStyleModel",
          "model_module_version": "1.5.0",
          "state": {
            "_model_module": "@jupyter-widgets/controls",
            "_model_module_version": "1.5.0",
            "_model_name": "DescriptionStyleModel",
            "_view_count": null,
            "_view_module": "@jupyter-widgets/base",
            "_view_module_version": "1.2.0",
            "_view_name": "StyleView",
            "description_width": ""
          }
        },
        "8b2dd25236f74da6ba7353441baa2aff": {
          "model_module": "@jupyter-widgets/controls",
          "model_name": "HBoxModel",
          "model_module_version": "1.5.0",
          "state": {
            "_dom_classes": [],
            "_model_module": "@jupyter-widgets/controls",
            "_model_module_version": "1.5.0",
            "_model_name": "HBoxModel",
            "_view_count": null,
            "_view_module": "@jupyter-widgets/controls",
            "_view_module_version": "1.5.0",
            "_view_name": "HBoxView",
            "box_style": "",
            "children": [
              "IPY_MODEL_e61bbfba80c54347bacec80e219748ae",
              "IPY_MODEL_fff264c406ba4d85bf5300887e311b2e",
              "IPY_MODEL_705cf48d5dc74fc6a77523da54970357"
            ],
            "layout": "IPY_MODEL_c656d0e620e341aea5c85689a9abcdce"
          }
        },
        "e61bbfba80c54347bacec80e219748ae": {
          "model_module": "@jupyter-widgets/controls",
          "model_name": "HTMLModel",
          "model_module_version": "1.5.0",
          "state": {
            "_dom_classes": [],
            "_model_module": "@jupyter-widgets/controls",
            "_model_module_version": "1.5.0",
            "_model_name": "HTMLModel",
            "_view_count": null,
            "_view_module": "@jupyter-widgets/controls",
            "_view_module_version": "1.5.0",
            "_view_name": "HTMLView",
            "description": "",
            "description_tooltip": null,
            "layout": "IPY_MODEL_d6090b694b964901abafd1c1814c0b2f",
            "placeholder": "​",
            "style": "IPY_MODEL_88ed654f3bcf4ba5813935974a2ec3c0",
            "value": "100%"
          }
        },
        "fff264c406ba4d85bf5300887e311b2e": {
          "model_module": "@jupyter-widgets/controls",
          "model_name": "FloatProgressModel",
          "model_module_version": "1.5.0",
          "state": {
            "_dom_classes": [],
            "_model_module": "@jupyter-widgets/controls",
            "_model_module_version": "1.5.0",
            "_model_name": "FloatProgressModel",
            "_view_count": null,
            "_view_module": "@jupyter-widgets/controls",
            "_view_module_version": "1.5.0",
            "_view_name": "ProgressView",
            "bar_style": "success",
            "description": "",
            "description_tooltip": null,
            "layout": "IPY_MODEL_499b510b7ba64cf39ab914986fc1114d",
            "max": 1,
            "min": 0,
            "orientation": "horizontal",
            "style": "IPY_MODEL_6da32ed2da8745dba01c36e7f523722f",
            "value": 1
          }
        },
        "705cf48d5dc74fc6a77523da54970357": {
          "model_module": "@jupyter-widgets/controls",
          "model_name": "HTMLModel",
          "model_module_version": "1.5.0",
          "state": {
            "_dom_classes": [],
            "_model_module": "@jupyter-widgets/controls",
            "_model_module_version": "1.5.0",
            "_model_name": "HTMLModel",
            "_view_count": null,
            "_view_module": "@jupyter-widgets/controls",
            "_view_module_version": "1.5.0",
            "_view_name": "HTMLView",
            "description": "",
            "description_tooltip": null,
            "layout": "IPY_MODEL_08d30dbdf3b84864a8d7ff6d7007ccf8",
            "placeholder": "​",
            "style": "IPY_MODEL_c62098de85284355b3058c0e853f8327",
            "value": " 1/1 [00:00&lt;00:00, 15.31ba/s]"
          }
        },
        "c656d0e620e341aea5c85689a9abcdce": {
          "model_module": "@jupyter-widgets/base",
          "model_name": "LayoutModel",
          "model_module_version": "1.2.0",
          "state": {
            "_model_module": "@jupyter-widgets/base",
            "_model_module_version": "1.2.0",
            "_model_name": "LayoutModel",
            "_view_count": null,
            "_view_module": "@jupyter-widgets/base",
            "_view_module_version": "1.2.0",
            "_view_name": "LayoutView",
            "align_content": null,
            "align_items": null,
            "align_self": null,
            "border": null,
            "bottom": null,
            "display": null,
            "flex": null,
            "flex_flow": null,
            "grid_area": null,
            "grid_auto_columns": null,
            "grid_auto_flow": null,
            "grid_auto_rows": null,
            "grid_column": null,
            "grid_gap": null,
            "grid_row": null,
            "grid_template_areas": null,
            "grid_template_columns": null,
            "grid_template_rows": null,
            "height": null,
            "justify_content": null,
            "justify_items": null,
            "left": null,
            "margin": null,
            "max_height": null,
            "max_width": null,
            "min_height": null,
            "min_width": null,
            "object_fit": null,
            "object_position": null,
            "order": null,
            "overflow": null,
            "overflow_x": null,
            "overflow_y": null,
            "padding": null,
            "right": null,
            "top": null,
            "visibility": null,
            "width": null
          }
        },
        "d6090b694b964901abafd1c1814c0b2f": {
          "model_module": "@jupyter-widgets/base",
          "model_name": "LayoutModel",
          "model_module_version": "1.2.0",
          "state": {
            "_model_module": "@jupyter-widgets/base",
            "_model_module_version": "1.2.0",
            "_model_name": "LayoutModel",
            "_view_count": null,
            "_view_module": "@jupyter-widgets/base",
            "_view_module_version": "1.2.0",
            "_view_name": "LayoutView",
            "align_content": null,
            "align_items": null,
            "align_self": null,
            "border": null,
            "bottom": null,
            "display": null,
            "flex": null,
            "flex_flow": null,
            "grid_area": null,
            "grid_auto_columns": null,
            "grid_auto_flow": null,
            "grid_auto_rows": null,
            "grid_column": null,
            "grid_gap": null,
            "grid_row": null,
            "grid_template_areas": null,
            "grid_template_columns": null,
            "grid_template_rows": null,
            "height": null,
            "justify_content": null,
            "justify_items": null,
            "left": null,
            "margin": null,
            "max_height": null,
            "max_width": null,
            "min_height": null,
            "min_width": null,
            "object_fit": null,
            "object_position": null,
            "order": null,
            "overflow": null,
            "overflow_x": null,
            "overflow_y": null,
            "padding": null,
            "right": null,
            "top": null,
            "visibility": null,
            "width": null
          }
        },
        "88ed654f3bcf4ba5813935974a2ec3c0": {
          "model_module": "@jupyter-widgets/controls",
          "model_name": "DescriptionStyleModel",
          "model_module_version": "1.5.0",
          "state": {
            "_model_module": "@jupyter-widgets/controls",
            "_model_module_version": "1.5.0",
            "_model_name": "DescriptionStyleModel",
            "_view_count": null,
            "_view_module": "@jupyter-widgets/base",
            "_view_module_version": "1.2.0",
            "_view_name": "StyleView",
            "description_width": ""
          }
        },
        "499b510b7ba64cf39ab914986fc1114d": {
          "model_module": "@jupyter-widgets/base",
          "model_name": "LayoutModel",
          "model_module_version": "1.2.0",
          "state": {
            "_model_module": "@jupyter-widgets/base",
            "_model_module_version": "1.2.0",
            "_model_name": "LayoutModel",
            "_view_count": null,
            "_view_module": "@jupyter-widgets/base",
            "_view_module_version": "1.2.0",
            "_view_name": "LayoutView",
            "align_content": null,
            "align_items": null,
            "align_self": null,
            "border": null,
            "bottom": null,
            "display": null,
            "flex": null,
            "flex_flow": null,
            "grid_area": null,
            "grid_auto_columns": null,
            "grid_auto_flow": null,
            "grid_auto_rows": null,
            "grid_column": null,
            "grid_gap": null,
            "grid_row": null,
            "grid_template_areas": null,
            "grid_template_columns": null,
            "grid_template_rows": null,
            "height": null,
            "justify_content": null,
            "justify_items": null,
            "left": null,
            "margin": null,
            "max_height": null,
            "max_width": null,
            "min_height": null,
            "min_width": null,
            "object_fit": null,
            "object_position": null,
            "order": null,
            "overflow": null,
            "overflow_x": null,
            "overflow_y": null,
            "padding": null,
            "right": null,
            "top": null,
            "visibility": null,
            "width": null
          }
        },
        "6da32ed2da8745dba01c36e7f523722f": {
          "model_module": "@jupyter-widgets/controls",
          "model_name": "ProgressStyleModel",
          "model_module_version": "1.5.0",
          "state": {
            "_model_module": "@jupyter-widgets/controls",
            "_model_module_version": "1.5.0",
            "_model_name": "ProgressStyleModel",
            "_view_count": null,
            "_view_module": "@jupyter-widgets/base",
            "_view_module_version": "1.2.0",
            "_view_name": "StyleView",
            "bar_color": null,
            "description_width": ""
          }
        },
        "08d30dbdf3b84864a8d7ff6d7007ccf8": {
          "model_module": "@jupyter-widgets/base",
          "model_name": "LayoutModel",
          "model_module_version": "1.2.0",
          "state": {
            "_model_module": "@jupyter-widgets/base",
            "_model_module_version": "1.2.0",
            "_model_name": "LayoutModel",
            "_view_count": null,
            "_view_module": "@jupyter-widgets/base",
            "_view_module_version": "1.2.0",
            "_view_name": "LayoutView",
            "align_content": null,
            "align_items": null,
            "align_self": null,
            "border": null,
            "bottom": null,
            "display": null,
            "flex": null,
            "flex_flow": null,
            "grid_area": null,
            "grid_auto_columns": null,
            "grid_auto_flow": null,
            "grid_auto_rows": null,
            "grid_column": null,
            "grid_gap": null,
            "grid_row": null,
            "grid_template_areas": null,
            "grid_template_columns": null,
            "grid_template_rows": null,
            "height": null,
            "justify_content": null,
            "justify_items": null,
            "left": null,
            "margin": null,
            "max_height": null,
            "max_width": null,
            "min_height": null,
            "min_width": null,
            "object_fit": null,
            "object_position": null,
            "order": null,
            "overflow": null,
            "overflow_x": null,
            "overflow_y": null,
            "padding": null,
            "right": null,
            "top": null,
            "visibility": null,
            "width": null
          }
        },
        "c62098de85284355b3058c0e853f8327": {
          "model_module": "@jupyter-widgets/controls",
          "model_name": "DescriptionStyleModel",
          "model_module_version": "1.5.0",
          "state": {
            "_model_module": "@jupyter-widgets/controls",
            "_model_module_version": "1.5.0",
            "_model_name": "DescriptionStyleModel",
            "_view_count": null,
            "_view_module": "@jupyter-widgets/base",
            "_view_module_version": "1.2.0",
            "_view_name": "StyleView",
            "description_width": ""
          }
        }
      }
    }
  },
  "cells": [
    {
      "cell_type": "markdown",
      "metadata": {
        "id": "view-in-github",
        "colab_type": "text"
      },
      "source": [
        "<a href=\"https://colab.research.google.com/github/pu-bi/AI-industry-job-experience-for-non-majors/blob/main/2-preprocess/1_BERT_data_transform.ipynb\" target=\"_parent\"><img src=\"https://colab.research.google.com/assets/colab-badge.svg\" alt=\"Open In Colab\"/></a>"
      ]
    },
    {
      "cell_type": "markdown",
      "source": [
        "# text label 분류를 위한 BERT Fine-tuning; 데이터 구축"
      ],
      "metadata": {
        "id": "cNyaNd8r_0q4"
      }
    },
    {
      "cell_type": "markdown",
      "source": [
        "* 우리는 텍스트가 주어졌을 때, 하나의 레이블을 예측하는 것을 목표로 BERT 모델을 fine-tuning 하는 방법에 대해 다룰 예정입니다.\n",
        "\n",
        "* 그에 앞서서, 이번 시간엔 일단 데이터를 어떻게 구축해야 하는지에 대해 생각해봅시다."
      ],
      "metadata": {
        "id": "MwDoVufR_6WY"
      }
    },
    {
      "cell_type": "markdown",
      "source": [
        "## 1. 환경 설정 및 데이터 호출"
      ],
      "metadata": {
        "id": "Bci6yEIzAk8I"
      }
    },
    {
      "cell_type": "markdown",
      "source": [
        "우선 HuggingFace Transformers 와 Datasets 라이브러리를 설치합니다.\n",
        "\n",
        "* HuggingFace란, 트랜스포머를 기반으로 하는 다양한 모델(transformer.models)과 학습 스크립트(transformer.Trainer)를 구현해 놓은 모듈\n",
        "* 원래는 PyTorch나 Tensorflow로 layer, model 등을 선언해주고 학습 스크립트도 전부 구현해야 하지만, 허깅 페이스를 사용하면 이런 수고를 덜 수 있음"
      ],
      "metadata": {
        "id": "YHxmyZqzApIV"
      }
    },
    {
      "cell_type": "code",
      "execution_count": null,
      "metadata": {
        "id": "pt8vr8kemLAx"
      },
      "outputs": [],
      "source": [
        "!pip install -q transformers datasets\n",
        "# -q : quiet; 출력을 조금만"
      ]
    },
    {
      "cell_type": "markdown",
      "source": [
        "이번 실습에서는 여러분이 미리 정제한 데이터를 실습에 사용할 것입니다.\n",
        "\n",
        "다른 데이터를 사용해보고 싶다면 다음과 같이 하시면 됩니다.\n",
        "\n",
        "- [huggingface.co](https://huggingface.co/) 에 접속해 \"datasets\" 탭을 클릭\n",
        "- \"text-classification\" 태그를 누르고 사용하고 싶은 데이터셋을 선택"
      ],
      "metadata": {
        "id": "WIea4zjrAzek"
      }
    },
    {
      "cell_type": "markdown",
      "source": [
        "이 [링크](https://huggingface.co/docs/datasets/loading#local-and-remote-files)를 살펴보시면 다양한 방법들이 나와있습니다. "
      ],
      "metadata": {
        "id": "JLxq95WnDvox"
      }
    },
    {
      "cell_type": "markdown",
      "source": [
        "데이터를 가져오기 위해 드라이브에 마운트합니다."
      ],
      "metadata": {
        "id": "KlC_2zo3QAys"
      }
    },
    {
      "cell_type": "code",
      "source": [
        "from google.colab import drive\n",
        "drive.mount(\"/content/drive\")"
      ],
      "metadata": {
        "colab": {
          "base_uri": "https://localhost:8080/"
        },
        "id": "tT3m-LCLQAiB",
        "outputId": "d006809c-dae9-4434-c7e1-232bc31eac94"
      },
      "execution_count": null,
      "outputs": [
        {
          "output_type": "stream",
          "name": "stdout",
          "text": [
            "Drive already mounted at /content/drive; to attempt to forcibly remount, call drive.mount(\"/content/drive\", force_remount=True).\n"
          ]
        }
      ]
    },
    {
      "cell_type": "code",
      "source": [
        "from datasets import load_dataset\n",
        "\n",
        "# 각자 경로에 맞게 data path를 입력해주세요.\n",
        "train_data = \"/content/drive/MyDrive/joongang/week_2/finetuning/processed_train.csv\"\n",
        "eval_data = \"/content/drive/MyDrive/joongang/week_2/finetuning/processed_eval.csv\"\n",
        "test_data = \"/content/drive/MyDrive/joongang/week_2/finetuning/processed_test.csv\"\n",
        "\n",
        "dataset = load_dataset('csv', data_files={'train': train_data, 'eval': eval_data, 'test': test_data})"
      ],
      "metadata": {
        "colab": {
          "base_uri": "https://localhost:8080/",
          "height": 102,
          "referenced_widgets": [
            "3a2ec832c1be4567b43ec8be7527f5f8",
            "f0cfb43a8cf74f6aa188e22e504b8154",
            "e007344c5884462cb71d31b65c7189ff",
            "33250f1c131f48c28db1a3a7b2ee00ed",
            "43f734c89c5c4d77a92057976f2927db",
            "553d01bd4eb144858cd9466b031a9a20",
            "15fac48354124c23816200f2d12bd456",
            "6075b771b9d7491e9d61165273efcf3f",
            "670e7d13db564e4abddffab85c6a6e64",
            "4b49aa5bed104580b53b9e693a8046a4",
            "959df93213894ad78e83d8aed3de7361"
          ]
        },
        "id": "3qZ48aDemyTH",
        "outputId": "9fec861a-bd33-4f1e-f256-1404be3060e4"
      },
      "execution_count": null,
      "outputs": [
        {
          "output_type": "stream",
          "name": "stderr",
          "text": [
            "WARNING:datasets.builder:Using custom data configuration default-a51734c396953b11\n",
            "WARNING:datasets.builder:Reusing dataset csv (/root/.cache/huggingface/datasets/csv/default-a51734c396953b11/0.0.0/652c3096f041ee27b04d2232d41f10547a8fecda3e284a79a0ec4053c916ef7a)\n"
          ]
        },
        {
          "output_type": "display_data",
          "data": {
            "text/plain": [
              "  0%|          | 0/3 [00:00<?, ?it/s]"
            ],
            "application/vnd.jupyter.widget-view+json": {
              "version_major": 2,
              "version_minor": 0,
              "model_id": "3a2ec832c1be4567b43ec8be7527f5f8"
            }
          },
          "metadata": {}
        }
      ]
    },
    {
      "cell_type": "markdown",
      "source": [
        "보시다시피 우리의 데이터셋은 각각 훈련, 검증, 테스트 데이터로 나뉘어 있습니다.\n"
      ],
      "metadata": {
        "id": "vjZZcCExD8Z-"
      }
    },
    {
      "cell_type": "code",
      "source": [
        "dataset"
      ],
      "metadata": {
        "colab": {
          "base_uri": "https://localhost:8080/"
        },
        "id": "e7o4aehHndwG",
        "outputId": "30d8555c-ea4a-4bc1-d659-f513e89ef535"
      },
      "execution_count": null,
      "outputs": [
        {
          "output_type": "execute_result",
          "data": {
            "text/plain": [
              "DatasetDict({\n",
              "    train: Dataset({\n",
              "        features: ['Unnamed: 0', 'utt', '날씨 묻기', '관광지 추천', '숙소 추천', '맛집 추천', '인사', '소개', '기타'],\n",
              "        num_rows: 20\n",
              "    })\n",
              "    eval: Dataset({\n",
              "        features: ['Unnamed: 0', 'utt', '날씨 묻기', '관광지 추천', '숙소 추천', '맛집 추천', '인사', '소개', '기타'],\n",
              "        num_rows: 2\n",
              "    })\n",
              "    test: Dataset({\n",
              "        features: ['Unnamed: 0', 'utt', '날씨 묻기', '관광지 추천', '숙소 추천', '맛집 추천', '인사', '소개', '기타'],\n",
              "        num_rows: 3\n",
              "    })\n",
              "})"
            ]
          },
          "metadata": {},
          "execution_count": 4
        }
      ]
    },
    {
      "cell_type": "markdown",
      "source": [
        "훈련 데이터 중 첫 번째 데이터를 한번 살펴봅시다."
      ],
      "metadata": {
        "id": "SrxK0e5zEQXz"
      }
    },
    {
      "cell_type": "code",
      "source": [
        "example = dataset['train'][0]\n",
        "example"
      ],
      "metadata": {
        "colab": {
          "base_uri": "https://localhost:8080/"
        },
        "id": "uIhxTeQlnruR",
        "outputId": "939ff6a5-e117-41ce-e59c-3d023a79f2fa"
      },
      "execution_count": null,
      "outputs": [
        {
          "output_type": "execute_result",
          "data": {
            "text/plain": [
              "{'Unnamed: 0': 14,\n",
              " 'utt': '세상에 이런일이..',\n",
              " '날씨 묻기': 0.0,\n",
              " '관광지 추천': 0.0,\n",
              " '숙소 추천': 0.0,\n",
              " '맛집 추천': 0,\n",
              " '인사': 0.0,\n",
              " '소개': 0.0,\n",
              " '기타': 1}"
            ]
          },
          "metadata": {},
          "execution_count": 5
        }
      ]
    },
    {
      "cell_type": "markdown",
      "source": [
        "우리가 만든 데이터는 사용자의 발화와 함께 하나의 의도에 대한 정보(=레이블)가 담겨 있음을 확인할 수 있습니다."
      ],
      "metadata": {
        "id": "zExldD6PEbtj"
      }
    },
    {
      "cell_type": "markdown",
      "source": [
        "이제 레이블들을 담고 있는 리스트를 생성해봅시다.\n",
        "\n",
        "더불어 레이블들을 정수에 매핑하는 딕셔너리와, 반대로 정수를 레이블들에 매핑하는 딕셔너리도 만들어 봅시다."
      ],
      "metadata": {
        "id": "c6e2SvTNEwPl"
      }
    },
    {
      "cell_type": "code",
      "source": [
        "# label 리스트\n",
        "labels = [label for label in dataset['train'].features.keys() if label not in ['Unnamed: 0', 'utt']]\n",
        "\n",
        "# 숫자 : label 매핑한 dictionary\n",
        "id2label = {idx:label for idx, label in enumerate(labels)}\n",
        "\n",
        "# label : 숫자 매핑한 dictionary\n",
        "label2id = {label:idx for idx, label in enumerate(labels)}\n",
        "\n",
        "print(\"labels :\", labels)\n",
        "print()\n",
        "print(\"id2label :\", id2label)\n",
        "print()\n",
        "print(\"label2id\", label2id)"
      ],
      "metadata": {
        "colab": {
          "base_uri": "https://localhost:8080/"
        },
        "id": "ke5zeMVn0WyH",
        "outputId": "e3054301-ca07-4918-ee7b-b5589147cfe0"
      },
      "execution_count": null,
      "outputs": [
        {
          "output_type": "stream",
          "name": "stdout",
          "text": [
            "labels : ['날씨 묻기', '관광지 추천', '숙소 추천', '맛집 추천', '인사', '소개', '기타']\n",
            "\n",
            "id2label : {0: '날씨 묻기', 1: '관광지 추천', 2: '숙소 추천', 3: '맛집 추천', 4: '인사', 5: '소개', 6: '기타'}\n",
            "\n",
            "label2id {'날씨 묻기': 0, '관광지 추천': 1, '숙소 추천': 2, '맛집 추천': 3, '인사': 4, '소개': 5, '기타': 6}\n"
          ]
        }
      ]
    },
    {
      "cell_type": "markdown",
      "source": [
        "## 2. 데이터 전처리"
      ],
      "metadata": {
        "id": "sz7Q91VP1yZA"
      }
    },
    {
      "cell_type": "markdown",
      "source": [
        "BERT 모델은 입력에 텍스트를 곧바로 넣지는 못합니다.\n",
        "\n",
        "모델의 입력은 숫자여야 합니다!\n",
        "\n",
        "그래서 우선 준비된 문자들을 숫자 형태로 만들어 주어야 합니다.\n",
        "\n",
        "이런 숫자 형태로 변환된 결과를 `input_ids` 라고 부릅니다. "
      ],
      "metadata": {
        "id": "qEnyaiH612hE"
      }
    },
    {
      "cell_type": "markdown",
      "source": [
        "아래의 코드에선 AutoTokenizer라는 API를 사용할 것인데, 이걸 사용하면 특정 모델이 학습되었을 당시에 사용되었던 토크나이저를 알아서 로드해줍니다.\n",
        "\n",
        "즉 버트 모델을 훈련할 때 사용된 __사전__을 이용해 문자를 숫자로 바꿔주게 됩니다.\n",
        "\n",
        "\n",
        "> 보충) 각각의 버트 모델들은 서로 다른 사전을 가지고 있습니다. 따라서 모델을 사용하기 위해서는 해당 모델을 훈련할 때 사용한 사전을 이용해야 합니다.\n",
        "\n",
        "> 예시)\n",
        "\n",
        "> korbert 모델의 tokenizer - 1 : 안녕, 2: 하세요 ...\n",
        "\n",
        "> kobert 모델의 tokenizer - 1: 그래, 2: 안녕 ...\n",
        "\n",
        "\n",
        "\n"
      ],
      "metadata": {
        "id": "XgHq95qGFgz3"
      }
    },
    {
      "cell_type": "code",
      "source": [
        "from transformers import AutoTokenizer\n",
        "import numpy as np\n",
        "\n",
        "# 우리가 사용할 버트 모델이 학습되었을 당시에 사용되었던 토크나이저를 로드\n",
        "model_name = \"klue/bert-base\"\n",
        "tokenizer = AutoTokenizer.from_pretrained(model_name)\n",
        "\n",
        "# 훈련된 tokenizer를 이용해 우리가 만든 데이터(텍스트)를 숫자로 변환하는 함수\n",
        "def preprocess_data(examples):\n",
        "  text = examples[\"utt\"]\n",
        "  encoding = tokenizer(text, padding=\"max_length\", truncation=True, max_length=20)\n",
        "  # padding vs truncation\n",
        "  labels_batch = {k: examples[k] for k in examples.keys() if k in labels}\n",
        "  labels_matrix = np.zeros((len(text), len(labels)))\n",
        "\n",
        "  for idx, label in enumerate(labels):\n",
        "    labels_matrix[:, idx] = labels_batch[label]\n",
        "  \n",
        "  encoding['labels'] = labels_matrix.tolist()\n",
        "\n",
        "  return encoding"
      ],
      "metadata": {
        "id": "I4AExMmG0mq7"
      },
      "execution_count": null,
      "outputs": []
    },
    {
      "cell_type": "markdown",
      "source": [
        "우리는 우리가 불러온 `dataset(텍스트 형태)`를 `preprocess_data` 함수를 이용해 한번에 숫자로 변환(인코딩)할 것입니다.\n",
        "\n",
        "`preprocess_data` 함수에 대해 자세히 살펴보기에 앞서 `dataset`에 대해 먼저 알아봅시다."
      ],
      "metadata": {
        "id": "SwlJZ2e7rHCc"
      }
    },
    {
      "cell_type": "code",
      "source": [
        "type(dataset)"
      ],
      "metadata": {
        "colab": {
          "base_uri": "https://localhost:8080/"
        },
        "id": "DY78rcnlnhg2",
        "outputId": "e349a959-37eb-4ed8-abf0-a6e444e36b39"
      },
      "execution_count": null,
      "outputs": [
        {
          "output_type": "execute_result",
          "data": {
            "text/plain": [
              "datasets.dataset_dict.DatasetDict"
            ]
          },
          "metadata": {},
          "execution_count": 9
        }
      ]
    },
    {
      "cell_type": "markdown",
      "source": [
        "이 자료형은 Huggingface의 Datesets 모듈이 제공하는 자료형으로, 다음과 같은 메서드들을 활용할 수 있습니다. [참고](https://woongjoonchoi.github.io/huggingface/Huggingface-Datasets/)\n",
        "\n",
        "- `dataset.map` : python의 `map` 메서드와 같은 역할을 합니다. 주로, 행(row)별로 전처리가 필요할 때 `map` 메서드를 사용하게 됩니다.\n",
        "- `dataset.filter` : filter method를 사용하면 특정 조건을 만족하는 dataset dict를 리턴할 수 있습니다."
      ],
      "metadata": {
        "id": "V7TBvX_X56Rm"
      }
    },
    {
      "cell_type": "markdown",
      "source": [
        "간단한 예시를 통해 위의 함수가 진행되는 과정을 이해해봅시다."
      ],
      "metadata": {
        "id": "_VJmny2sg-Kd"
      }
    },
    {
      "cell_type": "code",
      "source": [
        "examples = dataset[\"train\"][0:2]\n",
        "examples"
      ],
      "metadata": {
        "colab": {
          "base_uri": "https://localhost:8080/"
        },
        "id": "EGmi51lFm5nr",
        "outputId": "27999b7f-b822-44e6-8373-6cafcd474a99"
      },
      "execution_count": null,
      "outputs": [
        {
          "output_type": "execute_result",
          "data": {
            "text/plain": [
              "{'Unnamed: 0': [14, 13],\n",
              " 'utt': ['세상에 이런일이..', '나는 배가 고프다'],\n",
              " '날씨 묻기': [0.0, 0.0],\n",
              " '관광지 추천': [0.0, 0.0],\n",
              " '숙소 추천': [0.0, 0.0],\n",
              " '맛집 추천': [0, 0],\n",
              " '인사': [0.0, 0.0],\n",
              " '소개': [0.0, 0.0],\n",
              " '기타': [1, 1]}"
            ]
          },
          "metadata": {},
          "execution_count": 10
        }
      ]
    },
    {
      "cell_type": "code",
      "source": [
        "text = examples[\"utt\"]\n",
        "text"
      ],
      "metadata": {
        "colab": {
          "base_uri": "https://localhost:8080/"
        },
        "id": "lXtKSMQcCG9P",
        "outputId": "5f5bd756-64bf-4628-b5cc-5b812920ac4b"
      },
      "execution_count": null,
      "outputs": [
        {
          "output_type": "execute_result",
          "data": {
            "text/plain": [
              "['세상에 이런일이..', '나는 배가 고프다']"
            ]
          },
          "metadata": {},
          "execution_count": 11
        }
      ]
    },
    {
      "cell_type": "code",
      "source": [
        "# tokenizer를 이용해 숫자로 변환!\n",
        "encoding = tokenizer(text, padding=\"max_length\", truncation=True, max_length=20)\n",
        "print(encoding)\n",
        "print()\n",
        "print(f\"원래 문자 : {text[0]}\")\n",
        "print(f\"숫자로 변환된 값 : {encoding['input_ids'][0]}\") # input_ids = 숫자\n",
        "print(f\"token_type_ids : {encoding['token_type_ids'][0]}\") # 문장 분리\n",
        "print(f\"attention_mask : {encoding['attention_mask'][0]}\") # attention 계산할 파트"
      ],
      "metadata": {
        "colab": {
          "base_uri": "https://localhost:8080/"
        },
        "id": "GBeS9_6PJzNQ",
        "outputId": "94fca7a5-b8cc-4d79-9b82-69c2e02acce5"
      },
      "execution_count": null,
      "outputs": [
        {
          "output_type": "stream",
          "name": "stdout",
          "text": [
            "{'input_ids': [[2, 3991, 2170, 3667, 2210, 2052, 18, 18, 3, 0, 0, 0, 0, 0, 0, 0, 0, 0, 0, 0], [2, 717, 2259, 1131, 2116, 22779, 2062, 3, 0, 0, 0, 0, 0, 0, 0, 0, 0, 0, 0, 0]], 'token_type_ids': [[0, 0, 0, 0, 0, 0, 0, 0, 0, 0, 0, 0, 0, 0, 0, 0, 0, 0, 0, 0], [0, 0, 0, 0, 0, 0, 0, 0, 0, 0, 0, 0, 0, 0, 0, 0, 0, 0, 0, 0]], 'attention_mask': [[1, 1, 1, 1, 1, 1, 1, 1, 1, 0, 0, 0, 0, 0, 0, 0, 0, 0, 0, 0], [1, 1, 1, 1, 1, 1, 1, 1, 0, 0, 0, 0, 0, 0, 0, 0, 0, 0, 0, 0]]}\n",
            "\n",
            "원래 문자 : 세상에 이런일이..\n",
            "숫자로 변환된 값 : [2, 3991, 2170, 3667, 2210, 2052, 18, 18, 3, 0, 0, 0, 0, 0, 0, 0, 0, 0, 0, 0]\n",
            "token_type_ids : [0, 0, 0, 0, 0, 0, 0, 0, 0, 0, 0, 0, 0, 0, 0, 0, 0, 0, 0, 0]\n",
            "attention_mask : [1, 1, 1, 1, 1, 1, 1, 1, 1, 0, 0, 0, 0, 0, 0, 0, 0, 0, 0, 0]\n"
          ]
        }
      ]
    },
    {
      "cell_type": "code",
      "source": [
        "examples.keys()"
      ],
      "metadata": {
        "colab": {
          "base_uri": "https://localhost:8080/"
        },
        "id": "wahgJZgc0Xi_",
        "outputId": "3c8960d1-79e7-4dad-823a-08b409fad015"
      },
      "execution_count": null,
      "outputs": [
        {
          "output_type": "execute_result",
          "data": {
            "text/plain": [
              "dict_keys(['Unnamed: 0', 'utt', '날씨 묻기', '관광지 추천', '숙소 추천', '맛집 추천', '인사', '소개', '기타'])"
            ]
          },
          "metadata": {},
          "execution_count": 22
        }
      ]
    },
    {
      "cell_type": "code",
      "source": [
        "labels_batch = {k: examples[k] for k in examples.keys() if k in labels}\n",
        "labels_batch"
      ],
      "metadata": {
        "colab": {
          "base_uri": "https://localhost:8080/"
        },
        "id": "TeEjOqcBTrhq",
        "outputId": "855659cc-175d-4844-8770-4b945b2b35d7"
      },
      "execution_count": null,
      "outputs": [
        {
          "output_type": "execute_result",
          "data": {
            "text/plain": [
              "{'날씨 묻기': [0.0, 0.0],\n",
              " '관광지 추천': [0.0, 0.0],\n",
              " '숙소 추천': [0.0, 0.0],\n",
              " '맛집 추천': [0, 0],\n",
              " '인사': [0.0, 0.0],\n",
              " '소개': [0.0, 0.0],\n",
              " '기타': [1, 1]}"
            ]
          },
          "metadata": {},
          "execution_count": 23
        }
      ]
    },
    {
      "cell_type": "code",
      "source": [
        "labels_matrix = np.zeros((len(text), len(labels)))\n",
        "for idx, label in enumerate(labels):\n",
        "    labels_matrix[:, idx] = labels_batch[label]\n",
        "    \n",
        "labels_matrix"
      ],
      "metadata": {
        "colab": {
          "base_uri": "https://localhost:8080/"
        },
        "id": "P9fv2CVdKd-X",
        "outputId": "e28209d6-02c0-483e-aa6c-ee0f6b9cd6a0"
      },
      "execution_count": null,
      "outputs": [
        {
          "output_type": "execute_result",
          "data": {
            "text/plain": [
              "array([[0., 0., 0., 0., 0., 0., 1.],\n",
              "       [0., 0., 0., 0., 0., 0., 1.]])"
            ]
          },
          "metadata": {},
          "execution_count": 24
        }
      ]
    },
    {
      "cell_type": "code",
      "source": [
        "encoding['labels'] = labels_matrix.tolist()\n",
        "encoding['labels']"
      ],
      "metadata": {
        "id": "UMsvAORfaCQt",
        "colab": {
          "base_uri": "https://localhost:8080/"
        },
        "outputId": "0697c852-4464-4140-842e-da60663d471b"
      },
      "execution_count": null,
      "outputs": [
        {
          "output_type": "execute_result",
          "data": {
            "text/plain": [
              "[[0.0, 0.0, 0.0, 0.0, 0.0, 0.0, 1.0], [0.0, 0.0, 0.0, 0.0, 0.0, 0.0, 1.0]]"
            ]
          },
          "metadata": {},
          "execution_count": 25
        }
      ]
    },
    {
      "cell_type": "markdown",
      "source": [
        "이제 데이터셋 전체를 인코딩해봅시다.\n",
        "\n",
        "앞서 소개했던 map 메서드를 활용합니다."
      ],
      "metadata": {
        "id": "3xufDa9rhJsv"
      }
    },
    {
      "cell_type": "code",
      "source": [
        "dataset['train'].column_names"
      ],
      "metadata": {
        "colab": {
          "base_uri": "https://localhost:8080/"
        },
        "id": "j5-Nd3TQ1IAj",
        "outputId": "9b6417b9-f046-4486-8ba0-92a5b94e4a77"
      },
      "execution_count": null,
      "outputs": [
        {
          "output_type": "execute_result",
          "data": {
            "text/plain": [
              "['Unnamed: 0', 'utt', '날씨 묻기', '관광지 추천', '숙소 추천', '맛집 추천', '인사', '소개', '기타']"
            ]
          },
          "metadata": {},
          "execution_count": 26
        }
      ]
    },
    {
      "cell_type": "code",
      "source": [
        "encoded_dataset = dataset.map(preprocess_data, batched=True, remove_columns=dataset['train'].column_names)"
      ],
      "metadata": {
        "colab": {
          "base_uri": "https://localhost:8080/",
          "height": 133,
          "referenced_widgets": [
            "afb5bacc2c034e6aab4a5e472f3bb05e",
            "d8ad464db3264b97a8735b933f6789b4",
            "c9cac66bf7ce4eb5b75a4f140476d8bd",
            "768a3646d9fe4ecea7f252a42180d1e8",
            "e2b14d8133f842e88f1bb2163d558f1e",
            "c8d770ef230d414e98405a6714e0e5dc",
            "256da181545d4c1b9b06d52299235cbd",
            "6df10dff79c84413992af5a6bc12e7f0",
            "bc2e20aa5a7b482797e9ebd65dd27625",
            "b3955a689ac64b74a0e928117bf0b5e6",
            "0961d460e0cd4a3387742cd429549f2e",
            "776b715700b94d758ab37620df911a90",
            "77cfb94e12d344a0b6869a0d263cb8b8",
            "57eeb2bd11084e8dac967ed818b14c7b",
            "78d0bc931da64854a5241d636b5c56dd",
            "3f527e95fb6c4ff5bf6d8d5a5a5531a4",
            "5bc5ce766e764120a0f6a5116bc4ea7c",
            "668ecacd1f1e4ab1868c0afb3086d9eb",
            "b859efa230cf41388e0a6a1af3fb14d1",
            "042865e125534e8a8efac17b0c3233f6",
            "44e06abe5dca4324ad7faf4d2586d61e",
            "b00f0823f3e64de58bf3e18877d3b680",
            "8b2dd25236f74da6ba7353441baa2aff",
            "e61bbfba80c54347bacec80e219748ae",
            "fff264c406ba4d85bf5300887e311b2e",
            "705cf48d5dc74fc6a77523da54970357",
            "c656d0e620e341aea5c85689a9abcdce",
            "d6090b694b964901abafd1c1814c0b2f",
            "88ed654f3bcf4ba5813935974a2ec3c0",
            "499b510b7ba64cf39ab914986fc1114d",
            "6da32ed2da8745dba01c36e7f523722f",
            "08d30dbdf3b84864a8d7ff6d7007ccf8",
            "c62098de85284355b3058c0e853f8327"
          ]
        },
        "id": "xktut2_wI6Pm",
        "outputId": "b0ba9371-88ea-4af9-9d46-20793275a64a"
      },
      "execution_count": null,
      "outputs": [
        {
          "output_type": "display_data",
          "data": {
            "text/plain": [
              "  0%|          | 0/1 [00:00<?, ?ba/s]"
            ],
            "application/vnd.jupyter.widget-view+json": {
              "version_major": 2,
              "version_minor": 0,
              "model_id": "afb5bacc2c034e6aab4a5e472f3bb05e"
            }
          },
          "metadata": {}
        },
        {
          "output_type": "display_data",
          "data": {
            "text/plain": [
              "  0%|          | 0/1 [00:00<?, ?ba/s]"
            ],
            "application/vnd.jupyter.widget-view+json": {
              "version_major": 2,
              "version_minor": 0,
              "model_id": "776b715700b94d758ab37620df911a90"
            }
          },
          "metadata": {}
        },
        {
          "output_type": "display_data",
          "data": {
            "text/plain": [
              "  0%|          | 0/1 [00:00<?, ?ba/s]"
            ],
            "application/vnd.jupyter.widget-view+json": {
              "version_major": 2,
              "version_minor": 0,
              "model_id": "8b2dd25236f74da6ba7353441baa2aff"
            }
          },
          "metadata": {}
        }
      ]
    },
    {
      "cell_type": "code",
      "source": [
        "encoded_dataset"
      ],
      "metadata": {
        "colab": {
          "base_uri": "https://localhost:8080/"
        },
        "id": "PAw-6abyhdTg",
        "outputId": "ffb970c9-b019-49d9-eb1d-914ab731b60b"
      },
      "execution_count": null,
      "outputs": [
        {
          "output_type": "execute_result",
          "data": {
            "text/plain": [
              "DatasetDict({\n",
              "    train: Dataset({\n",
              "        features: ['input_ids', 'token_type_ids', 'attention_mask', 'labels'],\n",
              "        num_rows: 20\n",
              "    })\n",
              "    eval: Dataset({\n",
              "        features: ['input_ids', 'token_type_ids', 'attention_mask', 'labels'],\n",
              "        num_rows: 2\n",
              "    })\n",
              "    test: Dataset({\n",
              "        features: ['input_ids', 'token_type_ids', 'attention_mask', 'labels'],\n",
              "        num_rows: 3\n",
              "    })\n",
              "})"
            ]
          },
          "metadata": {},
          "execution_count": 35
        }
      ]
    },
    {
      "cell_type": "markdown",
      "source": [
        "전체 데이터셋에 대해 인코딩이 완료되었습니다.\n",
        "\n",
        "인코딩된 결과를 한번 확인해봅시다."
      ],
      "metadata": {
        "id": "6Bj4uh9mhvyv"
      }
    },
    {
      "cell_type": "code",
      "source": [
        "example = encoded_dataset['train'][0]\n",
        "print(example.keys())"
      ],
      "metadata": {
        "colab": {
          "base_uri": "https://localhost:8080/"
        },
        "id": "dKUnWavMI3D_",
        "outputId": "69d847d9-b3cc-4c6b-af4d-cc1b90a486e0"
      },
      "execution_count": null,
      "outputs": [
        {
          "output_type": "stream",
          "name": "stdout",
          "text": [
            "dict_keys(['input_ids', 'token_type_ids', 'attention_mask', 'labels'])\n"
          ]
        }
      ]
    },
    {
      "cell_type": "code",
      "source": [
        "print(example)"
      ],
      "metadata": {
        "colab": {
          "base_uri": "https://localhost:8080/"
        },
        "id": "ONFazgnoUWjC",
        "outputId": "555b9bd6-f749-4914-8782-dd33d4a3aa3c"
      },
      "execution_count": null,
      "outputs": [
        {
          "output_type": "stream",
          "name": "stdout",
          "text": [
            "{'input_ids': [2, 3991, 2170, 3667, 2210, 2052, 18, 18, 3, 0, 0, 0, 0, 0, 0, 0, 0, 0, 0, 0], 'token_type_ids': [0, 0, 0, 0, 0, 0, 0, 0, 0, 0, 0, 0, 0, 0, 0, 0, 0, 0, 0, 0], 'attention_mask': [1, 1, 1, 1, 1, 1, 1, 1, 1, 0, 0, 0, 0, 0, 0, 0, 0, 0, 0, 0], 'labels': [0.0, 0.0, 0.0, 0.0, 0.0, 0.0, 1.0]}\n"
          ]
        }
      ]
    },
    {
      "cell_type": "markdown",
      "source": [
        "input_ids를 통해 정수로 변환된 결과를 확인할 수 있습니다.\n",
        "\n",
        "또한 decode 메서드를 활용하면 정수를 다시 문자로 변환할 수도 있습니다."
      ],
      "metadata": {
        "id": "3YSXHmiOi_Wk"
      }
    },
    {
      "cell_type": "code",
      "source": [
        "print(f\"tokenizer를 이용해 변환된 숫자 값 : {example['input_ids']}\")\n",
        "print(f\"tokenizer를 이용해 숫자를 문자로 되돌린 값 : {tokenizer.decode(example['input_ids'])}\")\n",
        "\n",
        "# tokenizer의 사전 확인해보기\n",
        "for ids in example['input_ids']:\n",
        "  print(f\"{ids} = {tokenizer.decode(ids)}\")"
      ],
      "metadata": {
        "colab": {
          "base_uri": "https://localhost:8080/"
        },
        "id": "1wRSfV3yjDec",
        "outputId": "dbcc3f63-48fc-48b0-bd57-6cfe3055f418"
      },
      "execution_count": null,
      "outputs": [
        {
          "output_type": "stream",
          "name": "stdout",
          "text": [
            "tokenizer를 이용해 변환된 숫자 값 : [2, 3991, 2170, 3667, 2210, 2052, 18, 18, 3, 0, 0, 0, 0, 0, 0, 0, 0, 0, 0, 0]\n",
            "tokenizer를 이용해 숫자를 문자로 되돌린 값 : [CLS] 세상에 이런일이.. [SEP] [PAD] [PAD] [PAD] [PAD] [PAD] [PAD] [PAD] [PAD] [PAD] [PAD] [PAD]\n",
            "2 = [CLS]\n",
            "3991 = 세상\n",
            "2170 = ##에\n",
            "3667 = 이런\n",
            "2210 = ##일\n",
            "2052 = ##이\n",
            "18 = .\n",
            "18 = .\n",
            "3 = [SEP]\n",
            "0 = [PAD]\n",
            "0 = [PAD]\n",
            "0 = [PAD]\n",
            "0 = [PAD]\n",
            "0 = [PAD]\n",
            "0 = [PAD]\n",
            "0 = [PAD]\n",
            "0 = [PAD]\n",
            "0 = [PAD]\n",
            "0 = [PAD]\n",
            "0 = [PAD]\n"
          ]
        }
      ]
    },
    {
      "cell_type": "markdown",
      "source": [
        "labels엔 레이블들이 담겨 있습니다."
      ],
      "metadata": {
        "id": "oPVyXRkCjyum"
      }
    },
    {
      "cell_type": "code",
      "source": [
        "example['labels']"
      ],
      "metadata": {
        "colab": {
          "base_uri": "https://localhost:8080/"
        },
        "id": "evKbmxvqI0mo",
        "outputId": "be255dc8-762f-4029-f7ec-a17215fb1e54"
      },
      "execution_count": null,
      "outputs": [
        {
          "output_type": "execute_result",
          "data": {
            "text/plain": [
              "[0.0, 0.0, 0.0, 0.0, 0.0, 0.0, 1.0]"
            ]
          },
          "metadata": {},
          "execution_count": 25
        }
      ]
    },
    {
      "cell_type": "markdown",
      "source": [
        "위의 리스트에서 1.0 에 해당하는 label 이 무엇인지 확인해봅시다."
      ],
      "metadata": {
        "id": "offjqUbHhuMe"
      }
    },
    {
      "cell_type": "code",
      "source": [
        "[id2label[idx] for idx, label in enumerate(example['labels']) if label == 1.0]"
      ],
      "metadata": {
        "id": "Nj_0YMGD3mlT",
        "colab": {
          "base_uri": "https://localhost:8080/"
        },
        "outputId": "41e560d6-918d-4d03-80f5-8f083cadda78"
      },
      "execution_count": null,
      "outputs": [
        {
          "output_type": "execute_result",
          "data": {
            "text/plain": [
              "['기타']"
            ]
          },
          "metadata": {},
          "execution_count": 26
        }
      ]
    },
    {
      "cell_type": "markdown",
      "source": [
        "최종적으로, 우리의 데이터를 PyTorch tensors의 형식으로 설정합니다.\n",
        "\n",
        "이 과정을 거치면 우리의 훈련, 검증, 테스트 데이터가 표준 PyTorch 데이터셋이 됩니다."
      ],
      "metadata": {
        "id": "jNzMjQsJh9P5"
      }
    },
    {
      "cell_type": "code",
      "source": [
        "encoded_dataset.set_format(\"torch\")"
      ],
      "metadata": {
        "id": "8Wn1MOqIZQJp"
      },
      "execution_count": null,
      "outputs": []
    }
  ]
}