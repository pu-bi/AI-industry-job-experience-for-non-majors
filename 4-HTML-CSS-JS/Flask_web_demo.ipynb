{
  "nbformat": 4,
  "nbformat_minor": 0,
  "metadata": {
    "colab": {
      "provenance": [],
      "include_colab_link": true
    },
    "kernelspec": {
      "name": "python3",
      "display_name": "Python 3"
    },
    "language_info": {
      "name": "python"
    }
  },
  "cells": [
    {
      "cell_type": "markdown",
      "metadata": {
        "id": "view-in-github",
        "colab_type": "text"
      },
      "source": [
        "<a href=\"https://colab.research.google.com/github/pu-bi/AI-industry-job-experience-for-non-majors/blob/main/4-HTML-CSS-JS/Flask_web_demo.ipynb\" target=\"_parent\"><img src=\"https://colab.research.google.com/assets/colab-badge.svg\" alt=\"Open In Colab\"/></a>"
      ]
    },
    {
      "cell_type": "code",
      "source": [
        "# 저장한 모델을 불러오기 위해 구글 드라이브에 마운트합니다.\n",
        "from google.colab import drive\n",
        "\n",
        "drive.mount(\"/content/drive\")"
      ],
      "metadata": {
        "colab": {
          "base_uri": "https://localhost:8080/"
        },
        "id": "XGEUohRpQ6sa",
        "outputId": "d61d3d32-3e5c-414f-b4b6-06e0d1942197"
      },
      "execution_count": null,
      "outputs": [
        {
          "output_type": "stream",
          "name": "stdout",
          "text": [
            "Mounted at /content/drive\n"
          ]
        }
      ]
    },
    {
      "cell_type": "code",
      "source": [
        "# HuggingFace Transformers 라이브러리를 설치합니다.\n",
        "!pip install -q transformers"
      ],
      "metadata": {
        "colab": {
          "base_uri": "https://localhost:8080/"
        },
        "id": "prKkfpIvXYe0",
        "outputId": "fbdf5ce9-f214-4044-de19-8b4560342ad1"
      },
      "execution_count": null,
      "outputs": [
        {
          "output_type": "stream",
          "name": "stdout",
          "text": [
            "\u001b[K     |████████████████████████████████| 5.5 MB 5.4 MB/s \n",
            "\u001b[K     |████████████████████████████████| 7.6 MB 49.7 MB/s \n",
            "\u001b[K     |████████████████████████████████| 182 kB 30.4 MB/s \n",
            "\u001b[?25h"
          ]
        }
      ]
    },
    {
      "cell_type": "code",
      "source": [
        "from transformers import AutoModelForSequenceClassification, AutoTokenizer, Trainer\n",
        "import torch\n",
        "import torch.nn.functional as F\n",
        "import numpy as np\n",
        "\n",
        "# 모델 불러오기 : 본인의 my_model 폴더 경로를 입력하세요.\n",
        "model_path = \"/content/drive/MyDrive/가을_중앙정보처리학원/my_model\"\n",
        "\n",
        "model = AutoModelForSequenceClassification.from_pretrained(model_path)\n",
        "trainer = Trainer(model=model)\n",
        "tokenizer = AutoTokenizer.from_pretrained(model_path)\n",
        "id2label = {0: '활동', 1: '숙소', 2: '맛집', 3: '날씨', 4: '카페', 5: '인사', 6: '관광지추천', 7: '소개'}"
      ],
      "metadata": {
        "colab": {
          "base_uri": "https://localhost:8080/"
        },
        "id": "Wyyrpr0AXVZc",
        "outputId": "f8c23068-be37-441f-f351-82c187644b74"
      },
      "execution_count": null,
      "outputs": [
        {
          "output_type": "stream",
          "name": "stderr",
          "text": [
            "loading file vocab.txt\n",
            "loading file tokenizer.json\n",
            "loading file added_tokens.json\n",
            "loading file special_tokens_map.json\n",
            "loading file tokenizer_config.json\n"
          ]
        }
      ]
    },
    {
      "cell_type": "code",
      "source": [
        "def inference(text):\n",
        "  encoding = tokenizer(text, return_tensors = 'pt')\n",
        "  encoding = {k: v.to(trainer.model.device) for k,v in encoding.items()}\n",
        "\n",
        "  outputs = trainer.model(**encoding)\n",
        "  logits = outputs.logits\n",
        "\n",
        "  probs = logits.squeeze().cpu()\n",
        "  predictions = np.where(probs==probs.max(), 1, 0)\n",
        "  predicted_labels = [id2label[idx] for idx, label in enumerate(predictions) if label == 1.0]\n",
        "\n",
        "  return predicted_labels[0]"
      ],
      "metadata": {
        "id": "xEYuT322Y7By"
      },
      "execution_count": null,
      "outputs": []
    },
    {
      "cell_type": "code",
      "source": [
        "# softmax 와 threshold 를 사용하는 새로운 인퍼런스 함수\n",
        "def inference_with_softmax(text):\n",
        "  encoding = tokenizer(text, return_tensors = 'pt')\n",
        "  encoding = {k: v.to(trainer.model.device) for k,v in encoding.items()}\n",
        "\n",
        "  outputs = trainer.model(**encoding)\n",
        "\n",
        "  logits = outputs.logits\n",
        "\n",
        "  probs = logits.squeeze().cpu()\n",
        "  softmax_probs = F.softmax(probs, dim=-1)\n",
        "  labels_predict = np.where(softmax_probs==softmax_probs.max())[0][0]\n",
        "  print('입력 텍스트 :', text)\n",
        "  print('예측 결과 :', id2label[labels_predict])\n",
        "  print('prob :', softmax_probs[labels_predict])\n",
        "  if softmax_probs[labels_predict] < 0.6:\n",
        "    return '기타'\n",
        "  else:\n",
        "    return id2label[labels_predict]"
      ],
      "metadata": {
        "id": "-lUJqjOxY4CY"
      },
      "execution_count": null,
      "outputs": []
    },
    {
      "cell_type": "code",
      "source": [
        "import random\n",
        "\n",
        "def answer_sentence(pred):\n",
        "\n",
        "  if pred == '날씨':\n",
        "      date= ['오늘', '내일', '어제', '그저께', '내일 모레']\n",
        "      choice_date = random.choice(date)\n",
        "\n",
        "      weather_2 = ['추워요.', '따뜻해요.', '조금 쌀쌀해요.', '비가 올 것 같아요.' ,'태풍이 와요.', '바람이 불어요.', '더워요.']\n",
        "      choice_weather_2= random.choice(weather_2)\n",
        "\n",
        "      attractions_2= ['제주시', '서귀포시', '애월읍', '안덕면', '성산읍', '조천읍', '구좌읍', '한림읍', '남원읍']\n",
        "      choice_attractions_2 = random.choice(attractions_2)\n",
        "\n",
        "      sentence = f'{choice_date} {choice_attractions_2}의 날씨는 {choice_weather_2}'\n",
        "\n",
        "  elif pred == '관광지추천':\n",
        " \n",
        "    attraction = ['쇠소깍', '용머리해안', '함덕 해수욕장', '우도']\n",
        "    choice_attraction = random.choice(attraction)\n",
        " \n",
        "    nice = ['경치 좋은', '바다가 예쁜', '단체로 갈 만한', '사진찍기 좋은']\n",
        "    choice_nice = random.choice(nice)\n",
        " \n",
        "    sentence = f'제주 {choice_nice} {choice_attraction}에 가 보세요~'\n",
        "\n",
        "\n",
        "  elif pred == '숙소':\n",
        "    accomodation = ['베니키아 호텔', '위드 스테이 호텔 제주', '제주 라온 호텔', '신신호텔 천지연']\n",
        "    choice_accomodation = random.choice(accomodation)\n",
        "\n",
        "    location = ['애월에 있는', '제주시에 있는', '한림에 있는', '서귀포에 있는']\n",
        "    choice_location = random.choice(location)\n",
        "\n",
        "    sentence = f'제주도 {choice_location} {choice_accomodation} 가 보시는 건 어떠세요?'\n",
        "  \n",
        "  elif pred == '맛집':\n",
        "\n",
        "    restaurant = ['숙성도', '빵귿', '살찐 고등어', '복집식당']\n",
        "    choice_restaurant = random.choice(restaurant)\n",
        "\n",
        "    delicious = ['삼겹살이 맛있는', '빵이 맛있는', '고등어가 유명한', '갈치구이 유명한']\n",
        "    choice_delicious = random.choice(delicious)\n",
        "    sentence = f'제주 {choice_delicious}, {choice_restaurant} 어떠세요?'\n",
        "  \n",
        "  elif pred=='인사':\n",
        "    bot_name = ['제주심심이', '감귤맨', '제주이루다', '감귤 Killer', '제주시리', '제주스', '코난']\n",
        "    choice_name = random.choice(bot_name)\n",
        "    bot_role = ['당신의 친구', '제주의 수호자', '당신의 친절한 가이드', '든든한 도우미']\n",
        "    choice_role = random.choice(bot_role)\n",
        "    end_of_sentence = ['입니다.', '랍니다.', '라구요.', '...일까요?']\n",
        "    choice_eos = random.choice(end_of_sentence)\n",
        "    sentence = f\"제 이름은 {choice_name}, {choice_role}{choice_eos}\"\n",
        "    if choice_name == '제주스':\n",
        "      sentence = f\"내 이름은 {choice_name}, 축구선수는 아니야.\"\n",
        "    elif choice_name == '코난':\n",
        "      sentence = f\"내 이름은 {choice_name}, 감귤이죠.\"\n",
        "      \n",
        "\n",
        "\n",
        "  elif pred == '소개':\n",
        "    sentence = '저는 제주도의 <날씨>,<숙소>,<맛집>,<활동>,<카페> 기능에 관하여 이용이 가능합니다.'\n",
        "\n",
        "  elif pred == \"활동\":\n",
        "\n",
        "    act_1 = [\"인기 많은\",\"즐거운\",\"재밌는\"]\n",
        "    choice_act_1 = random.choice(act_1)\n",
        "\n",
        "    act_2 =[\"둘레길 걷기\",\"오름 방문\",\"바닷길 드라이브\"]\n",
        "    choice_act_2 = random.choice(act_2)\n",
        "    sentence = f\"{choice_act_1}, {choice_act_2} 해보는 건 어때요?\"\n",
        "\n",
        "  elif pred == '카페':\n",
        "    cafe=['제주특별자치도 제주시 한경면 낙원로 32 에 있는 산노루','제주특별자치도 서귀포시 이어도로1027번길 34에 있는 카페 귤 꽃다락','제주특별자치도 서귀포시 516로 717에 있는 서귀다원','제주특별자치도 제주시 은수길 110 2F에 있는 우연못']\n",
        "    choice_cafe = random.choice(cafe)\n",
        "    ending=['어떠세요?','가보세요~!','가보는걸 추천 드립니다!','추천 합니다.']\n",
        "    choice_ending=random.choice(ending)\n",
        "    sentence = f'{choice_cafe} {choice_ending}'\n",
        "  \n",
        "  else:\n",
        "    sentence = \"죄송한데, 무슨 말씀인지 잘 모르겠어요.\"\n",
        "  \n",
        "  return sentence"
      ],
      "metadata": {
        "id": "nQisNfL9ZN52"
      },
      "execution_count": null,
      "outputs": []
    },
    {
      "cell_type": "code",
      "source": [
        "def answer_system(input_text):\n",
        "  \n",
        "  # print(\"안녕하세요, 무엇을 도와드릴까요?\")\n",
        "  pred = inference_with_softmax(input_text)\n",
        "  sentence = answer_sentence(pred)\n",
        "  return sentence "
      ],
      "metadata": {
        "id": "gKjnsT4mZwXl"
      },
      "execution_count": null,
      "outputs": []
    },
    {
      "cell_type": "code",
      "source": [
        "answer = answer_system(\"날씨\")\n",
        "print(answer)"
      ],
      "metadata": {
        "colab": {
          "base_uri": "https://localhost:8080/"
        },
        "id": "WroYo4q8RaNy",
        "outputId": "75ee0aac-eb5d-4573-88d1-46532e7989a6"
      },
      "execution_count": null,
      "outputs": [
        {
          "output_type": "stream",
          "name": "stdout",
          "text": [
            "안녕하세요, 무엇을 도와드릴까요?\n",
            "입력 텍스트 : 날씨\n",
            "예측 결과 : 날씨\n",
            "prob : tensor(0.9996, grad_fn=<SelectBackward0>)\n",
            "어제, 안덕면의 날씨는 비가 올 것 같아요.\n"
          ]
        }
      ]
    },
    {
      "cell_type": "code",
      "source": [
        "!pip install flask --quiet\n",
        "!pip install flask-ngrok --quiet\n",
        "print(\"Completed!\")"
      ],
      "metadata": {
        "colab": {
          "base_uri": "https://localhost:8080/"
        },
        "id": "m_Ddp-tcRfn3",
        "outputId": "a6027cdf-3f3e-4584-dba2-cea737af0b86"
      },
      "execution_count": null,
      "outputs": [
        {
          "output_type": "stream",
          "name": "stdout",
          "text": [
            "Completed!\n"
          ]
        }
      ]
    },
    {
      "cell_type": "code",
      "source": [
        "# 다음의 명령어로 ngrok linux version 을 설치\n",
        "\n",
        "!wget https://bin.equinox.io/c/4VmDzA7iaHb/ngrok-stable-linux-amd64.tgz"
      ],
      "metadata": {
        "colab": {
          "base_uri": "https://localhost:8080/"
        },
        "id": "1ETqFBODRpe2",
        "outputId": "8c3b94ef-a19e-4b8e-e87a-f0c5c4ae7e32"
      },
      "execution_count": null,
      "outputs": [
        {
          "output_type": "stream",
          "name": "stdout",
          "text": [
            "--2022-11-25 07:24:03--  https://bin.equinox.io/c/4VmDzA7iaHb/ngrok-stable-linux-amd64.tgz\n",
            "Resolving bin.equinox.io (bin.equinox.io)... 52.202.168.65, 18.205.222.128, 54.237.133.81, ...\n",
            "Connecting to bin.equinox.io (bin.equinox.io)|52.202.168.65|:443... connected.\n",
            "HTTP request sent, awaiting response... 200 OK\n",
            "Length: 13770165 (13M) [application/octet-stream]\n",
            "Saving to: ‘ngrok-stable-linux-amd64.tgz’\n",
            "\n",
            "ngrok-stable-linux- 100%[===================>]  13.13M  5.37MB/s    in 2.4s    \n",
            "\n",
            "2022-11-25 07:24:05 (5.37 MB/s) - ‘ngrok-stable-linux-amd64.tgz’ saved [13770165/13770165]\n",
            "\n"
          ]
        }
      ]
    },
    {
      "cell_type": "code",
      "source": [
        "!ls"
      ],
      "metadata": {
        "colab": {
          "base_uri": "https://localhost:8080/"
        },
        "id": "Wr0k86WacJsQ",
        "outputId": "ea0a7636-e074-4be9-ae77-7ace5dcaadf7"
      },
      "execution_count": null,
      "outputs": [
        {
          "output_type": "stream",
          "name": "stdout",
          "text": [
            "drive  ngrok-stable-linux-amd64.tgz  sample_data  tmp_trainer\n"
          ]
        }
      ]
    },
    {
      "cell_type": "code",
      "source": [
        "# 압축 해제\n",
        "\n",
        "!tar -xvf /content/ngrok-stable-linux-amd64.tgz"
      ],
      "metadata": {
        "colab": {
          "base_uri": "https://localhost:8080/"
        },
        "id": "UV-nNAI1RrHC",
        "outputId": "fa33047d-5407-431b-9f99-31b6215c1096"
      },
      "execution_count": null,
      "outputs": [
        {
          "output_type": "stream",
          "name": "stdout",
          "text": [
            "ngrok\n"
          ]
        }
      ]
    },
    {
      "cell_type": "code",
      "source": [
        "# ngrok 사이트 (https://dashboard.ngrok.com/get-started/setup)에서 회원가입을 한뒤\n",
        "# \"Your Authtoken\" 탭을 클릭하여 authtoken을 복사하여 붙여넣습니다.\n",
        "\n",
        "!./ngrok authtoken 2AobOWreg1Cj5sYHFJ4rCPyQBt4_6HVVnb8nMQ4MFvKRzePCi"
      ],
      "metadata": {
        "colab": {
          "base_uri": "https://localhost:8080/"
        },
        "id": "8PAxukS_Rskh",
        "outputId": "4d0795ab-ea61-4776-f699-874a0fbfef09"
      },
      "execution_count": null,
      "outputs": [
        {
          "output_type": "stream",
          "name": "stdout",
          "text": [
            "Authtoken saved to configuration file: /root/.ngrok2/ngrok.yml\n"
          ]
        }
      ]
    },
    {
      "cell_type": "code",
      "source": [
        "# 플라스크 임포트\n",
        "from flask import Flask\n",
        "from flask import render_template, request\n",
        "from flask_ngrok import run_with_ngrok"
      ],
      "metadata": {
        "id": "8x1649dcRu6g"
      },
      "execution_count": null,
      "outputs": []
    },
    {
      "cell_type": "code",
      "source": [
        "from flask import Flask, url_for, redirect, render_template, request\n",
        "\n",
        "TEMPLATE_FOLDER = '/content/drive/MyDrive/가을_중앙정보처리학원/06/templates'\n",
        "STATIC_FOLDER = '/content/drive/MyDrive/가을_중앙정보처리학원/06/static'\n",
        "app = Flask(__name__, template_folder=TEMPLATE_FOLDER, static_folder = STATIC_FOLDER)\n",
        "run_with_ngrok(app)\n",
        "\n",
        "@app.route('/')\n",
        "def index():\n",
        "    return render_template('index.html')\n",
        "\n",
        "@app.route('/chat') \n",
        "def chatbot():\n",
        "    return render_template('chat.html')\n",
        "\n",
        "@app.route('/get')\n",
        "def get_bot_response():\n",
        "    userText = request.args.get('a')\n",
        "    return answer_system(userText)\n",
        "\n",
        "app.run()"
      ],
      "metadata": {
        "colab": {
          "base_uri": "https://localhost:8080/"
        },
        "id": "FEo4dRZAR2cy",
        "outputId": "68d360ae-c54e-44a3-ebb9-a170c14eb9fb"
      },
      "execution_count": null,
      "outputs": [
        {
          "output_type": "stream",
          "name": "stdout",
          "text": [
            " * Serving Flask app \"__main__\" (lazy loading)\n",
            " * Environment: production\n",
            "\u001b[31m   WARNING: This is a development server. Do not use it in a production deployment.\u001b[0m\n",
            "\u001b[2m   Use a production WSGI server instead.\u001b[0m\n",
            " * Debug mode: off\n"
          ]
        },
        {
          "output_type": "stream",
          "name": "stderr",
          "text": [
            "INFO:werkzeug: * Running on http://127.0.0.1:5000/ (Press CTRL+C to quit)\n"
          ]
        },
        {
          "output_type": "stream",
          "name": "stdout",
          "text": [
            " * Running on http://e81a-35-239-188-124.ngrok.io\n",
            " * Traffic stats available on http://127.0.0.1:4040\n"
          ]
        },
        {
          "output_type": "stream",
          "name": "stderr",
          "text": [
            "INFO:werkzeug:127.0.0.1 - - [25/Nov/2022 07:54:17] \"\u001b[37mGET / HTTP/1.1\u001b[0m\" 200 -\n",
            "INFO:werkzeug:127.0.0.1 - - [25/Nov/2022 07:54:17] \"\u001b[37mGET /static/css/style.css HTTP/1.1\u001b[0m\" 200 -\n",
            "INFO:werkzeug:127.0.0.1 - - [25/Nov/2022 07:54:18] \"\u001b[37mGET /static/images/photo-1.jpg HTTP/1.1\u001b[0m\" 200 -\n",
            "INFO:werkzeug:127.0.0.1 - - [25/Nov/2022 07:54:18] \"\u001b[37mGET /static/js/slideshow.js HTTP/1.1\u001b[0m\" 200 -\n",
            "INFO:werkzeug:127.0.0.1 - - [25/Nov/2022 07:54:18] \"\u001b[37mGET /static/images/photo-2.jpg HTTP/1.1\u001b[0m\" 200 -\n",
            "INFO:werkzeug:127.0.0.1 - - [25/Nov/2022 07:54:18] \"\u001b[37mGET /static/images/photo-3.jpg HTTP/1.1\u001b[0m\" 200 -\n",
            "INFO:werkzeug:127.0.0.1 - - [25/Nov/2022 07:54:18] \"\u001b[37mGET /static/images/img-1.jpg HTTP/1.1\u001b[0m\" 200 -\n",
            "INFO:werkzeug:127.0.0.1 - - [25/Nov/2022 07:54:18] \"\u001b[37mGET /static/images/img-2.jpg HTTP/1.1\u001b[0m\" 200 -\n",
            "INFO:werkzeug:127.0.0.1 - - [25/Nov/2022 07:54:18] \"\u001b[37mGET /static/images/sns-2.png HTTP/1.1\u001b[0m\" 200 -\n",
            "INFO:werkzeug:127.0.0.1 - - [25/Nov/2022 07:54:18] \"\u001b[37mGET /static/images/sns-1.png HTTP/1.1\u001b[0m\" 200 -\n",
            "INFO:werkzeug:127.0.0.1 - - [25/Nov/2022 07:54:18] \"\u001b[37mGET /static/images/img-3.jpg HTTP/1.1\u001b[0m\" 200 -\n",
            "INFO:werkzeug:127.0.0.1 - - [25/Nov/2022 07:54:18] \"\u001b[37mGET /static/images/icon-3.jpg HTTP/1.1\u001b[0m\" 200 -\n",
            "INFO:werkzeug:127.0.0.1 - - [25/Nov/2022 07:54:18] \"\u001b[37mGET /static/images/icon-1.jpg HTTP/1.1\u001b[0m\" 200 -\n",
            "INFO:werkzeug:127.0.0.1 - - [25/Nov/2022 07:54:18] \"\u001b[37mGET /static/images/sns-3.png HTTP/1.1\u001b[0m\" 200 -\n",
            "INFO:werkzeug:127.0.0.1 - - [25/Nov/2022 07:54:19] \"\u001b[37mGET /static/images/icon-2.jpg HTTP/1.1\u001b[0m\" 200 -\n",
            "INFO:werkzeug:127.0.0.1 - - [25/Nov/2022 07:54:19] \"\u001b[33mGET /favicon.ico HTTP/1.1\u001b[0m\" 404 -\n",
            "INFO:werkzeug:127.0.0.1 - - [25/Nov/2022 07:54:19] \"\u001b[37mGET /chat HTTP/1.1\u001b[0m\" 200 -\n",
            "INFO:werkzeug:127.0.0.1 - - [25/Nov/2022 07:54:19] \"\u001b[37mGET /static/css/chat.css HTTP/1.1\u001b[0m\" 200 -\n",
            "INFO:werkzeug:127.0.0.1 - - [25/Nov/2022 07:54:22] \"\u001b[37mGET /chat HTTP/1.1\u001b[0m\" 200 -\n",
            "INFO:werkzeug:127.0.0.1 - - [25/Nov/2022 07:54:23] \"\u001b[37mGET /chat HTTP/1.1\u001b[0m\" 200 -\n",
            "INFO:werkzeug:127.0.0.1 - - [25/Nov/2022 07:54:27] \"\u001b[37mGET /chat HTTP/1.1\u001b[0m\" 200 -\n",
            "INFO:werkzeug:127.0.0.1 - - [25/Nov/2022 07:54:33] \"\u001b[37mGET /chat HTTP/1.1\u001b[0m\" 200 -\n",
            "INFO:werkzeug:127.0.0.1 - - [25/Nov/2022 07:54:33] \"\u001b[37mGET /static/css/chat.css HTTP/1.1\u001b[0m\" 200 -\n",
            "INFO:werkzeug:127.0.0.1 - - [25/Nov/2022 07:54:33] \"\u001b[33mGET /favicon.ico HTTP/1.1\u001b[0m\" 404 -\n",
            "INFO:werkzeug:127.0.0.1 - - [25/Nov/2022 07:54:38] \"\u001b[37mGET /get?a=흑돼지%20사줘 HTTP/1.1\u001b[0m\" 200 -\n"
          ]
        },
        {
          "output_type": "stream",
          "name": "stdout",
          "text": [
            "안녕하세요, 무엇을 도와드릴까요?\n",
            "입력 텍스트 : 흑돼지 사줘\n",
            "예측 결과 : 소개\n",
            "prob : tensor(0.9999, grad_fn=<SelectBackward0>)\n"
          ]
        },
        {
          "output_type": "stream",
          "name": "stderr",
          "text": [
            "INFO:werkzeug:127.0.0.1 - - [25/Nov/2022 07:54:42] \"\u001b[37mGET /get?a=웅 HTTP/1.1\u001b[0m\" 200 -\n"
          ]
        },
        {
          "output_type": "stream",
          "name": "stdout",
          "text": [
            "안녕하세요, 무엇을 도와드릴까요?\n",
            "입력 텍스트 : 웅\n",
            "예측 결과 : 인사\n",
            "prob : tensor(0.9999, grad_fn=<SelectBackward0>)\n"
          ]
        },
        {
          "output_type": "stream",
          "name": "stderr",
          "text": [
            "INFO:werkzeug:127.0.0.1 - - [25/Nov/2022 07:54:47] \"\u001b[37mGET /get?a=흑돼지 HTTP/1.1\u001b[0m\" 200 -\n"
          ]
        },
        {
          "output_type": "stream",
          "name": "stdout",
          "text": [
            "안녕하세요, 무엇을 도와드릴까요?\n",
            "입력 텍스트 : 흑돼지\n",
            "예측 결과 : 소개\n",
            "prob : tensor(0.9957, grad_fn=<SelectBackward0>)\n"
          ]
        },
        {
          "output_type": "stream",
          "name": "stderr",
          "text": [
            "INFO:werkzeug:127.0.0.1 - - [25/Nov/2022 07:54:51] \"\u001b[37mGET /get?a=배고파 HTTP/1.1\u001b[0m\" 200 -\n"
          ]
        },
        {
          "output_type": "stream",
          "name": "stdout",
          "text": [
            "안녕하세요, 무엇을 도와드릴까요?\n",
            "입력 텍스트 : 배고파\n",
            "예측 결과 : 인사\n",
            "prob : tensor(0.9999, grad_fn=<SelectBackward0>)\n"
          ]
        },
        {
          "output_type": "stream",
          "name": "stderr",
          "text": [
            "INFO:werkzeug:127.0.0.1 - - [25/Nov/2022 07:54:56] \"\u001b[37mGET /get?a=다이어트중 HTTP/1.1\u001b[0m\" 200 -\n"
          ]
        },
        {
          "output_type": "stream",
          "name": "stdout",
          "text": [
            "안녕하세요, 무엇을 도와드릴까요?\n",
            "입력 텍스트 : 다이어트중\n",
            "예측 결과 : 인사\n",
            "prob : tensor(0.9998, grad_fn=<SelectBackward0>)\n"
          ]
        },
        {
          "output_type": "stream",
          "name": "stderr",
          "text": [
            "INFO:werkzeug:127.0.0.1 - - [25/Nov/2022 07:55:27] \"\u001b[37mGET /chat HTTP/1.1\u001b[0m\" 200 -\n",
            "INFO:werkzeug:127.0.0.1 - - [25/Nov/2022 07:55:27] \"\u001b[37mGET /static/css/chat.css HTTP/1.1\u001b[0m\" 200 -\n",
            "INFO:werkzeug:127.0.0.1 - - [25/Nov/2022 07:55:27] \"\u001b[33mGET /favicon.ico HTTP/1.1\u001b[0m\" 404 -\n",
            "INFO:werkzeug:127.0.0.1 - - [25/Nov/2022 07:55:32] \"\u001b[37mGET /get?a=기능%20알려줘 HTTP/1.1\u001b[0m\" 200 -\n"
          ]
        },
        {
          "output_type": "stream",
          "name": "stdout",
          "text": [
            "안녕하세요, 무엇을 도와드릴까요?\n",
            "입력 텍스트 : 기능 알려줘\n",
            "예측 결과 : 소개\n",
            "prob : tensor(0.9999, grad_fn=<SelectBackward0>)\n"
          ]
        },
        {
          "output_type": "stream",
          "name": "stderr",
          "text": [
            "INFO:werkzeug:127.0.0.1 - - [25/Nov/2022 07:55:39] \"\u001b[37mGET /get?a=날씨 HTTP/1.1\u001b[0m\" 200 -\n"
          ]
        },
        {
          "output_type": "stream",
          "name": "stdout",
          "text": [
            "안녕하세요, 무엇을 도와드릴까요?\n",
            "입력 텍스트 : 날씨\n",
            "예측 결과 : 날씨\n",
            "prob : tensor(0.9996, grad_fn=<SelectBackward0>)\n"
          ]
        },
        {
          "output_type": "stream",
          "name": "stderr",
          "text": [
            "INFO:werkzeug:127.0.0.1 - - [25/Nov/2022 07:55:43] \"\u001b[37mGET /get?a=올%20ㅋ HTTP/1.1\u001b[0m\" 200 -\n"
          ]
        },
        {
          "output_type": "stream",
          "name": "stdout",
          "text": [
            "안녕하세요, 무엇을 도와드릴까요?\n",
            "입력 텍스트 : 올 ㅋ\n",
            "예측 결과 : 인사\n",
            "prob : tensor(0.9999, grad_fn=<SelectBackward0>)\n"
          ]
        },
        {
          "output_type": "stream",
          "name": "stderr",
          "text": [
            "INFO:werkzeug:127.0.0.1 - - [25/Nov/2022 07:55:47] \"\u001b[37mGET /get?a=숙소 HTTP/1.1\u001b[0m\" 200 -\n"
          ]
        },
        {
          "output_type": "stream",
          "name": "stdout",
          "text": [
            "안녕하세요, 무엇을 도와드릴까요?\n",
            "입력 텍스트 : 숙소\n",
            "예측 결과 : 숙소\n",
            "prob : tensor(0.9999, grad_fn=<SelectBackward0>)\n"
          ]
        },
        {
          "output_type": "stream",
          "name": "stderr",
          "text": [
            "INFO:werkzeug:127.0.0.1 - - [25/Nov/2022 07:55:56] \"\u001b[37mGET /get?a=다른%20덴%20없니%3F HTTP/1.1\u001b[0m\" 200 -\n"
          ]
        },
        {
          "output_type": "stream",
          "name": "stdout",
          "text": [
            "안녕하세요, 무엇을 도와드릴까요?\n",
            "입력 텍스트 : 다른 덴 없니?\n",
            "예측 결과 : 인사\n",
            "prob : tensor(0.9979, grad_fn=<SelectBackward0>)\n"
          ]
        },
        {
          "output_type": "stream",
          "name": "stderr",
          "text": [
            "INFO:werkzeug:127.0.0.1 - - [25/Nov/2022 07:56:02] \"\u001b[37mGET /get?a=맛집 HTTP/1.1\u001b[0m\" 200 -\n"
          ]
        },
        {
          "output_type": "stream",
          "name": "stdout",
          "text": [
            "안녕하세요, 무엇을 도와드릴까요?\n",
            "입력 텍스트 : 맛집\n",
            "예측 결과 : 맛집\n",
            "prob : tensor(0.9999, grad_fn=<SelectBackward0>)\n"
          ]
        },
        {
          "output_type": "stream",
          "name": "stderr",
          "text": [
            "INFO:werkzeug:127.0.0.1 - - [25/Nov/2022 07:56:08] \"\u001b[37mGET /get?a=백고팡 HTTP/1.1\u001b[0m\" 200 -\n"
          ]
        },
        {
          "output_type": "stream",
          "name": "stdout",
          "text": [
            "안녕하세요, 무엇을 도와드릴까요?\n",
            "입력 텍스트 : 백고팡\n",
            "예측 결과 : 인사\n",
            "prob : tensor(0.9998, grad_fn=<SelectBackward0>)\n"
          ]
        },
        {
          "output_type": "stream",
          "name": "stderr",
          "text": [
            "INFO:werkzeug:127.0.0.1 - - [25/Nov/2022 07:56:11] \"\u001b[37mGET /chat HTTP/1.1\u001b[0m\" 200 -\n",
            "INFO:werkzeug:127.0.0.1 - - [25/Nov/2022 07:56:11] \"\u001b[37mGET /static/css/chat.css HTTP/1.1\u001b[0m\" 200 -\n",
            "INFO:werkzeug:127.0.0.1 - - [25/Nov/2022 07:56:12] \"\u001b[33mGET /favicon.ico HTTP/1.1\u001b[0m\" 404 -\n",
            "INFO:werkzeug:127.0.0.1 - - [25/Nov/2022 07:56:16] \"\u001b[37mGET /get?a=맛집 HTTP/1.1\u001b[0m\" 200 -\n"
          ]
        },
        {
          "output_type": "stream",
          "name": "stdout",
          "text": [
            "안녕하세요, 무엇을 도와드릴까요?\n",
            "입력 텍스트 : 맛집\n",
            "예측 결과 : 맛집\n",
            "prob : tensor(0.9999, grad_fn=<SelectBackward0>)\n"
          ]
        },
        {
          "output_type": "stream",
          "name": "stderr",
          "text": [
            "INFO:werkzeug:127.0.0.1 - - [25/Nov/2022 07:56:23] \"\u001b[37mGET /get?a=나도%20살쪘는데... HTTP/1.1\u001b[0m\" 200 -\n"
          ]
        },
        {
          "output_type": "stream",
          "name": "stdout",
          "text": [
            "안녕하세요, 무엇을 도와드릴까요?\n",
            "입력 텍스트 : 나도 살쪘는데...\n",
            "예측 결과 : 인사\n",
            "prob : tensor(0.9998, grad_fn=<SelectBackward0>)\n"
          ]
        },
        {
          "output_type": "stream",
          "name": "stderr",
          "text": [
            "INFO:werkzeug:127.0.0.1 - - [25/Nov/2022 07:56:26] \"\u001b[37mGET /get?a=날씨 HTTP/1.1\u001b[0m\" 200 -\n"
          ]
        },
        {
          "output_type": "stream",
          "name": "stdout",
          "text": [
            "안녕하세요, 무엇을 도와드릴까요?\n",
            "입력 텍스트 : 날씨\n",
            "예측 결과 : 날씨\n",
            "prob : tensor(0.9996, grad_fn=<SelectBackward0>)\n"
          ]
        },
        {
          "output_type": "stream",
          "name": "stderr",
          "text": [
            "INFO:werkzeug:127.0.0.1 - - [25/Nov/2022 07:56:34] \"\u001b[37mGET /get?a=어제%20말고%20내일%20 HTTP/1.1\u001b[0m\" 200 -\n"
          ]
        },
        {
          "output_type": "stream",
          "name": "stdout",
          "text": [
            "안녕하세요, 무엇을 도와드릴까요?\n",
            "입력 텍스트 : 어제 말고 내일 \n",
            "예측 결과 : 인사\n",
            "prob : tensor(0.9998, grad_fn=<SelectBackward0>)\n"
          ]
        },
        {
          "output_type": "stream",
          "name": "stderr",
          "text": [
            "INFO:werkzeug:127.0.0.1 - - [25/Nov/2022 07:56:38] \"\u001b[37mGET /get?a=너%20바보니%3F HTTP/1.1\u001b[0m\" 200 -\n"
          ]
        },
        {
          "output_type": "stream",
          "name": "stdout",
          "text": [
            "안녕하세요, 무엇을 도와드릴까요?\n",
            "입력 텍스트 : 너 바보니?\n",
            "예측 결과 : 인사\n",
            "prob : tensor(0.9999, grad_fn=<SelectBackward0>)\n"
          ]
        },
        {
          "output_type": "stream",
          "name": "stderr",
          "text": [
            "INFO:werkzeug:127.0.0.1 - - [25/Nov/2022 07:56:40] \"\u001b[37mGET /get?a=숙소 HTTP/1.1\u001b[0m\" 200 -\n"
          ]
        },
        {
          "output_type": "stream",
          "name": "stdout",
          "text": [
            "안녕하세요, 무엇을 도와드릴까요?\n",
            "입력 텍스트 : 숙소\n",
            "예측 결과 : 숙소\n",
            "prob : tensor(0.9999, grad_fn=<SelectBackward0>)\n"
          ]
        },
        {
          "output_type": "stream",
          "name": "stderr",
          "text": [
            "INFO:werkzeug:127.0.0.1 - - [25/Nov/2022 07:56:45] \"\u001b[37mGET /get?a=다른%20덴%20없냐 HTTP/1.1\u001b[0m\" 200 -\n"
          ]
        },
        {
          "output_type": "stream",
          "name": "stdout",
          "text": [
            "안녕하세요, 무엇을 도와드릴까요?\n",
            "입력 텍스트 : 다른 덴 없냐\n",
            "예측 결과 : 인사\n",
            "prob : tensor(0.8888, grad_fn=<SelectBackward0>)\n"
          ]
        }
      ]
    },
    {
      "cell_type": "code",
      "source": [],
      "metadata": {
        "id": "UVjjO5ZLSVuO"
      },
      "execution_count": null,
      "outputs": []
    }
  ]
}