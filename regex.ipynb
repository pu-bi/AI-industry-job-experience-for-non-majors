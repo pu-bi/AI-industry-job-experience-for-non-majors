{
  "cells": [
    {
      "cell_type": "markdown",
      "metadata": {
        "id": "3cfrOV4dL9hW"
      },
      "source": [
        "#Regular Expression"
      ]
    },
    {
      "cell_type": "markdown",
      "source": [
        "## 정규표현식 강의"
      ],
      "metadata": {
        "id": "IaRDl8fS3rgZ"
      }
    },
    {
      "cell_type": "markdown",
      "metadata": {
        "id": "fY12nHhyL9hX"
      },
      "source": [
        "정규표현식(정규식;Regular expression)은 **문자열에서 특정 문자 조합을 찾기 위한 패턴**으로, Python뿐 아니라 문자열을 다루는 모든 곳에서 사용합니다.\n",
        "\n",
        "Python에서는 re라는 라이브러리에서 정규표현식 처리 함수를 제공합니다.\n",
        "\n",
        "참조: https://docs.python.org/ko/3/library/re.html"
      ]
    },
    {
      "cell_type": "markdown",
      "metadata": {
        "id": "lZMyAdqhL9hY"
      },
      "source": [
        "re를 사용하기 위해서는 `re` 패키지를 불러와야 합니다."
      ]
    },
    {
      "cell_type": "code",
      "execution_count": null,
      "metadata": {
        "id": "58QdX8BLL9hZ"
      },
      "outputs": [],
      "source": [
        "import re"
      ]
    },
    {
      "cell_type": "markdown",
      "metadata": {
        "id": "DDx6v1EdL9hb"
      },
      "source": [
        "###메타 문자"
      ]
    },
    {
      "cell_type": "markdown",
      "metadata": {
        "id": "f-Zv3f7LL9hc"
      },
      "source": [
        "메타 문자는 정규표현식에서 특별한 용도로 사용하는 문자입니다."
      ]
    },
    {
      "cell_type": "markdown",
      "metadata": {
        "id": "_eMTRnZRL9hc"
      },
      "source": [
        "#### 주요 메타문자 목록\n",
        "```\n",
        ". ^ $ * + ? { } [ ] \\ | ( )\n",
        "```\n",
        "#### 메타문자별 의미와 예\n",
        "```\n",
        "[abc]        # a 혹은 b 혹은 c \n",
        "```\n",
        "```\n",
        "[0-9]        # 0부터 9까지의 정수값 중 하나. [0123456789]와 동일\n",
        "```\n",
        "```\n",
        "[a-zA-Z]     # 소문자 a부터 z, 대문자 A부터 Z까지의 알파벳 중 하나\n",
        "```\n",
        "```\n",
        "[^0-9]       # 0부터 9까지의 정수값이 아닌 값\n",
        "```\n",
        "----\n",
        "```\n",
        "\\d           # 숫자. [0-9]와 동일\n",
        "```\n",
        "```\n",
        "\\D           # 숫자. [^0-9]와 동일\n",
        "```\n",
        "```\n",
        "\\w           # 숫자 혹은 알파벳. [0-9a-zA-Z]와 동일. \n",
        "```\n",
        "```\n",
        "\\W           # 숫자 혹은 알파벳이 아닌 문자. [^0-9a-zA-Z]와 동일. \n",
        "```\n",
        "```\n",
        "\\s           # 공백 문자. [ \\t\\n\\r\\f\\v]과 동일\n",
        "```\n",
        "```\n",
        "\\S           # 공백이 아닌 문자. [^ \\t\\n\\r\\f\\v]과 동일\n",
        "```\n",
        "\n",
        "---\n",
        "\n",
        "```\n",
        "ya?          # ya에서 a가 등장하지 않거나 1회 등장하거나. y, ya\n",
        "```\n",
        "```\n",
        "ya+          # ya에서 a가 1회 이상 반복. ya, yaa, yaaa, ...\n",
        "```\n",
        "```\n",
        "ya*          # ya에서 a가 0회 이상 반복. y, ya, yaa, yaaa, ...\n",
        "```\n",
        "```\n",
        "ya{3}        # ya에서 a가 3회 반복. yaaa\n",
        "```\n",
        "```\n",
        "ya{3,5}      # ya에서 a가 3회 이상 5회 이하 반복. yaaa, yaaaa, yaaaaa\n",
        "```\n",
        "```\n",
        "ab|c|def   # ab 혹은 c 혹은 def\n",
        "```\n",
        "```\n",
        "가.다         # .은 모든 문자와 매치. 가나다, 가a다, 가!다, 가0다, 가\\t다, ...\n",
        "```\n",
        "---\n",
        "```\n",
        "^\\d[a-z]     # 문자열의 맨 첫 두 문자가 숫자와 소문자 알파벳의 연쇄. 1z,2x87384, 3t가나다라, 0r!>hi, ...\n",
        "```\n",
        "```\n",
        "\\d[a-z]$     # 문자열의 맨 끝 두 문자가 숫자와 소문자 알파벳의 연쇄. 873841z, 가나다라3t, !>hi0r, ...\n",
        "```\n",
        "```\n",
        "^\\d[a-z]$    # 문자열이 숫자로 시작해서 소문자 알파벳으로 끝남. 1z, 3t, 0r, ...\n",
        "```\n",
        "```\n",
        "[wW]hy\\?     # 메타 문자로서의 ?가 아닌 문장부호로서의 ?를 검색하고 싶을 경우 백슬래시로 escape. Why?, why?\n",
        "```\n"
      ]
    },
    {
      "cell_type": "markdown",
      "source": [
        "###주의할 것\n",
        "\n",
        "정규표현식으로 문자열을 찾을 때에는 문자열의 왼쪽부터 찾으며, 일치하는 가장 긴 문자열이 선택됩니다."
      ],
      "metadata": {
        "id": "Nn4bn1q9un3o"
      }
    },
    {
      "cell_type": "code",
      "source": [
        "a=re.search('[1-3]+','12322hihihi1231231222')\n",
        "print(a)"
      ],
      "metadata": {
        "id": "_SxczT5RvEFW"
      },
      "execution_count": null,
      "outputs": []
    },
    {
      "cell_type": "markdown",
      "metadata": {
        "id": "wbvgzy3AUDjW"
      },
      "source": [
        "### re.compile"
      ]
    },
    {
      "cell_type": "markdown",
      "metadata": {
        "id": "dVzq8PEzUHJx"
      },
      "source": [
        "정규식 패턴을 정규식 객체로 컴파일합니다. 정규식 객체는 아래에 설명되는 match(), search() 및 기타 메서드를 일치시키는 데 사용할 수 있습니다.\n",
        "정규식이 단일 프로그램에서 여러 번 사용될 때, re.compile()을 사용하고 결과 정규식 객체를 저장하여 재사용하는 것이 더 효율적입니다."
      ]
    },
    {
      "cell_type": "code",
      "execution_count": null,
      "metadata": {
        "id": "fcDYPh-kUUpF"
      },
      "outputs": [],
      "source": [
        "# patt = re.compile(pattern)\n",
        "# result = patt.match(string)"
      ]
    },
    {
      "cell_type": "code",
      "execution_count": null,
      "metadata": {
        "id": "EWe3Y7OlUYHk"
      },
      "outputs": [],
      "source": [
        "# result = re.match(patt, string)"
      ]
    },
    {
      "cell_type": "code",
      "source": [
        "patt = re.compile('[abc]')\n",
        "result = patt.match('a')\n",
        "print(result)"
      ],
      "metadata": {
        "id": "6CN-mMQDtRnY"
      },
      "execution_count": null,
      "outputs": []
    },
    {
      "cell_type": "code",
      "source": [
        "result = re.match(patt, 'b123')\n",
        "print(result)"
      ],
      "metadata": {
        "id": "3qwDiRxNtRZ1"
      },
      "execution_count": null,
      "outputs": []
    },
    {
      "cell_type": "markdown",
      "metadata": {
        "id": "T79YU9yg6GD0"
      },
      "source": [
        "###re.match"
      ]
    },
    {
      "cell_type": "markdown",
      "metadata": {
        "id": "VK33mhgCatLw"
      },
      "source": [
        "re.match는 문자열의 시작부터 정규식과 일치하는 부분을 찾아냅니다. 결과로 Match object를 반환하기 때문에 문자열로 쓸 때는 group() 메소드를 써줍니다."
      ]
    },
    {
      "cell_type": "code",
      "execution_count": null,
      "metadata": {
        "id": "nIW4Z8KyVkJn"
      },
      "outputs": [],
      "source": [
        "p = re.compile(\"[a-zA-Z]+\") # alphabet 1회 이상 반복"
      ]
    },
    {
      "cell_type": "code",
      "execution_count": null,
      "metadata": {
        "id": "Z5kAA5WCZ9sS"
      },
      "outputs": [],
      "source": [
        "# search success\n",
        "m1 = p.match(\"Hello!\")\n",
        "print(m1)"
      ]
    },
    {
      "cell_type": "code",
      "execution_count": null,
      "metadata": {
        "id": "EmVMkfDMK84C"
      },
      "outputs": [],
      "source": [
        "m1 = p.match(\"Hiiiii\")\n",
        "if m1:\n",
        "  print(f\"서치 성공: {m1.group()}, {m1.start()}, {m1.end()}, {m1.span()} \")\n",
        "else:\n",
        "  print(f\"서치 실패: {m1}\")"
      ]
    },
    {
      "cell_type": "code",
      "execution_count": null,
      "metadata": {
        "id": "-ttIye03VsJK"
      },
      "outputs": [],
      "source": [
        "# search failure\n",
        "m2 = p.match(\"2022 hello!\")\n",
        "if m2:\n",
        "  print(f\"서치 성공: {m2.group()}, {m2.start()}, {m2.end()}, {m2.span()} \")\n",
        "else:\n",
        "  print(f\"서치 실패: {m2}\")"
      ]
    },
    {
      "cell_type": "markdown",
      "metadata": {
        "id": "kORSpNNm49DP"
      },
      "source": [
        "### re.search"
      ]
    },
    {
      "cell_type": "markdown",
      "metadata": {
        "id": "3TIBNOeMabtX"
      },
      "source": [
        "re.search는 문자열 전체를 검색하여 정규식과 일치하는 부분을 찾아냅니다. 결과로 Match object를 반환하기 때문에 문자열로 쓸 때는 group() 메소드를 써줍니다."
      ]
    },
    {
      "cell_type": "code",
      "execution_count": null,
      "metadata": {
        "id": "93OduvnmCXaJ"
      },
      "outputs": [],
      "source": [
        "p = re.compile(\"\\w+\") # alpha-numeric 1회 이상 반복\n",
        "m = p.search(\"cat\")\n",
        "print('m:',m)\n",
        "print()\n",
        "print('m.group():',m.group())"
      ]
    },
    {
      "cell_type": "code",
      "source": [
        "p = re.compile(\"\\w+\") # alpha-numeric 1회 이상 반복\n",
        "m = p.search(\"     cat\")\n",
        "print('m:',m)\n",
        "print()\n",
        "print('m.group():',m.group())"
      ],
      "metadata": {
        "id": "IW-FwCPyxuBS"
      },
      "execution_count": null,
      "outputs": []
    },
    {
      "cell_type": "code",
      "execution_count": null,
      "metadata": {
        "id": "dbjgmv0QXAZ4"
      },
      "outputs": [],
      "source": [
        "p = re.compile(\"@\\w+\\.com\") # email 주소 @ 이하 구하기"
      ]
    },
    {
      "cell_type": "code",
      "execution_count": null,
      "metadata": {
        "id": "22fNHXS4Zxqt"
      },
      "outputs": [],
      "source": [
        "# search success\n",
        "m1 = p.search(\"aaa@google.com\")\n",
        "if m1:\n",
        "  print(f\"서치 성공: {m1.group()}, {m1.start()}, {m1.end()}, {m1.span()} \")\n",
        "else:\n",
        "  print(f\"서치 실패: {m1}\")\n"
      ]
    },
    {
      "cell_type": "code",
      "execution_count": null,
      "metadata": {
        "id": "O9m3Xc2sZxYJ"
      },
      "outputs": [],
      "source": [
        "# search failure\n",
        "m2 = p.search(\"aaa@hanmail.net\")\n",
        "if m2:\n",
        "    print(f\"서치 성공: {m2.group()}, {m2.start()}, {m2.end()}, {m2.span()} \")\n",
        "else:\n",
        "  print(f\"서치 실패: {m2}\")"
      ]
    },
    {
      "cell_type": "code",
      "source": [
        "# search success\n",
        "m2 = p.search(\"aaa@123google.com\")\n",
        "if m2:\n",
        "    print(f\"서치 성공: {m2.group()}, {m2.start()}, {m2.end()}, {m2.span()} \")\n",
        "else:\n",
        "  print(f\"서치 실패: {m2}\")"
      ],
      "metadata": {
        "id": "EVC6-mq8wH1N"
      },
      "execution_count": null,
      "outputs": []
    },
    {
      "cell_type": "code",
      "source": [
        "# search failure\n",
        "m2 = p.search(\"aaa@ google.com\")\n",
        "if m2:\n",
        "    print(f\"서치 성공: {m2.group()}, {m2.start()}, {m2.end()}, {m2.span()} \")\n",
        "else:\n",
        "  print(f\"서치 실패: {m2}\")"
      ],
      "metadata": {
        "id": "nCCVUVSCwHvG"
      },
      "execution_count": null,
      "outputs": []
    },
    {
      "cell_type": "markdown",
      "metadata": {
        "id": "V-lZW0Jx6Hy3"
      },
      "source": [
        "###re.findall"
      ]
    },
    {
      "cell_type": "markdown",
      "metadata": {
        "id": "OA1YDjf-a_ii"
      },
      "source": [
        "re.findall은 문자열 전체를 검색하여 정규식과 일치하는 부분 전체를 리스트로 반환합니다."
      ]
    },
    {
      "cell_type": "code",
      "execution_count": null,
      "metadata": {
        "id": "jM8i3AGBbHqm"
      },
      "outputs": [],
      "source": [
        "p = re.compile(\"하세요|하지요|싶어요\")"
      ]
    },
    {
      "cell_type": "code",
      "execution_count": null,
      "metadata": {
        "id": "0nyrgNgub-dI"
      },
      "outputs": [],
      "source": [
        "result = p.findall(\"안녕하세요. 제 소개부터 드리도록 하지요. 저는 의미있는 일을 하고 싶어요. 건강하세요.\")\n",
        "print(result)"
      ]
    },
    {
      "cell_type": "markdown",
      "metadata": {
        "id": "pzyqe2Hb6Ju7"
      },
      "source": [
        "###re.finditer"
      ]
    },
    {
      "cell_type": "markdown",
      "metadata": {
        "id": "khuxCVcPd0VK"
      },
      "source": [
        "re.finditer는 문자열 전체를 검색하여 정규식과 일치하는 부분을 반복 가능한 객체(match 객체)로 돌려줍니다."
      ]
    },
    {
      "cell_type": "code",
      "execution_count": null,
      "metadata": {
        "id": "-l3JrGxCL9hc"
      },
      "outputs": [],
      "source": [
        "p = re.compile(\"하세요|하지요|싶어요\")         "
      ]
    },
    {
      "cell_type": "code",
      "execution_count": null,
      "metadata": {
        "id": "ma6mk-kdL9hh"
      },
      "outputs": [],
      "source": [
        "result = p.finditer(\"안녕하세요. 제 소개부터 드리도록 하지요. 저는 의미있는 일을 하고 싶어요. 건강하세요.\")\n",
        "print(result)"
      ]
    },
    {
      "cell_type": "code",
      "execution_count": null,
      "metadata": {
        "id": "oH0jDuj0dV0i"
      },
      "outputs": [],
      "source": [
        "result = p.finditer(\"안녕하세요. 제 소개부터 드리도록 하지요. 저는 의미있는 일을 하고 싶어요. 건강하세요.\")\n",
        "for r in result: \n",
        "  print(r)\n",
        "  print(r.group())"
      ]
    },
    {
      "cell_type": "markdown",
      "metadata": {
        "id": "YFJ1ciEmbQl-"
      },
      "source": [
        "###re.sub"
      ]
    },
    {
      "cell_type": "markdown",
      "metadata": {
        "id": "AUEMiv9SbT8g"
      },
      "source": [
        "re.sub은 정규식과 일치하는 부분을 다른 문자열로 치환합니다."
      ]
    },
    {
      "cell_type": "code",
      "source": [
        "p = re.compile(\"ab+\")\n",
        "result = p.sub(\"0\", \"ab~~~abb~~~abbbbb~~~\")\n",
        "print(result)"
      ],
      "metadata": {
        "id": "PJ8B4-eIyPnY"
      },
      "execution_count": null,
      "outputs": []
    },
    {
      "cell_type": "code",
      "source": [
        "p = re.compile(\"[^ab]+\")\n",
        "result = p.sub(\"0\", \"ab~~~abb~~~abbbbb~~~\")\n",
        "print(result)"
      ],
      "metadata": {
        "id": "_eTAueHFPeCb"
      },
      "execution_count": null,
      "outputs": []
    },
    {
      "cell_type": "markdown",
      "metadata": {
        "id": "ywTGpydpfsgP"
      },
      "source": [
        "###Grouping"
      ]
    },
    {
      "cell_type": "markdown",
      "metadata": {
        "id": "knvgZb3bfvEP"
      },
      "source": [
        "그루핑 메타 기호 ( )를 잘 활용하면, match 객체의 group 인덱스로 그루핑된 부분의 문자열을 추출할 수 있습니다."
      ]
    },
    {
      "cell_type": "code",
      "source": [
        "print('without grouping')\n",
        "p = re.compile(\"\\w+\\s[0-9]+\")\n",
        "m = p.findall(\"park 01012341234\")\n",
        "print(m)\n",
        "\n",
        "print()\n",
        "print('with grouping')\n",
        "p = re.compile(\"(\\w+)\\s[0-9]\")\n",
        "m = p.findall(\"park 01012341234\")\n",
        "print(m)\n"
      ],
      "metadata": {
        "id": "XeIZLaXBG1jM"
      },
      "execution_count": null,
      "outputs": []
    },
    {
      "cell_type": "code",
      "execution_count": null,
      "metadata": {
        "id": "9a5asANEfcfH"
      },
      "outputs": [],
      "source": [
        "p = re.compile(\"(\\w+)\\s+(\\d+[-]\\d+[-]\\d+)\")\n",
        "m = p.search(\"park    010-1234-1234\")\n",
        "print(m.group(0)) #매치된 문자 전체\n",
        "print(m.group(1)) #첫번째 괄호 안의 문자\n",
        "print(m.group(2)) #두번째 괄호 안의 문자\n"
      ]
    },
    {
      "cell_type": "markdown",
      "metadata": {
        "id": "pXI2GyJSh0rY"
      },
      "source": [
        "###Look-ahead"
      ]
    },
    {
      "cell_type": "markdown",
      "metadata": {
        "id": "hy0yDZAjlNLt"
      },
      "source": [
        "전방 탐색(look-ahead)은 찾아내고자 하는 문자열의 패턴의 전방에 특정 조건을 걸고 싶을 때 사용합니다. \n",
        "\n",
        "전방에 X가 매치되는 조건을 걸고 싶을 때는 (?=X)\n",
        "\n",
        "전방에 X가 매치되지 않는 조건을 걸고 싶을 때는 (?!X)"
      ]
    },
    {
      "cell_type": "code",
      "execution_count": null,
      "metadata": {
        "id": "ZOdw8CwciHDK"
      },
      "outputs": [],
      "source": [
        "p = re.compile(\".+(?=:)\")\n",
        "result = p.search(\"http://google.com\").group()\n",
        "print(result)"
      ]
    },
    {
      "cell_type": "code",
      "execution_count": null,
      "metadata": {
        "id": "gp_2swx8jW6n"
      },
      "outputs": [],
      "source": [
        "p = re.compile(\"[a-z]+(?![0-9])\")\n",
        "result = p.search(\"hello2022!\").group()\n",
        "print(result)"
      ]
    },
    {
      "cell_type": "markdown",
      "metadata": {
        "id": "YX5_fQENk1ot"
      },
      "source": [
        "###Look-behind"
      ]
    },
    {
      "cell_type": "markdown",
      "metadata": {
        "id": "6Z6MFQrDl3Yw"
      },
      "source": [
        "후방 탐색(look-behind)은 찾아내고자 하는 문자열의 패턴의 후방에 특정 조건을 걸고 싶을 때 사용합니다. \n",
        "\n",
        "후방에 X가 매치되는 조건을 걸고 싶을 때는 (?<=X)\n",
        "\n",
        "후방에 X가 매치되지 않는 조건을 걸고 싶을 때는 (?<!X)"
      ]
    },
    {
      "cell_type": "code",
      "execution_count": null,
      "metadata": {
        "id": "PitNJhP8jKXx"
      },
      "outputs": [],
      "source": [
        "p = re.compile(\"(?<=://).+\")\n",
        "result = p.search(\"http://google.com\").group()\n",
        "print(result)"
      ]
    },
    {
      "cell_type": "code",
      "execution_count": null,
      "metadata": {
        "id": "JwNVRYJuk4EC"
      },
      "outputs": [],
      "source": [
        "p = re.compile(\"(?<![a-z])\\d+\")\n",
        "result = p.search(\"hello2022!\").group()\n",
        "print(result)"
      ]
    },
    {
      "cell_type": "markdown",
      "metadata": {
        "id": "PANWK0-JRGKI"
      },
      "source": [
        "###최소 문자 매치하기\n",
        "\n"
      ]
    },
    {
      "cell_type": "markdown",
      "metadata": {
        "id": "3NGk7B3_RGKQ"
      },
      "source": [
        "정규표현식에서 말하는 탐욕스럽다(greedy) : 문자를 집어 삼킨다\n",
        "- 마침표는 모든 문자를 다 의미하기 때문에 반복하면 모든 문자를 집어삼키는 특성이 있다\n",
        "\n",
        "물음표를 삽입하여 최소 문자 매치를 구한다."
      ]
    },
    {
      "cell_type": "code",
      "execution_count": null,
      "metadata": {
        "id": "8wzmwBfQRGKR"
      },
      "outputs": [],
      "source": [
        "#greedy\n",
        "example1 = '저는 91년에 태어났습니다. 97년에는 IMF가 있었습니다. 지금은 2020년입니다.'\n",
        "p = re.compile(\"\\d.+년\")\n",
        "result =p.findall(example1)\n",
        "print(result) #문장 맨 앞의 숫자부터 맨 뒤의 '년' 사이 모든 문자를 반환한다"
      ]
    },
    {
      "cell_type": "code",
      "source": [
        "#non-greedy\n",
        "example1 = '저는 91년에 태어났습니다. 97년에는 IMF가 있었습니다. 지금은 2020년입니다.'\n",
        "p = re.compile(\"\\d.+?년\")\n",
        "result =p.findall(example1)\n",
        "print(result)"
      ],
      "metadata": {
        "id": "aJ78FTg-TSE1"
      },
      "execution_count": null,
      "outputs": []
    },
    {
      "cell_type": "markdown",
      "source": [
        "###자유롭게 연습하기"
      ],
      "metadata": {
        "id": "ItK7_R5T3zPs"
      }
    },
    {
      "cell_type": "code",
      "source": [],
      "metadata": {
        "id": "8Jx-WchT34Sk"
      },
      "execution_count": null,
      "outputs": []
    },
    {
      "cell_type": "code",
      "source": [],
      "metadata": {
        "id": "-teoshYw34Pg"
      },
      "execution_count": null,
      "outputs": []
    },
    {
      "cell_type": "code",
      "source": [],
      "metadata": {
        "id": "-SI81CD731eJ"
      },
      "execution_count": null,
      "outputs": []
    },
    {
      "cell_type": "markdown",
      "source": [
        "## 정규표현 실습"
      ],
      "metadata": {
        "id": "bkbQBvEFe_0C"
      }
    },
    {
      "cell_type": "code",
      "source": [],
      "metadata": {
        "id": "bd-fuXbrnQFY"
      },
      "execution_count": null,
      "outputs": []
    },
    {
      "cell_type": "markdown",
      "source": [
        "### 문제 1-1\n",
        "\n",
        "크롤링해온 텍스트의 태그 지우기"
      ],
      "metadata": {
        "id": "oj8vtmIoIUeX"
      }
    },
    {
      "cell_type": "code",
      "source": [
        "f = open(\"/content/Q1.txt\", 'r')\n",
        "text = f.read()"
      ],
      "metadata": {
        "id": "vlbAiD2zKwO8"
      },
      "execution_count": null,
      "outputs": []
    },
    {
      "cell_type": "code",
      "source": [
        "print(text)"
      ],
      "metadata": {
        "id": "cZhEw0WEKwO-"
      },
      "execution_count": null,
      "outputs": []
    },
    {
      "cell_type": "code",
      "source": [
        "new_text= #코드를 작성하세요\n",
        "print(new_text)"
      ],
      "metadata": {
        "colab": {
          "base_uri": "https://localhost:8080/"
        },
        "outputId": "4c56ea28-bdaa-4ee2-e92f-f5281d5d909c",
        "id": "3BbKDKCG316r"
      },
      "execution_count": null,
      "outputs": [
        {
          "output_type": "stream",
          "name": "stdout",
          "text": [
            "이른 아침 문을 여는 빵집입니다. 아침식사로 빵을 사러 가기엔 좋지만 매장안에서 드실 공간은 없어요. 이 빵집은 특이하게도 물 또는 커피를 무료로 텀블러에 담아갈수 있습니다.  가볍게 아침을 해결하고자 하는 여행자나 현지인은 들러보면 좋을 장소입니다.  참고로, 식빵 나오는 시간은 오전11시~12시 입니다. 빵 가격은 가성비 괜찮은 편이고 맛은 무난합니다. 우연히 들어갔는데 사장님이 따뜻하고 친절하셔서 제주도 이미지마저 좋게 느껴졌어요. 그리고 무엇보다 빵이 정말 맛있어요. 제주도에서 원탑입니다!!! 여기보다 두배는 ...내용 더보기맛집검색하다가 스쳐지나갔는데 숙소근처에 있길래 들렸어요!!  시식하는빵도 있고  빵구매하는데 서비스로 흰색찹살떡??도 주시고 친절하세요! 인절미빵 강추입니다!  ...내용 더보기인절미빵. 먹물치즈빵? 제일 맛있었고 대파빵은 삼겹살을 부르는 꽤 매운 맛이었어요! 빵이 대체로 다~~~~맛있고 친절하십니다 주차는 근처 공영주차장에 하면 됩니다 다...내용 더보기사진을 제대로 못찍엇는데 뒤에 비닐로 싸진 빵들이에요 ㅋㅋㅋ  여기 진짜 촤고에요 보니 동네찐로컬맛집같아요 빵종류도 많고 각 빵마다 시식빵이 있는데 크기가 넘 커서...내용 더보기성산 여행하는 동안 두번이나 방문했어요 빵도 특색있고 하나하나 다 맛있고 사장님도 직원분도 친절하시고  커피도 무료로 먹을수 있게 해주시고 살때마다 서비스빵을 주...내용 더보기사장님 너무 친절하시고 빵이 진짜 맛있어요.. 미친 맛,,,,🥹가격이 타 빵집보다 훠얼씬 저렴한데  맛이 훠얼씬 맛있네요,,,??!?! 저희 동네에 있었음 매일 가고싶네요ㅠㅠㅠ …내용 더보기재료를 아끼지 않으세요 눚은시간 방문했는데도 손님들이 꽤 왔어요 마늘바게트에는 소스를 아끼지 않았고 다른빵들도 크림이 듬뿍 들어 있었어요 서비스도 주시고 시식…내용 더보기\n"
          ]
        }
      ]
    },
    {
      "cell_type": "markdown",
      "source": [
        "### 문제 1-2\n",
        "\n",
        "정제한 텍스트에서 '내용 더보기' 지우고 한글과 공백문자만 남기기"
      ],
      "metadata": {
        "id": "1o-QBRgTNZPp"
      }
    },
    {
      "cell_type": "code",
      "source": [
        "e_text= #코드를 작성하세요\n",
        "print(e_text)"
      ],
      "metadata": {
        "colab": {
          "base_uri": "https://localhost:8080/"
        },
        "id": "28nR8SJeM-57",
        "outputId": "6656222e-ba51-4ab0-8b44-fd8375c8d81f"
      },
      "execution_count": null,
      "outputs": [
        {
          "output_type": "stream",
          "name": "stdout",
          "text": [
            "이른 아침 문을 여는 빵집입니다 아침식사로 빵을 사러 가기엔 좋지만 매장안에서 드실 공간은 없어요 이 빵집은 특이하게도 물 또는 커피를 무료로 텀블러에 담아갈수 있습니다  가볍게 아침을 해결하고자 하는 여행자나 현지인은 들러보면 좋을 장소입니다  참고로 식빵 나오는 시간은 오전시시 입니다 빵 가격은 가성비 괜찮은 편이고 맛은 무난합니다 우연히 들어갔는데 사장님이 따뜻하고 친절하셔서 제주도 이미지마저 좋게 느껴졌어요 그리고 무엇보다 빵이 정말 맛있어요 제주도에서 원탑입니다 여기보다 두배는 맛집검색하다가 스쳐지나갔는데 숙소근처에 있길래 들렸어요  시식하는빵도 있고  빵구매하는데 서비스로 흰색찹살떡도 주시고 친절하세요 인절미빵 강추입니다  인절미빵 먹물치즈빵 제일 맛있었고 대파빵은 삼겹살을 부르는 꽤 매운 맛이었어요 빵이 대체로 다맛있고 친절하십니다 주차는 근처 공영주차장에 하면 됩니다 다사진을 제대로 못찍엇는데 뒤에 비닐로 싸진 빵들이에요   여기 진짜 촤고에요 보니 동네찐로컬맛집같아요 빵종류도 많고 각 빵마다 시식빵이 있는데 크기가 넘 커서성산 여행하는 동안 두번이나 방문했어요 빵도 특색있고 하나하나 다 맛있고 사장님도 직원분도 친절하시고  커피도 무료로 먹을수 있게 해주시고 살때마다 서비스빵을 주사장님 너무 친절하시고 빵이 진짜 맛있어요 미친 맛가격이 타 빵집보다 훠얼씬 저렴한데  맛이 훠얼씬 맛있네요 저희 동네에 있었음 매일 가고싶네요 재료를 아끼지 않으세요 눚은시간 방문했는데도 손님들이 꽤 왔어요 마늘바게트에는 소스를 아끼지 않았고 다른빵들도 크림이 듬뿍 들어 있었어요 서비스도 주시고 시식\n"
          ]
        }
      ]
    },
    {
      "cell_type": "markdown",
      "source": [
        "### 문제 2-1\n",
        "\n",
        "data.txt에서 역 이름 (이대역,신촌역,여의도역 등)  추출하기\n",
        "\n",
        "\n",
        "<font color=red> 역명을 직접 검색하지 않고 정규표현으로 찾기"
      ],
      "metadata": {
        "id": "CstzXUUM6isW"
      }
    },
    {
      "cell_type": "code",
      "source": [
        "f = open(\"/content/Q2.txt\", 'r')\n",
        "text = f.read()"
      ],
      "metadata": {
        "id": "xHBfae6U36bM"
      },
      "execution_count": null,
      "outputs": []
    },
    {
      "cell_type": "code",
      "source": [
        "print(text)"
      ],
      "metadata": {
        "colab": {
          "base_uri": "https://localhost:8080/"
        },
        "id": "Dmin9Zha6KjY",
        "outputId": "96359ce9-ca80-4197-e5ed-4aad4e959b42"
      },
      "execution_count": null,
      "outputs": [
        {
          "output_type": "stream",
          "name": "stdout",
          "text": [
            "이대역 근처 카페 좀 알려줘.\n",
            "이대역 맛집 좀 알려줄 수 있니.\n",
            "여의도역 주변 식당 좀 알려줘.\n",
            "여의도역 유명한 맛집 좀 알려줄 수 있니.\n",
            "신촌역 괜찮은 식당 어떤 거 있니?\n",
            "신촌역 카페 어디 있어?\n",
            "안양역 주변 식당 어떤 데가 좋아?\n",
            "안양역 근처에 카페 어떤 거 있는지 알려줄 수 있니?\n",
            "홍대역 맛집 어디 있어?\n",
            "홍대역 카페 어디가 괜찮아?\n",
            "동대문역 주변 음식점 좀 알려줘.\n",
            "동대문역 주변 카페 좀 알려주라.\n"
          ]
        }
      ]
    },
    {
      "cell_type": "code",
      "source": [
        "#answer\n",
        "p = re.compile( #컴파일할 패턴\n",
        "result = #코드를 작성하세요\n",
        "print(set(result))"
      ],
      "metadata": {
        "colab": {
          "base_uri": "https://localhost:8080/"
        },
        "id": "vdsH0QynRrc3",
        "outputId": "7d1a0531-837f-4759-e48b-b4f2430657f2"
      },
      "execution_count": null,
      "outputs": [
        {
          "output_type": "stream",
          "name": "stdout",
          "text": [
            "{'신촌역', '이대역', '동대문역', '홍대역', '안양역', '여의도역'}\n"
          ]
        }
      ]
    },
    {
      "cell_type": "markdown",
      "source": [
        "### 문제 2-2\n",
        "\n",
        "('어디 있어?', '어디 있어?', '좀 알려줘.') 등 묻는 부분 추출하기"
      ],
      "metadata": {
        "id": "qNZKTIwU_alb"
      }
    },
    {
      "cell_type": "code",
      "source": [
        "#answer\n",
        "p = re.compile( #컴파일할 패턴\n",
        "result = #코드를 작성하세요\n",
        "print(result)"
      ],
      "metadata": {
        "colab": {
          "base_uri": "https://localhost:8080/"
        },
        "id": "3Ws7Z7qVhHhl",
        "outputId": "564baffa-99a1-42a5-ccb8-cbbe3894bc43"
      },
      "execution_count": null,
      "outputs": [
        {
          "output_type": "stream",
          "name": "stdout",
          "text": [
            "['좀 알려줘.', '좀 알려줄 수 있니.', '좀 알려줘.', '좀 알려줄 수 있니.', '어떤 거 있니?', '어디 있어?', '어떤 데가 좋아?', '어떤 거 있는지 알려줄 수 있니?', '어디 있어?', '어디가 괜찮아?', '좀 알려줘.', '좀 알려주라.']\n"
          ]
        }
      ]
    },
    {
      "cell_type": "markdown",
      "source": [
        "### 문제 2-3\n",
        "\n",
        "(근처 카페, 맛집, 주변 식당) 등 궁금한 부분 추출하기"
      ],
      "metadata": {
        "id": "LuSmTyXTi5Du"
      }
    },
    {
      "cell_type": "code",
      "source": [
        "#answer\n",
        "p = re.compile( #컴파일할 패턴\n",
        "result = #코드를 작성하세요\n",
        "print(result)"
      ],
      "metadata": {
        "colab": {
          "base_uri": "https://localhost:8080/"
        },
        "outputId": "6406df8d-5cc2-4617-d2ff-b75b6003e20a",
        "id": "Ezm1UyCai5Dv"
      },
      "execution_count": null,
      "outputs": [
        {
          "output_type": "stream",
          "name": "stdout",
          "text": [
            "['근처 카페', '맛집', '주변 식당', '유명한 맛집', '괜찮은 식당', '카페', '주변 식당', '근처에 카페', '맛집', '카페', '주변 음식점', '주변 카페']\n"
          ]
        }
      ]
    },
    {
      "cell_type": "markdown",
      "source": [
        "### 문제 2-4\n",
        "\n",
        "질문 바꾸기\n",
        " - 위에서 찾은 리스트를 토대로 질문 바꾸기"
      ],
      "metadata": {
        "id": "wBiHU6-03RcF"
      }
    },
    {
      "cell_type": "code",
      "source": [
        "#역 이름 바꾸기\n",
        "\n",
        "p = re.compile( #컴파일할 패턴\n",
        "result = #코드를 작성하세요\n",
        "print(result)"
      ],
      "metadata": {
        "colab": {
          "base_uri": "https://localhost:8080/"
        },
        "id": "ifw4aQlJXjKc",
        "outputId": "2247b6fc-0ee8-46ac-848a-5616eb270e0c"
      },
      "execution_count": null,
      "outputs": [
        {
          "output_type": "stream",
          "name": "stdout",
          "text": [
            "안암역 근처 카페 좀 알려줘.\n",
            "안암역 맛집 좀 알려줄 수 있니.\n",
            "안암역 주변 식당 좀 알려줘.\n",
            "안암역 유명한 맛집 좀 알려줄 수 있니.\n",
            "안암역 괜찮은 식당 어떤 거 있니?\n",
            "안암역 카페 어디 있어?\n",
            "안암역 주변 식당 어떤 데가 좋아?\n",
            "안암역 근처에 카페 어떤 거 있는지 알려줄 수 있니?\n",
            "안암역 맛집 어디 있어?\n",
            "안암역 카페 어디가 괜찮아?\n",
            "안암역 주변 음식점 좀 알려줘.\n",
            "안암역 주변 카페 좀 알려주라.\n"
          ]
        }
      ]
    },
    {
      "cell_type": "code",
      "source": [
        "#질문 바꾸기\n",
        "p = re.compile( #컴파일할 패턴\n",
        "result = #코드를 작성하세요\n",
        "print(result)"
      ],
      "metadata": {
        "colab": {
          "base_uri": "https://localhost:8080/"
        },
        "outputId": "6d07e9ae-bd64-4355-e0e8-0aa5f9859f59",
        "id": "dppwzNYAaFg1"
      },
      "execution_count": null,
      "outputs": [
        {
          "output_type": "stream",
          "name": "stdout",
          "text": [
            "이대역 근처 카페 알려주세요\n",
            "이대역 맛집 알려주세요\n",
            "여의도역 주변 식당 알려주세요\n",
            "여의도역 유명한 맛집 알려주세요\n",
            "신촌역 괜찮은 식당 알려주세요\n",
            "신촌역 카페 알려주세요\n",
            "안양역 주변 식당 알려주세요\n",
            "안양역 근처에 카페 알려주세요\n",
            "홍대역 맛집 알려주세요\n",
            "홍대역 카페 알려주세요\n",
            "동대문역 주변 음식점 알려주세요\n",
            "동대문역 주변 카페 알려주세요\n"
          ]
        }
      ]
    },
    {
      "cell_type": "code",
      "source": [
        "#질문 바꾸기2\n",
        "p = re.compile( #컴파일할 패턴\n",
        "result = #코드를 작성하세요\n",
        "print(result)"
      ],
      "metadata": {
        "colab": {
          "base_uri": "https://localhost:8080/"
        },
        "id": "RbYofFGEjY05",
        "outputId": "8e0b763b-066b-4477-ffcc-65a3ebbf80be"
      },
      "execution_count": null,
      "outputs": [
        {
          "output_type": "stream",
          "name": "stdout",
          "text": [
            "이대 레스토랑 좀 알려줘.\n",
            "이대 레스토랑 좀 알려줄 수 있니.\n",
            "여의도 레스토랑 좀 알려줘.\n",
            "여의도 레스토랑 좀 알려줄 수 있니.\n",
            "신촌 레스토랑 어떤 거 있니?\n",
            "신촌 레스토랑 어디 있어?\n",
            "안양 레스토랑 어떤 데가 좋아?\n",
            "안양 레스토랑 어떤 거 있는지 알려줄 수 있니?\n",
            "홍대 레스토랑 어디 있어?\n",
            "홍대 레스토랑 어디가 괜찮아?\n",
            "동대문 레스토랑 좀 알려줘.\n",
            "동대문 레스토랑 좀 알려주라.\n",
            "\n",
            "이대역 레스토랑 좀 알려줘.\n",
            "이대역 레스토랑 좀 알려줄 수 있니.\n",
            "여의도역 레스토랑 좀 알려줘.\n",
            "여의도역 레스토랑 좀 알려줄 수 있니.\n",
            "신촌역 레스토랑 어떤 거 있니?\n",
            "신촌역 레스토랑 어디 있어?\n",
            "안양역 레스토랑 어떤 데가 좋아?\n",
            "안양역 레스토랑 어떤 거 있는지 알려줄 수 있니?\n",
            "홍대역 레스토랑 어디 있어?\n",
            "홍대역 레스토랑 어디가 괜찮아?\n",
            "동대문역 레스토랑 좀 알려줘.\n",
            "동대문역 레스토랑 좀 알려주라.\n"
          ]
        }
      ]
    },
    {
      "cell_type": "markdown",
      "source": [
        "### 문제 2-5\n",
        "\n",
        "데이터 불리기\n",
        " - 위에서 찾은 리스트로 for loop을 사용하여 다양한 조합으로 데이터 불리기"
      ],
      "metadata": {
        "id": "NeDZ1brZhaMM"
      }
    },
    {
      "cell_type": "code",
      "source": [
        "#역 이름 조합\n",
        "\n",
        "p = re.compile( #컴파일할 패턴\n",
        "station = #코드를 작성하세요\n",
        "\n",
        "for one in station:\n",
        "  print(one,'--------')\n",
        "  result = #코드를 작성하세요\n",
        "  print(result)"
      ],
      "metadata": {
        "colab": {
          "base_uri": "https://localhost:8080/"
        },
        "id": "9zmlYlgvhcKk",
        "outputId": "af0d2d36-94ca-4995-c533-b3c4a5b7be9e"
      },
      "execution_count": null,
      "outputs": [
        {
          "output_type": "stream",
          "name": "stdout",
          "text": [
            "신촌역 --------\n",
            "신촌역 근처 카페 좀 알려줘.\n",
            "신촌역 맛집 좀 알려줄 수 있니.\n",
            "신촌역 주변 식당 좀 알려줘.\n",
            "신촌역 유명한 맛집 좀 알려줄 수 있니.\n",
            "신촌역 괜찮은 식당 어떤 거 있니?\n",
            "신촌역 카페 어디 있어?\n",
            "신촌역 주변 식당 어떤 데가 좋아?\n",
            "신촌역 근처에 카페 어떤 거 있는지 알려줄 수 있니?\n",
            "신촌역 맛집 어디 있어?\n",
            "신촌역 카페 어디가 괜찮아?\n",
            "신촌역 주변 음식점 좀 알려줘.\n",
            "신촌역 주변 카페 좀 알려주라.\n",
            "이대역 --------\n",
            "이대역 근처 카페 좀 알려줘.\n",
            "이대역 맛집 좀 알려줄 수 있니.\n",
            "이대역 주변 식당 좀 알려줘.\n",
            "이대역 유명한 맛집 좀 알려줄 수 있니.\n",
            "이대역 괜찮은 식당 어떤 거 있니?\n",
            "이대역 카페 어디 있어?\n",
            "이대역 주변 식당 어떤 데가 좋아?\n",
            "이대역 근처에 카페 어떤 거 있는지 알려줄 수 있니?\n",
            "이대역 맛집 어디 있어?\n",
            "이대역 카페 어디가 괜찮아?\n",
            "이대역 주변 음식점 좀 알려줘.\n",
            "이대역 주변 카페 좀 알려주라.\n",
            "동대문역 --------\n",
            "동대문역 근처 카페 좀 알려줘.\n",
            "동대문역 맛집 좀 알려줄 수 있니.\n",
            "동대문역 주변 식당 좀 알려줘.\n",
            "동대문역 유명한 맛집 좀 알려줄 수 있니.\n",
            "동대문역 괜찮은 식당 어떤 거 있니?\n",
            "동대문역 카페 어디 있어?\n",
            "동대문역 주변 식당 어떤 데가 좋아?\n",
            "동대문역 근처에 카페 어떤 거 있는지 알려줄 수 있니?\n",
            "동대문역 맛집 어디 있어?\n",
            "동대문역 카페 어디가 괜찮아?\n",
            "동대문역 주변 음식점 좀 알려줘.\n",
            "동대문역 주변 카페 좀 알려주라.\n",
            "홍대역 --------\n",
            "홍대역 근처 카페 좀 알려줘.\n",
            "홍대역 맛집 좀 알려줄 수 있니.\n",
            "홍대역 주변 식당 좀 알려줘.\n",
            "홍대역 유명한 맛집 좀 알려줄 수 있니.\n",
            "홍대역 괜찮은 식당 어떤 거 있니?\n",
            "홍대역 카페 어디 있어?\n",
            "홍대역 주변 식당 어떤 데가 좋아?\n",
            "홍대역 근처에 카페 어떤 거 있는지 알려줄 수 있니?\n",
            "홍대역 맛집 어디 있어?\n",
            "홍대역 카페 어디가 괜찮아?\n",
            "홍대역 주변 음식점 좀 알려줘.\n",
            "홍대역 주변 카페 좀 알려주라.\n",
            "안양역 --------\n",
            "안양역 근처 카페 좀 알려줘.\n",
            "안양역 맛집 좀 알려줄 수 있니.\n",
            "안양역 주변 식당 좀 알려줘.\n",
            "안양역 유명한 맛집 좀 알려줄 수 있니.\n",
            "안양역 괜찮은 식당 어떤 거 있니?\n",
            "안양역 카페 어디 있어?\n",
            "안양역 주변 식당 어떤 데가 좋아?\n",
            "안양역 근처에 카페 어떤 거 있는지 알려줄 수 있니?\n",
            "안양역 맛집 어디 있어?\n",
            "안양역 카페 어디가 괜찮아?\n",
            "안양역 주변 음식점 좀 알려줘.\n",
            "안양역 주변 카페 좀 알려주라.\n",
            "여의도역 --------\n",
            "여의도역 근처 카페 좀 알려줘.\n",
            "여의도역 맛집 좀 알려줄 수 있니.\n",
            "여의도역 주변 식당 좀 알려줘.\n",
            "여의도역 유명한 맛집 좀 알려줄 수 있니.\n",
            "여의도역 괜찮은 식당 어떤 거 있니?\n",
            "여의도역 카페 어디 있어?\n",
            "여의도역 주변 식당 어떤 데가 좋아?\n",
            "여의도역 근처에 카페 어떤 거 있는지 알려줄 수 있니?\n",
            "여의도역 맛집 어디 있어?\n",
            "여의도역 카페 어디가 괜찮아?\n",
            "여의도역 주변 음식점 좀 알려줘.\n",
            "여의도역 주변 카페 좀 알려주라.\n"
          ]
        }
      ]
    },
    {
      "cell_type": "code",
      "source": [
        "#다양한 조합으로 \n",
        "p = re.compile( #컴파일할 패턴\n",
        "only_r = #코드를 작성하세요\n",
        "\n",
        "for one in only_r:\n",
        "  print(one,'--------')\n",
        "  result = #코드를 작성하세요\n",
        "  print(result)"
      ],
      "metadata": {
        "colab": {
          "base_uri": "https://localhost:8080/"
        },
        "id": "aDael2yDd4OU",
        "outputId": "e58bf39b-deba-45fa-c105-ca2f195c74cb"
      },
      "execution_count": null,
      "outputs": [
        {
          "output_type": "stream",
          "name": "stdout",
          "text": [
            "{'좀 알려줄 수 있니.', '어디 있어?', '좀 알려주라.', '어떤 거 있니?', '어떤 거 있는지 알려줄 수 있니?', '좀 알려줘.', '어디가 괜찮아?', '어떤 데가 좋아?'}\n",
            "\n",
            "좀 알려줄 수 있니. --------\n",
            "이대역 근처 카페 좀 알려줄 수 있니.\n",
            "이대역 맛집 좀 알려줄 수 있니.\n",
            "여의도역 주변 식당 좀 알려줄 수 있니.\n",
            "여의도역 유명한 맛집 좀 알려줄 수 있니.\n",
            "신촌역 괜찮은 식당 좀 알려줄 수 있니.\n",
            "신촌역 카페 좀 알려줄 수 있니.\n",
            "안양역 주변 식당 좀 알려줄 수 있니.\n",
            "안양역 근처에 카페 좀 알려줄 수 있니.\n",
            "홍대역 맛집 좀 알려줄 수 있니.\n",
            "홍대역 카페 좀 알려줄 수 있니.\n",
            "동대문역 주변 음식점 좀 알려줄 수 있니.\n",
            "동대문역 주변 카페 좀 알려줄 수 있니.\n",
            "어디 있어? --------\n",
            "이대역 근처 카페 어디 있어?\n",
            "이대역 맛집 어디 있어?\n",
            "여의도역 주변 식당 어디 있어?\n",
            "여의도역 유명한 맛집 어디 있어?\n",
            "신촌역 괜찮은 식당 어디 있어?\n",
            "신촌역 카페 어디 있어?\n",
            "안양역 주변 식당 어디 있어?\n",
            "안양역 근처에 카페 어디 있어?\n",
            "홍대역 맛집 어디 있어?\n",
            "홍대역 카페 어디 있어?\n",
            "동대문역 주변 음식점 어디 있어?\n",
            "동대문역 주변 카페 어디 있어?\n",
            "좀 알려주라. --------\n",
            "이대역 근처 카페 좀 알려주라.\n",
            "이대역 맛집 좀 알려주라.\n",
            "여의도역 주변 식당 좀 알려주라.\n",
            "여의도역 유명한 맛집 좀 알려주라.\n",
            "신촌역 괜찮은 식당 좀 알려주라.\n",
            "신촌역 카페 좀 알려주라.\n",
            "안양역 주변 식당 좀 알려주라.\n",
            "안양역 근처에 카페 좀 알려주라.\n",
            "홍대역 맛집 좀 알려주라.\n",
            "홍대역 카페 좀 알려주라.\n",
            "동대문역 주변 음식점 좀 알려주라.\n",
            "동대문역 주변 카페 좀 알려주라.\n",
            "어떤 거 있니? --------\n",
            "이대역 근처 카페 어떤 거 있니?\n",
            "이대역 맛집 어떤 거 있니?\n",
            "여의도역 주변 식당 어떤 거 있니?\n",
            "여의도역 유명한 맛집 어떤 거 있니?\n",
            "신촌역 괜찮은 식당 어떤 거 있니?\n",
            "신촌역 카페 어떤 거 있니?\n",
            "안양역 주변 식당 어떤 거 있니?\n",
            "안양역 근처에 카페 어떤 거 있니?\n",
            "홍대역 맛집 어떤 거 있니?\n",
            "홍대역 카페 어떤 거 있니?\n",
            "동대문역 주변 음식점 어떤 거 있니?\n",
            "동대문역 주변 카페 어떤 거 있니?\n",
            "어떤 거 있는지 알려줄 수 있니? --------\n",
            "이대역 근처 카페 어떤 거 있는지 알려줄 수 있니?\n",
            "이대역 맛집 어떤 거 있는지 알려줄 수 있니?\n",
            "여의도역 주변 식당 어떤 거 있는지 알려줄 수 있니?\n",
            "여의도역 유명한 맛집 어떤 거 있는지 알려줄 수 있니?\n",
            "신촌역 괜찮은 식당 어떤 거 있는지 알려줄 수 있니?\n",
            "신촌역 카페 어떤 거 있는지 알려줄 수 있니?\n",
            "안양역 주변 식당 어떤 거 있는지 알려줄 수 있니?\n",
            "안양역 근처에 카페 어떤 거 있는지 알려줄 수 있니?\n",
            "홍대역 맛집 어떤 거 있는지 알려줄 수 있니?\n",
            "홍대역 카페 어떤 거 있는지 알려줄 수 있니?\n",
            "동대문역 주변 음식점 어떤 거 있는지 알려줄 수 있니?\n",
            "동대문역 주변 카페 어떤 거 있는지 알려줄 수 있니?\n",
            "좀 알려줘. --------\n",
            "이대역 근처 카페 좀 알려줘.\n",
            "이대역 맛집 좀 알려줘.\n",
            "여의도역 주변 식당 좀 알려줘.\n",
            "여의도역 유명한 맛집 좀 알려줘.\n",
            "신촌역 괜찮은 식당 좀 알려줘.\n",
            "신촌역 카페 좀 알려줘.\n",
            "안양역 주변 식당 좀 알려줘.\n",
            "안양역 근처에 카페 좀 알려줘.\n",
            "홍대역 맛집 좀 알려줘.\n",
            "홍대역 카페 좀 알려줘.\n",
            "동대문역 주변 음식점 좀 알려줘.\n",
            "동대문역 주변 카페 좀 알려줘.\n",
            "어디가 괜찮아? --------\n",
            "이대역 근처 카페 어디가 괜찮아?\n",
            "이대역 맛집 어디가 괜찮아?\n",
            "여의도역 주변 식당 어디가 괜찮아?\n",
            "여의도역 유명한 맛집 어디가 괜찮아?\n",
            "신촌역 괜찮은 식당 어디가 괜찮아?\n",
            "신촌역 카페 어디가 괜찮아?\n",
            "안양역 주변 식당 어디가 괜찮아?\n",
            "안양역 근처에 카페 어디가 괜찮아?\n",
            "홍대역 맛집 어디가 괜찮아?\n",
            "홍대역 카페 어디가 괜찮아?\n",
            "동대문역 주변 음식점 어디가 괜찮아?\n",
            "동대문역 주변 카페 어디가 괜찮아?\n",
            "어떤 데가 좋아? --------\n",
            "이대역 근처 카페 어떤 데가 좋아?\n",
            "이대역 맛집 어떤 데가 좋아?\n",
            "여의도역 주변 식당 어떤 데가 좋아?\n",
            "여의도역 유명한 맛집 어떤 데가 좋아?\n",
            "신촌역 괜찮은 식당 어떤 데가 좋아?\n",
            "신촌역 카페 어떤 데가 좋아?\n",
            "안양역 주변 식당 어떤 데가 좋아?\n",
            "안양역 근처에 카페 어떤 데가 좋아?\n",
            "홍대역 맛집 어떤 데가 좋아?\n",
            "홍대역 카페 어떤 데가 좋아?\n",
            "동대문역 주변 음식점 어떤 데가 좋아?\n",
            "동대문역 주변 카페 어떤 데가 좋아?\n"
          ]
        }
      ]
    },
    {
      "cell_type": "code",
      "source": [
        "#다양한 조합으로 \n",
        "p = re.compile( #컴파일할 패턴\n",
        "result =  #코드를 작성하세요\n",
        "\n",
        "for one in result:\n",
        "  print(one,'--------')\n",
        "  result = #코드를 작성하세요\n",
        "  print(result)"
      ],
      "metadata": {
        "colab": {
          "base_uri": "https://localhost:8080/"
        },
        "id": "uUe7REjQfTjS",
        "outputId": "51e5dc74-4c5d-4afb-d19e-e08d897b6e4a"
      },
      "execution_count": null,
      "outputs": [
        {
          "output_type": "stream",
          "name": "stdout",
          "text": [
            "['근처 카페', '맛집', '주변 식당', '유명한 맛집', '괜찮은 식당', '카페', '주변 식당', '근처에 카페', '맛집', '카페', '주변 음식점', '주변 카페']\n",
            "\n",
            "근처 카페 --------\n",
            "이대역 근처 카페 좀 알려줘.\n",
            "이대역 근처 카페 좀 알려줄 수 있니.\n",
            "여의도역 근처 카페 좀 알려줘.\n",
            "여의도역 근처 카페 좀 알려줄 수 있니.\n",
            "신촌역 근처 카페 어떤 거 있니?\n",
            "신촌역 근처 카페 어디 있어?\n",
            "안양역 근처 카페 어떤 데가 좋아?\n",
            "안양역 근처 카페 어떤 거 있는지 알려줄 수 있니?\n",
            "홍대역 근처 카페 어디 있어?\n",
            "홍대역 근처 카페 어디가 괜찮아?\n",
            "동대문역 근처 카페 좀 알려줘.\n",
            "동대문역 근처 카페 좀 알려주라.\n",
            "맛집 --------\n",
            "이대역 맛집 좀 알려줘.\n",
            "이대역 맛집 좀 알려줄 수 있니.\n",
            "여의도역 맛집 좀 알려줘.\n",
            "여의도역 맛집 좀 알려줄 수 있니.\n",
            "신촌역 맛집 어떤 거 있니?\n",
            "신촌역 맛집 어디 있어?\n",
            "안양역 맛집 어떤 데가 좋아?\n",
            "안양역 맛집 어떤 거 있는지 알려줄 수 있니?\n",
            "홍대역 맛집 어디 있어?\n",
            "홍대역 맛집 어디가 괜찮아?\n",
            "동대문역 맛집 좀 알려줘.\n",
            "동대문역 맛집 좀 알려주라.\n",
            "주변 식당 --------\n",
            "이대역 주변 식당 좀 알려줘.\n",
            "이대역 주변 식당 좀 알려줄 수 있니.\n",
            "여의도역 주변 식당 좀 알려줘.\n",
            "여의도역 주변 식당 좀 알려줄 수 있니.\n",
            "신촌역 주변 식당 어떤 거 있니?\n",
            "신촌역 주변 식당 어디 있어?\n",
            "안양역 주변 식당 어떤 데가 좋아?\n",
            "안양역 주변 식당 어떤 거 있는지 알려줄 수 있니?\n",
            "홍대역 주변 식당 어디 있어?\n",
            "홍대역 주변 식당 어디가 괜찮아?\n",
            "동대문역 주변 식당 좀 알려줘.\n",
            "동대문역 주변 식당 좀 알려주라.\n",
            "유명한 맛집 --------\n",
            "이대역 유명한 맛집 좀 알려줘.\n",
            "이대역 유명한 맛집 좀 알려줄 수 있니.\n",
            "여의도역 유명한 맛집 좀 알려줘.\n",
            "여의도역 유명한 맛집 좀 알려줄 수 있니.\n",
            "신촌역 유명한 맛집 어떤 거 있니?\n",
            "신촌역 유명한 맛집 어디 있어?\n",
            "안양역 유명한 맛집 어떤 데가 좋아?\n",
            "안양역 유명한 맛집 어떤 거 있는지 알려줄 수 있니?\n",
            "홍대역 유명한 맛집 어디 있어?\n",
            "홍대역 유명한 맛집 어디가 괜찮아?\n",
            "동대문역 유명한 맛집 좀 알려줘.\n",
            "동대문역 유명한 맛집 좀 알려주라.\n",
            "괜찮은 식당 --------\n",
            "이대역 괜찮은 식당 좀 알려줘.\n",
            "이대역 괜찮은 식당 좀 알려줄 수 있니.\n",
            "여의도역 괜찮은 식당 좀 알려줘.\n",
            "여의도역 괜찮은 식당 좀 알려줄 수 있니.\n",
            "신촌역 괜찮은 식당 어떤 거 있니?\n",
            "신촌역 괜찮은 식당 어디 있어?\n",
            "안양역 괜찮은 식당 어떤 데가 좋아?\n",
            "안양역 괜찮은 식당 어떤 거 있는지 알려줄 수 있니?\n",
            "홍대역 괜찮은 식당 어디 있어?\n",
            "홍대역 괜찮은 식당 어디가 괜찮아?\n",
            "동대문역 괜찮은 식당 좀 알려줘.\n",
            "동대문역 괜찮은 식당 좀 알려주라.\n",
            "카페 --------\n",
            "이대역 카페 좀 알려줘.\n",
            "이대역 카페 좀 알려줄 수 있니.\n",
            "여의도역 카페 좀 알려줘.\n",
            "여의도역 카페 좀 알려줄 수 있니.\n",
            "신촌역 카페 어떤 거 있니?\n",
            "신촌역 카페 어디 있어?\n",
            "안양역 카페 어떤 데가 좋아?\n",
            "안양역 카페 어떤 거 있는지 알려줄 수 있니?\n",
            "홍대역 카페 어디 있어?\n",
            "홍대역 카페 어디가 괜찮아?\n",
            "동대문역 카페 좀 알려줘.\n",
            "동대문역 카페 좀 알려주라.\n",
            "주변 식당 --------\n",
            "이대역 주변 식당 좀 알려줘.\n",
            "이대역 주변 식당 좀 알려줄 수 있니.\n",
            "여의도역 주변 식당 좀 알려줘.\n",
            "여의도역 주변 식당 좀 알려줄 수 있니.\n",
            "신촌역 주변 식당 어떤 거 있니?\n",
            "신촌역 주변 식당 어디 있어?\n",
            "안양역 주변 식당 어떤 데가 좋아?\n",
            "안양역 주변 식당 어떤 거 있는지 알려줄 수 있니?\n",
            "홍대역 주변 식당 어디 있어?\n",
            "홍대역 주변 식당 어디가 괜찮아?\n",
            "동대문역 주변 식당 좀 알려줘.\n",
            "동대문역 주변 식당 좀 알려주라.\n",
            "근처에 카페 --------\n",
            "이대역 근처에 카페 좀 알려줘.\n",
            "이대역 근처에 카페 좀 알려줄 수 있니.\n",
            "여의도역 근처에 카페 좀 알려줘.\n",
            "여의도역 근처에 카페 좀 알려줄 수 있니.\n",
            "신촌역 근처에 카페 어떤 거 있니?\n",
            "신촌역 근처에 카페 어디 있어?\n",
            "안양역 근처에 카페 어떤 데가 좋아?\n",
            "안양역 근처에 카페 어떤 거 있는지 알려줄 수 있니?\n",
            "홍대역 근처에 카페 어디 있어?\n",
            "홍대역 근처에 카페 어디가 괜찮아?\n",
            "동대문역 근처에 카페 좀 알려줘.\n",
            "동대문역 근처에 카페 좀 알려주라.\n",
            "맛집 --------\n",
            "이대역 맛집 좀 알려줘.\n",
            "이대역 맛집 좀 알려줄 수 있니.\n",
            "여의도역 맛집 좀 알려줘.\n",
            "여의도역 맛집 좀 알려줄 수 있니.\n",
            "신촌역 맛집 어떤 거 있니?\n",
            "신촌역 맛집 어디 있어?\n",
            "안양역 맛집 어떤 데가 좋아?\n",
            "안양역 맛집 어떤 거 있는지 알려줄 수 있니?\n",
            "홍대역 맛집 어디 있어?\n",
            "홍대역 맛집 어디가 괜찮아?\n",
            "동대문역 맛집 좀 알려줘.\n",
            "동대문역 맛집 좀 알려주라.\n",
            "카페 --------\n",
            "이대역 카페 좀 알려줘.\n",
            "이대역 카페 좀 알려줄 수 있니.\n",
            "여의도역 카페 좀 알려줘.\n",
            "여의도역 카페 좀 알려줄 수 있니.\n",
            "신촌역 카페 어떤 거 있니?\n",
            "신촌역 카페 어디 있어?\n",
            "안양역 카페 어떤 데가 좋아?\n",
            "안양역 카페 어떤 거 있는지 알려줄 수 있니?\n",
            "홍대역 카페 어디 있어?\n",
            "홍대역 카페 어디가 괜찮아?\n",
            "동대문역 카페 좀 알려줘.\n",
            "동대문역 카페 좀 알려주라.\n",
            "주변 음식점 --------\n",
            "이대역 주변 음식점 좀 알려줘.\n",
            "이대역 주변 음식점 좀 알려줄 수 있니.\n",
            "여의도역 주변 음식점 좀 알려줘.\n",
            "여의도역 주변 음식점 좀 알려줄 수 있니.\n",
            "신촌역 주변 음식점 어떤 거 있니?\n",
            "신촌역 주변 음식점 어디 있어?\n",
            "안양역 주변 음식점 어떤 데가 좋아?\n",
            "안양역 주변 음식점 어떤 거 있는지 알려줄 수 있니?\n",
            "홍대역 주변 음식점 어디 있어?\n",
            "홍대역 주변 음식점 어디가 괜찮아?\n",
            "동대문역 주변 음식점 좀 알려줘.\n",
            "동대문역 주변 음식점 좀 알려주라.\n",
            "주변 카페 --------\n",
            "이대역 주변 카페 좀 알려줘.\n",
            "이대역 주변 카페 좀 알려줄 수 있니.\n",
            "여의도역 주변 카페 좀 알려줘.\n",
            "여의도역 주변 카페 좀 알려줄 수 있니.\n",
            "신촌역 주변 카페 어떤 거 있니?\n",
            "신촌역 주변 카페 어디 있어?\n",
            "안양역 주변 카페 어떤 데가 좋아?\n",
            "안양역 주변 카페 어떤 거 있는지 알려줄 수 있니?\n",
            "홍대역 주변 카페 어디 있어?\n",
            "홍대역 주변 카페 어디가 괜찮아?\n",
            "동대문역 주변 카페 좀 알려줘.\n",
            "동대문역 주변 카페 좀 알려주라.\n"
          ]
        }
      ]
    },
    {
      "cell_type": "code",
      "source": [],
      "metadata": {
        "id": "-weym9wrlLxY"
      },
      "execution_count": null,
      "outputs": []
    }
  ],
  "metadata": {
    "colab": {
      "collapsed_sections": [],
      "provenance": [],
      "toc_visible": true
    },
    "kernelspec": {
      "display_name": "Python 3",
      "name": "python3"
    },
    "language_info": {
      "name": "python"
    }
  },
  "nbformat": 4,
  "nbformat_minor": 0
}